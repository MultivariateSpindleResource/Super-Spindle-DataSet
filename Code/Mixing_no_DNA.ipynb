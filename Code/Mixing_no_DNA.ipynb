{
 "cells": [
  {
   "cell_type": "markdown",
   "metadata": {},
   "source": [
    "This notebook addresses multivariate analysis for extract mixing experiments. All images were passed through the pipeline reported in this paper. In this notebook, we have focused on demonstrating, how one can pick most interesting variables from a multivariate data set. To run the notebook with your own input, just substitute the respective paths.    \n",
    "     \n",
    "Interesting questions:   \n",
    "* how will classifier handle the mixing situation if we removed chromatin related features? \n",
    "* which variables distinguish CSF and STG8 spindles best? (chromatin and DNA related features perform best)  \n",
    "    * how well will the classification perform if the chromatin/DNA related features are removed\n",
    "* is this difference step-like or gradual? (for all? for some?)\n",
    "* have a look at the spindles that get misclassified; do they tell you something? (not many do)\n",
    "* are the same features **low variance features** in all experiments (compare with the other three cases we are investigating)\n"
   ]
  },
  {
   "cell_type": "markdown",
   "metadata": {},
   "source": [
    "####Table of contents:   \n",
    "1. Data folder  \n",
    "2. Dataset preparation\n",
    "    * building the dataset (subsample CSF - it is unbalanced at the moment; approach 1 - hard split)\n",
    "    * feature removal (missing values-only and zero-variance), feature engineering (Euclidian distance)\n",
    "    * feature transformation\n",
    "    * feature selection, predictor importance (F-test, Kruskal-Wallis, KS, tree, RFE)    \n",
    "3. Classification models: CSF and STG8\n",
    "2. Feature description and pre-processing    \n",
    "3. Feature selection and engineering    \n"
   ]
  },
  {
   "cell_type": "markdown",
   "metadata": {},
   "source": [
    "#I. Data folder"
   ]
  },
  {
   "cell_type": "code",
   "execution_count": 1,
   "metadata": {
    "collapsed": false
   },
   "outputs": [
    {
     "name": "stdout",
     "output_type": "stream",
     "text": [
      "DefaultDB.db                 MyExpt_FilteredChromatin.csv\r\n",
      "DefaultDB_MyExpt.properties  MyExpt_FilteredSpindles.csv\r\n",
      "DefaultOUT.h5                MyExpt_Image.csv\r\n",
      "MyExpt_Chromatin.csv         MyExpt_PreSpindles.csv\r\n",
      "MyExpt_Experiment.csv        MyExpt_Spindles.csv\r\n"
     ]
    }
   ],
   "source": [
    "!ls ../../A_PAPER2_PIPELINE/STG8_CSF_Mixing/"
   ]
  },
  {
   "cell_type": "markdown",
   "metadata": {},
   "source": [
    "If you open any of the csv files in Excel and click any of the cells outside the data cells, they will become active and Unix commands will pick them up as your data dimensions (same for the Python libraries reading in the data)."
   ]
  },
  {
   "cell_type": "code",
   "execution_count": 2,
   "metadata": {
    "collapsed": false
   },
   "outputs": [],
   "source": [
    "#!head -n2 ../../A_PAPER2_PIPELINE/STG8_CSF_Mixing/MyExpt_FilteredSpindles.csv | awk 'BEGIN{FS=\",\"}{print NF}'"
   ]
  },
  {
   "cell_type": "markdown",
   "metadata": {},
   "source": [
    "#II. Dataset preparation    \n",
    "##Building dataset\n",
    "STG data comes from the STG8 (800). CSF data comes from the 'complete' data set. All mixing experiments come from the ST8_CSF_mixing.\n"
   ]
  },
  {
   "cell_type": "code",
   "execution_count": 3,
   "metadata": {
    "collapsed": false
   },
   "outputs": [],
   "source": [
    "import pandas as pd\n",
    "import numpy as np\n",
    "import matplotlib.pyplot as plt\n",
    "import re\n",
    "pd.set_option('display.mpl_style','default')\n",
    "from matplotlib.backends.backend_pdf import PdfPages\n",
    "\n",
    "\n",
    "\n",
    "import sklearn\n",
    "\n",
    "%load_ext rpy2.ipython\n",
    "%matplotlib inline"
   ]
  },
  {
   "cell_type": "markdown",
   "metadata": {},
   "source": [
    "Columns ObjectNumber and Number_Object_Number are identical in df_mix."
   ]
  },
  {
   "cell_type": "code",
   "execution_count": 4,
   "metadata": {
    "collapsed": false
   },
   "outputs": [],
   "source": [
    "df_mix=pd.read_csv('../../A_PAPER2_PIPELINE/STG8_CSF_Mixing/MyExpt_FilteredSpindles.csv')\n",
    "df_STG8=pd.read_csv('../../A_PAPER2_PIPELINE/STG8/CoO05_Stream_STG8/MyExpt_FilteredSpindles.csv')\n",
    "meta=pd.read_table('../Data/columns_meta.txt',header=None,names=['meta_columns'])\n",
    "df_complete=pd.read_csv('../../A_PAPER2_PIPELINE/Complete Dataset/Dataset/MyExpt_FilteredSpindles.csv')"
   ]
  },
  {
   "cell_type": "markdown",
   "metadata": {
    "collapsed": true
   },
   "source": [
    "The **target** column should be **Metadata_Treatment** or **Metadata_Type**."
   ]
  },
  {
   "cell_type": "code",
   "execution_count": 5,
   "metadata": {
    "collapsed": false
   },
   "outputs": [
    {
     "data": {
      "text/plain": [
       "array([800, 850, 875, 890])"
      ]
     },
     "execution_count": 5,
     "metadata": {},
     "output_type": "execute_result"
    }
   ],
   "source": [
    "np.unique(df_mix['Metadata_Treatment'])"
   ]
  },
  {
   "cell_type": "code",
   "execution_count": 6,
   "metadata": {
    "collapsed": false
   },
   "outputs": [
    {
     "data": {
      "text/plain": [
       "array(['STG'], dtype=object)"
      ]
     },
     "execution_count": 6,
     "metadata": {},
     "output_type": "execute_result"
    }
   ],
   "source": [
    "np.unique(df_mix['Metadata_Type'])"
   ]
  },
  {
   "cell_type": "code",
   "execution_count": 7,
   "metadata": {
    "collapsed": false
   },
   "outputs": [
    {
     "data": {
      "text/plain": [
       "array(['Exp14', 'Exp16'], dtype=object)"
      ]
     },
     "execution_count": 7,
     "metadata": {},
     "output_type": "execute_result"
    }
   ],
   "source": [
    "np.unique(df_mix['Metadata_Experiment'])"
   ]
  },
  {
   "cell_type": "code",
   "execution_count": 8,
   "metadata": {
    "collapsed": false
   },
   "outputs": [
    {
     "data": {
      "text/html": [
       "<div style=\"max-height:1000px;max-width:1500px;overflow:auto;\">\n",
       "<table border=\"1\" class=\"dataframe\">\n",
       "  <thead>\n",
       "    <tr style=\"text-align: right;\">\n",
       "      <th></th>\n",
       "      <th></th>\n",
       "      <th>ImageNumber</th>\n",
       "      <th>ObjectNumber</th>\n",
       "      <th>Metadata_Experimenter</th>\n",
       "      <th>Metadata_FileLocation</th>\n",
       "      <th>Metadata_Frame</th>\n",
       "      <th>Metadata_Series</th>\n",
       "      <th>Metadata_Set</th>\n",
       "      <th>Metadata_Type</th>\n",
       "      <th>Metadata_cvsp</th>\n",
       "      <th>AreaShape_Area</th>\n",
       "      <th>...</th>\n",
       "      <th>Mean_FilteredChromatin_Location_Center_X</th>\n",
       "      <th>Mean_FilteredChromatin_Location_Center_Y</th>\n",
       "      <th>Mean_FilteredChromatin_Location_MaxIntensity_X_DNA</th>\n",
       "      <th>Mean_FilteredChromatin_Location_MaxIntensity_X_Rhodamine</th>\n",
       "      <th>Mean_FilteredChromatin_Location_MaxIntensity_Y_DNA</th>\n",
       "      <th>Mean_FilteredChromatin_Location_MaxIntensity_Y_Rhodamine</th>\n",
       "      <th>Mean_FilteredChromatin_Number_Object_Number</th>\n",
       "      <th>Number_Object_Number</th>\n",
       "      <th>Parent_Spindles</th>\n",
       "      <th>Unnamed: 203</th>\n",
       "    </tr>\n",
       "    <tr>\n",
       "      <th>Metadata_Experiment</th>\n",
       "      <th>Metadata_Treatment</th>\n",
       "      <th></th>\n",
       "      <th></th>\n",
       "      <th></th>\n",
       "      <th></th>\n",
       "      <th></th>\n",
       "      <th></th>\n",
       "      <th></th>\n",
       "      <th></th>\n",
       "      <th></th>\n",
       "      <th></th>\n",
       "      <th></th>\n",
       "      <th></th>\n",
       "      <th></th>\n",
       "      <th></th>\n",
       "      <th></th>\n",
       "      <th></th>\n",
       "      <th></th>\n",
       "      <th></th>\n",
       "      <th></th>\n",
       "      <th></th>\n",
       "      <th></th>\n",
       "    </tr>\n",
       "  </thead>\n",
       "  <tbody>\n",
       "    <tr>\n",
       "      <th rowspan=\"4\" valign=\"top\">Exp14</th>\n",
       "      <th>800</th>\n",
       "      <td>147</td>\n",
       "      <td>147</td>\n",
       "      <td>147</td>\n",
       "      <td>0</td>\n",
       "      <td>147</td>\n",
       "      <td>147</td>\n",
       "      <td>147</td>\n",
       "      <td>147</td>\n",
       "      <td>147</td>\n",
       "      <td>147</td>\n",
       "      <td>...</td>\n",
       "      <td>147</td>\n",
       "      <td>147</td>\n",
       "      <td>147</td>\n",
       "      <td>147</td>\n",
       "      <td>147</td>\n",
       "      <td>147</td>\n",
       "      <td>147</td>\n",
       "      <td>147</td>\n",
       "      <td>147</td>\n",
       "      <td>0</td>\n",
       "    </tr>\n",
       "    <tr>\n",
       "      <th>850</th>\n",
       "      <td>69</td>\n",
       "      <td>69</td>\n",
       "      <td>69</td>\n",
       "      <td>0</td>\n",
       "      <td>69</td>\n",
       "      <td>69</td>\n",
       "      <td>69</td>\n",
       "      <td>69</td>\n",
       "      <td>69</td>\n",
       "      <td>69</td>\n",
       "      <td>...</td>\n",
       "      <td>69</td>\n",
       "      <td>69</td>\n",
       "      <td>69</td>\n",
       "      <td>69</td>\n",
       "      <td>69</td>\n",
       "      <td>69</td>\n",
       "      <td>69</td>\n",
       "      <td>69</td>\n",
       "      <td>69</td>\n",
       "      <td>0</td>\n",
       "    </tr>\n",
       "    <tr>\n",
       "      <th>875</th>\n",
       "      <td>100</td>\n",
       "      <td>100</td>\n",
       "      <td>100</td>\n",
       "      <td>0</td>\n",
       "      <td>100</td>\n",
       "      <td>100</td>\n",
       "      <td>100</td>\n",
       "      <td>100</td>\n",
       "      <td>100</td>\n",
       "      <td>100</td>\n",
       "      <td>...</td>\n",
       "      <td>100</td>\n",
       "      <td>100</td>\n",
       "      <td>100</td>\n",
       "      <td>100</td>\n",
       "      <td>100</td>\n",
       "      <td>100</td>\n",
       "      <td>100</td>\n",
       "      <td>100</td>\n",
       "      <td>100</td>\n",
       "      <td>0</td>\n",
       "    </tr>\n",
       "    <tr>\n",
       "      <th>890</th>\n",
       "      <td>105</td>\n",
       "      <td>105</td>\n",
       "      <td>105</td>\n",
       "      <td>0</td>\n",
       "      <td>105</td>\n",
       "      <td>105</td>\n",
       "      <td>105</td>\n",
       "      <td>105</td>\n",
       "      <td>105</td>\n",
       "      <td>105</td>\n",
       "      <td>...</td>\n",
       "      <td>105</td>\n",
       "      <td>105</td>\n",
       "      <td>105</td>\n",
       "      <td>105</td>\n",
       "      <td>105</td>\n",
       "      <td>105</td>\n",
       "      <td>105</td>\n",
       "      <td>105</td>\n",
       "      <td>105</td>\n",
       "      <td>0</td>\n",
       "    </tr>\n",
       "    <tr>\n",
       "      <th rowspan=\"4\" valign=\"top\">Exp16</th>\n",
       "      <th>800</th>\n",
       "      <td>100</td>\n",
       "      <td>100</td>\n",
       "      <td>100</td>\n",
       "      <td>0</td>\n",
       "      <td>100</td>\n",
       "      <td>100</td>\n",
       "      <td>100</td>\n",
       "      <td>100</td>\n",
       "      <td>100</td>\n",
       "      <td>100</td>\n",
       "      <td>...</td>\n",
       "      <td>100</td>\n",
       "      <td>100</td>\n",
       "      <td>100</td>\n",
       "      <td>100</td>\n",
       "      <td>100</td>\n",
       "      <td>100</td>\n",
       "      <td>100</td>\n",
       "      <td>100</td>\n",
       "      <td>100</td>\n",
       "      <td>0</td>\n",
       "    </tr>\n",
       "    <tr>\n",
       "      <th>850</th>\n",
       "      <td>148</td>\n",
       "      <td>148</td>\n",
       "      <td>148</td>\n",
       "      <td>0</td>\n",
       "      <td>148</td>\n",
       "      <td>148</td>\n",
       "      <td>148</td>\n",
       "      <td>148</td>\n",
       "      <td>148</td>\n",
       "      <td>148</td>\n",
       "      <td>...</td>\n",
       "      <td>148</td>\n",
       "      <td>148</td>\n",
       "      <td>148</td>\n",
       "      <td>148</td>\n",
       "      <td>148</td>\n",
       "      <td>148</td>\n",
       "      <td>148</td>\n",
       "      <td>148</td>\n",
       "      <td>148</td>\n",
       "      <td>0</td>\n",
       "    </tr>\n",
       "    <tr>\n",
       "      <th>875</th>\n",
       "      <td>274</td>\n",
       "      <td>274</td>\n",
       "      <td>274</td>\n",
       "      <td>0</td>\n",
       "      <td>274</td>\n",
       "      <td>274</td>\n",
       "      <td>274</td>\n",
       "      <td>274</td>\n",
       "      <td>274</td>\n",
       "      <td>274</td>\n",
       "      <td>...</td>\n",
       "      <td>274</td>\n",
       "      <td>274</td>\n",
       "      <td>274</td>\n",
       "      <td>274</td>\n",
       "      <td>274</td>\n",
       "      <td>274</td>\n",
       "      <td>274</td>\n",
       "      <td>274</td>\n",
       "      <td>274</td>\n",
       "      <td>0</td>\n",
       "    </tr>\n",
       "    <tr>\n",
       "      <th>890</th>\n",
       "      <td>247</td>\n",
       "      <td>247</td>\n",
       "      <td>247</td>\n",
       "      <td>0</td>\n",
       "      <td>247</td>\n",
       "      <td>247</td>\n",
       "      <td>247</td>\n",
       "      <td>247</td>\n",
       "      <td>247</td>\n",
       "      <td>247</td>\n",
       "      <td>...</td>\n",
       "      <td>247</td>\n",
       "      <td>247</td>\n",
       "      <td>247</td>\n",
       "      <td>247</td>\n",
       "      <td>247</td>\n",
       "      <td>247</td>\n",
       "      <td>247</td>\n",
       "      <td>247</td>\n",
       "      <td>247</td>\n",
       "      <td>0</td>\n",
       "    </tr>\n",
       "  </tbody>\n",
       "</table>\n",
       "<p>8 rows × 202 columns</p>\n",
       "</div>"
      ],
      "text/plain": [
       "                                        ImageNumber  ObjectNumber  \\\n",
       "Metadata_Experiment Metadata_Treatment                              \n",
       "Exp14               800                         147           147   \n",
       "                    850                          69            69   \n",
       "                    875                         100           100   \n",
       "                    890                         105           105   \n",
       "Exp16               800                         100           100   \n",
       "                    850                         148           148   \n",
       "                    875                         274           274   \n",
       "                    890                         247           247   \n",
       "\n",
       "                                        Metadata_Experimenter  \\\n",
       "Metadata_Experiment Metadata_Treatment                          \n",
       "Exp14               800                                   147   \n",
       "                    850                                    69   \n",
       "                    875                                   100   \n",
       "                    890                                   105   \n",
       "Exp16               800                                   100   \n",
       "                    850                                   148   \n",
       "                    875                                   274   \n",
       "                    890                                   247   \n",
       "\n",
       "                                        Metadata_FileLocation  Metadata_Frame  \\\n",
       "Metadata_Experiment Metadata_Treatment                                          \n",
       "Exp14               800                                     0             147   \n",
       "                    850                                     0              69   \n",
       "                    875                                     0             100   \n",
       "                    890                                     0             105   \n",
       "Exp16               800                                     0             100   \n",
       "                    850                                     0             148   \n",
       "                    875                                     0             274   \n",
       "                    890                                     0             247   \n",
       "\n",
       "                                        Metadata_Series  Metadata_Set  \\\n",
       "Metadata_Experiment Metadata_Treatment                                  \n",
       "Exp14               800                             147           147   \n",
       "                    850                              69            69   \n",
       "                    875                             100           100   \n",
       "                    890                             105           105   \n",
       "Exp16               800                             100           100   \n",
       "                    850                             148           148   \n",
       "                    875                             274           274   \n",
       "                    890                             247           247   \n",
       "\n",
       "                                        Metadata_Type  Metadata_cvsp  \\\n",
       "Metadata_Experiment Metadata_Treatment                                 \n",
       "Exp14               800                           147            147   \n",
       "                    850                            69             69   \n",
       "                    875                           100            100   \n",
       "                    890                           105            105   \n",
       "Exp16               800                           100            100   \n",
       "                    850                           148            148   \n",
       "                    875                           274            274   \n",
       "                    890                           247            247   \n",
       "\n",
       "                                        AreaShape_Area      ...       \\\n",
       "Metadata_Experiment Metadata_Treatment                      ...        \n",
       "Exp14               800                            147      ...        \n",
       "                    850                             69      ...        \n",
       "                    875                            100      ...        \n",
       "                    890                            105      ...        \n",
       "Exp16               800                            100      ...        \n",
       "                    850                            148      ...        \n",
       "                    875                            274      ...        \n",
       "                    890                            247      ...        \n",
       "\n",
       "                                        Mean_FilteredChromatin_Location_Center_X  \\\n",
       "Metadata_Experiment Metadata_Treatment                                             \n",
       "Exp14               800                                                      147   \n",
       "                    850                                                       69   \n",
       "                    875                                                      100   \n",
       "                    890                                                      105   \n",
       "Exp16               800                                                      100   \n",
       "                    850                                                      148   \n",
       "                    875                                                      274   \n",
       "                    890                                                      247   \n",
       "\n",
       "                                        Mean_FilteredChromatin_Location_Center_Y  \\\n",
       "Metadata_Experiment Metadata_Treatment                                             \n",
       "Exp14               800                                                      147   \n",
       "                    850                                                       69   \n",
       "                    875                                                      100   \n",
       "                    890                                                      105   \n",
       "Exp16               800                                                      100   \n",
       "                    850                                                      148   \n",
       "                    875                                                      274   \n",
       "                    890                                                      247   \n",
       "\n",
       "                                        Mean_FilteredChromatin_Location_MaxIntensity_X_DNA  \\\n",
       "Metadata_Experiment Metadata_Treatment                                                       \n",
       "Exp14               800                                                               147    \n",
       "                    850                                                                69    \n",
       "                    875                                                               100    \n",
       "                    890                                                               105    \n",
       "Exp16               800                                                               100    \n",
       "                    850                                                               148    \n",
       "                    875                                                               274    \n",
       "                    890                                                               247    \n",
       "\n",
       "                                        Mean_FilteredChromatin_Location_MaxIntensity_X_Rhodamine  \\\n",
       "Metadata_Experiment Metadata_Treatment                                                             \n",
       "Exp14               800                                                               147          \n",
       "                    850                                                                69          \n",
       "                    875                                                               100          \n",
       "                    890                                                               105          \n",
       "Exp16               800                                                               100          \n",
       "                    850                                                               148          \n",
       "                    875                                                               274          \n",
       "                    890                                                               247          \n",
       "\n",
       "                                        Mean_FilteredChromatin_Location_MaxIntensity_Y_DNA  \\\n",
       "Metadata_Experiment Metadata_Treatment                                                       \n",
       "Exp14               800                                                               147    \n",
       "                    850                                                                69    \n",
       "                    875                                                               100    \n",
       "                    890                                                               105    \n",
       "Exp16               800                                                               100    \n",
       "                    850                                                               148    \n",
       "                    875                                                               274    \n",
       "                    890                                                               247    \n",
       "\n",
       "                                        Mean_FilteredChromatin_Location_MaxIntensity_Y_Rhodamine  \\\n",
       "Metadata_Experiment Metadata_Treatment                                                             \n",
       "Exp14               800                                                               147          \n",
       "                    850                                                                69          \n",
       "                    875                                                               100          \n",
       "                    890                                                               105          \n",
       "Exp16               800                                                               100          \n",
       "                    850                                                               148          \n",
       "                    875                                                               274          \n",
       "                    890                                                               247          \n",
       "\n",
       "                                        Mean_FilteredChromatin_Number_Object_Number  \\\n",
       "Metadata_Experiment Metadata_Treatment                                                \n",
       "Exp14               800                                                         147   \n",
       "                    850                                                          69   \n",
       "                    875                                                         100   \n",
       "                    890                                                         105   \n",
       "Exp16               800                                                         100   \n",
       "                    850                                                         148   \n",
       "                    875                                                         274   \n",
       "                    890                                                         247   \n",
       "\n",
       "                                        Number_Object_Number  Parent_Spindles  \\\n",
       "Metadata_Experiment Metadata_Treatment                                          \n",
       "Exp14               800                                  147              147   \n",
       "                    850                                   69               69   \n",
       "                    875                                  100              100   \n",
       "                    890                                  105              105   \n",
       "Exp16               800                                  100              100   \n",
       "                    850                                  148              148   \n",
       "                    875                                  274              274   \n",
       "                    890                                  247              247   \n",
       "\n",
       "                                        Unnamed: 203  \n",
       "Metadata_Experiment Metadata_Treatment                \n",
       "Exp14               800                            0  \n",
       "                    850                            0  \n",
       "                    875                            0  \n",
       "                    890                            0  \n",
       "Exp16               800                            0  \n",
       "                    850                            0  \n",
       "                    875                            0  \n",
       "                    890                            0  \n",
       "\n",
       "[8 rows x 202 columns]"
      ]
     },
     "execution_count": 8,
     "metadata": {},
     "output_type": "execute_result"
    }
   ],
   "source": [
    "df_mix.groupby(['Metadata_Experiment','Metadata_Treatment']).count()"
   ]
  },
  {
   "cell_type": "code",
   "execution_count": 9,
   "metadata": {
    "collapsed": false
   },
   "outputs": [],
   "source": [
    "df_mix.drop(df_mix.columns[-1],axis=1, inplace=True)"
   ]
  },
  {
   "cell_type": "markdown",
   "metadata": {},
   "source": [
    "The above dataframe (df) contains the mixing data (4 middle panels), \n",
    "Order:  \n",
    "* 800 - 100% Stage 8\n",
    "* 890 - 90% Stage 8\n",
    "* 875 - 75% Stage 8\n",
    "* 850 - 50% Stage 8    \n",
    "     \n",
    "For the 'population' conditions, we'll take the MEC-STG-800 from STG8 dataframe (df_STG8) and all CSF from complete dataset (df_complete).\n",
    "\n",
    "\n"
   ]
  },
  {
   "cell_type": "markdown",
   "metadata": {},
   "source": [
    "For boundary conditions, we'll use the content of **STG8** folder."
   ]
  },
  {
   "cell_type": "code",
   "execution_count": 10,
   "metadata": {
    "collapsed": false,
    "scrolled": true
   },
   "outputs": [
    {
     "data": {
      "text/html": [
       "<div style=\"max-height:1000px;max-width:1500px;overflow:auto;\">\n",
       "<table border=\"1\" class=\"dataframe\">\n",
       "  <thead>\n",
       "    <tr style=\"text-align: right;\">\n",
       "      <th></th>\n",
       "      <th></th>\n",
       "      <th></th>\n",
       "      <th>ImageNumber</th>\n",
       "      <th>ObjectNumber</th>\n",
       "      <th>Metadata_Experimenter</th>\n",
       "      <th>Metadata_FileLocation</th>\n",
       "      <th>Metadata_Frame</th>\n",
       "      <th>Metadata_Series</th>\n",
       "      <th>Metadata_Set</th>\n",
       "      <th>Metadata_cvsp</th>\n",
       "      <th>AreaShape_Area</th>\n",
       "      <th>AreaShape_Center_X</th>\n",
       "      <th>...</th>\n",
       "      <th>Mean_FilteredChromatin_Location_CenterMassIntensity_Y_Rhodamine</th>\n",
       "      <th>Mean_FilteredChromatin_Location_Center_X</th>\n",
       "      <th>Mean_FilteredChromatin_Location_Center_Y</th>\n",
       "      <th>Mean_FilteredChromatin_Location_MaxIntensity_X_DNA</th>\n",
       "      <th>Mean_FilteredChromatin_Location_MaxIntensity_X_Rhodamine</th>\n",
       "      <th>Mean_FilteredChromatin_Location_MaxIntensity_Y_DNA</th>\n",
       "      <th>Mean_FilteredChromatin_Location_MaxIntensity_Y_Rhodamine</th>\n",
       "      <th>Mean_FilteredChromatin_Number_Object_Number</th>\n",
       "      <th>Number_Object_Number</th>\n",
       "      <th>Parent_Spindles</th>\n",
       "    </tr>\n",
       "    <tr>\n",
       "      <th>Metadata_Experiment</th>\n",
       "      <th>Metadata_Treatment</th>\n",
       "      <th>Metadata_Type</th>\n",
       "      <th></th>\n",
       "      <th></th>\n",
       "      <th></th>\n",
       "      <th></th>\n",
       "      <th></th>\n",
       "      <th></th>\n",
       "      <th></th>\n",
       "      <th></th>\n",
       "      <th></th>\n",
       "      <th></th>\n",
       "      <th></th>\n",
       "      <th></th>\n",
       "      <th></th>\n",
       "      <th></th>\n",
       "      <th></th>\n",
       "      <th></th>\n",
       "      <th></th>\n",
       "      <th></th>\n",
       "      <th></th>\n",
       "      <th></th>\n",
       "      <th></th>\n",
       "    </tr>\n",
       "  </thead>\n",
       "  <tbody>\n",
       "    <tr>\n",
       "      <th>Exp01</th>\n",
       "      <th>800</th>\n",
       "      <th>STG</th>\n",
       "      <td>26</td>\n",
       "      <td>26</td>\n",
       "      <td>26</td>\n",
       "      <td>0</td>\n",
       "      <td>26</td>\n",
       "      <td>26</td>\n",
       "      <td>26</td>\n",
       "      <td>26</td>\n",
       "      <td>26</td>\n",
       "      <td>26</td>\n",
       "      <td>...</td>\n",
       "      <td>26</td>\n",
       "      <td>26</td>\n",
       "      <td>26</td>\n",
       "      <td>26</td>\n",
       "      <td>26</td>\n",
       "      <td>26</td>\n",
       "      <td>26</td>\n",
       "      <td>26</td>\n",
       "      <td>26</td>\n",
       "      <td>26</td>\n",
       "    </tr>\n",
       "    <tr>\n",
       "      <th>Exp02</th>\n",
       "      <th>800</th>\n",
       "      <th>STG</th>\n",
       "      <td>3</td>\n",
       "      <td>3</td>\n",
       "      <td>3</td>\n",
       "      <td>0</td>\n",
       "      <td>3</td>\n",
       "      <td>3</td>\n",
       "      <td>3</td>\n",
       "      <td>3</td>\n",
       "      <td>3</td>\n",
       "      <td>3</td>\n",
       "      <td>...</td>\n",
       "      <td>3</td>\n",
       "      <td>3</td>\n",
       "      <td>3</td>\n",
       "      <td>3</td>\n",
       "      <td>3</td>\n",
       "      <td>3</td>\n",
       "      <td>3</td>\n",
       "      <td>3</td>\n",
       "      <td>3</td>\n",
       "      <td>3</td>\n",
       "    </tr>\n",
       "    <tr>\n",
       "      <th>Exp03</th>\n",
       "      <th>0</th>\n",
       "      <th>CSF</th>\n",
       "      <td>54</td>\n",
       "      <td>54</td>\n",
       "      <td>54</td>\n",
       "      <td>0</td>\n",
       "      <td>54</td>\n",
       "      <td>54</td>\n",
       "      <td>54</td>\n",
       "      <td>54</td>\n",
       "      <td>54</td>\n",
       "      <td>54</td>\n",
       "      <td>...</td>\n",
       "      <td>54</td>\n",
       "      <td>54</td>\n",
       "      <td>54</td>\n",
       "      <td>54</td>\n",
       "      <td>54</td>\n",
       "      <td>54</td>\n",
       "      <td>54</td>\n",
       "      <td>54</td>\n",
       "      <td>54</td>\n",
       "      <td>54</td>\n",
       "    </tr>\n",
       "    <tr>\n",
       "      <th>Exp04</th>\n",
       "      <th>420</th>\n",
       "      <th>CSF</th>\n",
       "      <td>102</td>\n",
       "      <td>102</td>\n",
       "      <td>102</td>\n",
       "      <td>0</td>\n",
       "      <td>102</td>\n",
       "      <td>102</td>\n",
       "      <td>102</td>\n",
       "      <td>102</td>\n",
       "      <td>102</td>\n",
       "      <td>102</td>\n",
       "      <td>...</td>\n",
       "      <td>102</td>\n",
       "      <td>102</td>\n",
       "      <td>102</td>\n",
       "      <td>102</td>\n",
       "      <td>102</td>\n",
       "      <td>102</td>\n",
       "      <td>102</td>\n",
       "      <td>102</td>\n",
       "      <td>102</td>\n",
       "      <td>102</td>\n",
       "    </tr>\n",
       "    <tr>\n",
       "      <th rowspan=\"2\" valign=\"top\">Exp05</th>\n",
       "      <th>0</th>\n",
       "      <th>CSF</th>\n",
       "      <td>64</td>\n",
       "      <td>64</td>\n",
       "      <td>64</td>\n",
       "      <td>0</td>\n",
       "      <td>64</td>\n",
       "      <td>64</td>\n",
       "      <td>64</td>\n",
       "      <td>64</td>\n",
       "      <td>64</td>\n",
       "      <td>64</td>\n",
       "      <td>...</td>\n",
       "      <td>64</td>\n",
       "      <td>64</td>\n",
       "      <td>64</td>\n",
       "      <td>64</td>\n",
       "      <td>64</td>\n",
       "      <td>64</td>\n",
       "      <td>64</td>\n",
       "      <td>64</td>\n",
       "      <td>64</td>\n",
       "      <td>64</td>\n",
       "    </tr>\n",
       "    <tr>\n",
       "      <th>800</th>\n",
       "      <th>STG</th>\n",
       "      <td>65</td>\n",
       "      <td>65</td>\n",
       "      <td>65</td>\n",
       "      <td>0</td>\n",
       "      <td>65</td>\n",
       "      <td>65</td>\n",
       "      <td>65</td>\n",
       "      <td>65</td>\n",
       "      <td>65</td>\n",
       "      <td>65</td>\n",
       "      <td>...</td>\n",
       "      <td>65</td>\n",
       "      <td>65</td>\n",
       "      <td>65</td>\n",
       "      <td>65</td>\n",
       "      <td>65</td>\n",
       "      <td>65</td>\n",
       "      <td>65</td>\n",
       "      <td>65</td>\n",
       "      <td>65</td>\n",
       "      <td>65</td>\n",
       "    </tr>\n",
       "    <tr>\n",
       "      <th>Exp06</th>\n",
       "      <th>800</th>\n",
       "      <th>STG</th>\n",
       "      <td>268</td>\n",
       "      <td>268</td>\n",
       "      <td>268</td>\n",
       "      <td>0</td>\n",
       "      <td>268</td>\n",
       "      <td>268</td>\n",
       "      <td>268</td>\n",
       "      <td>268</td>\n",
       "      <td>268</td>\n",
       "      <td>268</td>\n",
       "      <td>...</td>\n",
       "      <td>268</td>\n",
       "      <td>268</td>\n",
       "      <td>268</td>\n",
       "      <td>268</td>\n",
       "      <td>268</td>\n",
       "      <td>268</td>\n",
       "      <td>268</td>\n",
       "      <td>268</td>\n",
       "      <td>268</td>\n",
       "      <td>268</td>\n",
       "    </tr>\n",
       "    <tr>\n",
       "      <th>Exp07</th>\n",
       "      <th>0</th>\n",
       "      <th>CSF</th>\n",
       "      <td>132</td>\n",
       "      <td>132</td>\n",
       "      <td>132</td>\n",
       "      <td>0</td>\n",
       "      <td>132</td>\n",
       "      <td>132</td>\n",
       "      <td>132</td>\n",
       "      <td>132</td>\n",
       "      <td>132</td>\n",
       "      <td>132</td>\n",
       "      <td>...</td>\n",
       "      <td>132</td>\n",
       "      <td>132</td>\n",
       "      <td>132</td>\n",
       "      <td>132</td>\n",
       "      <td>132</td>\n",
       "      <td>132</td>\n",
       "      <td>132</td>\n",
       "      <td>132</td>\n",
       "      <td>132</td>\n",
       "      <td>132</td>\n",
       "    </tr>\n",
       "    <tr>\n",
       "      <th rowspan=\"2\" valign=\"top\">Exp08</th>\n",
       "      <th>0</th>\n",
       "      <th>CSF</th>\n",
       "      <td>254</td>\n",
       "      <td>254</td>\n",
       "      <td>254</td>\n",
       "      <td>0</td>\n",
       "      <td>254</td>\n",
       "      <td>254</td>\n",
       "      <td>254</td>\n",
       "      <td>254</td>\n",
       "      <td>254</td>\n",
       "      <td>254</td>\n",
       "      <td>...</td>\n",
       "      <td>254</td>\n",
       "      <td>254</td>\n",
       "      <td>254</td>\n",
       "      <td>254</td>\n",
       "      <td>254</td>\n",
       "      <td>254</td>\n",
       "      <td>254</td>\n",
       "      <td>254</td>\n",
       "      <td>254</td>\n",
       "      <td>254</td>\n",
       "    </tr>\n",
       "    <tr>\n",
       "      <th>800</th>\n",
       "      <th>STG</th>\n",
       "      <td>300</td>\n",
       "      <td>300</td>\n",
       "      <td>300</td>\n",
       "      <td>0</td>\n",
       "      <td>300</td>\n",
       "      <td>300</td>\n",
       "      <td>300</td>\n",
       "      <td>300</td>\n",
       "      <td>300</td>\n",
       "      <td>300</td>\n",
       "      <td>...</td>\n",
       "      <td>300</td>\n",
       "      <td>300</td>\n",
       "      <td>300</td>\n",
       "      <td>300</td>\n",
       "      <td>300</td>\n",
       "      <td>300</td>\n",
       "      <td>300</td>\n",
       "      <td>300</td>\n",
       "      <td>300</td>\n",
       "      <td>300</td>\n",
       "    </tr>\n",
       "    <tr>\n",
       "      <th rowspan=\"2\" valign=\"top\">Exp09</th>\n",
       "      <th>0</th>\n",
       "      <th>CSF</th>\n",
       "      <td>22</td>\n",
       "      <td>22</td>\n",
       "      <td>22</td>\n",
       "      <td>0</td>\n",
       "      <td>22</td>\n",
       "      <td>22</td>\n",
       "      <td>22</td>\n",
       "      <td>22</td>\n",
       "      <td>22</td>\n",
       "      <td>22</td>\n",
       "      <td>...</td>\n",
       "      <td>22</td>\n",
       "      <td>22</td>\n",
       "      <td>22</td>\n",
       "      <td>22</td>\n",
       "      <td>22</td>\n",
       "      <td>22</td>\n",
       "      <td>22</td>\n",
       "      <td>22</td>\n",
       "      <td>22</td>\n",
       "      <td>22</td>\n",
       "    </tr>\n",
       "    <tr>\n",
       "      <th>800</th>\n",
       "      <th>STG</th>\n",
       "      <td>6</td>\n",
       "      <td>6</td>\n",
       "      <td>6</td>\n",
       "      <td>0</td>\n",
       "      <td>6</td>\n",
       "      <td>6</td>\n",
       "      <td>6</td>\n",
       "      <td>6</td>\n",
       "      <td>6</td>\n",
       "      <td>6</td>\n",
       "      <td>...</td>\n",
       "      <td>6</td>\n",
       "      <td>6</td>\n",
       "      <td>6</td>\n",
       "      <td>6</td>\n",
       "      <td>6</td>\n",
       "      <td>6</td>\n",
       "      <td>6</td>\n",
       "      <td>6</td>\n",
       "      <td>6</td>\n",
       "      <td>6</td>\n",
       "    </tr>\n",
       "    <tr>\n",
       "      <th rowspan=\"2\" valign=\"top\">Exp11</th>\n",
       "      <th>0</th>\n",
       "      <th>CSF</th>\n",
       "      <td>93</td>\n",
       "      <td>93</td>\n",
       "      <td>93</td>\n",
       "      <td>0</td>\n",
       "      <td>93</td>\n",
       "      <td>93</td>\n",
       "      <td>93</td>\n",
       "      <td>93</td>\n",
       "      <td>93</td>\n",
       "      <td>93</td>\n",
       "      <td>...</td>\n",
       "      <td>93</td>\n",
       "      <td>93</td>\n",
       "      <td>93</td>\n",
       "      <td>93</td>\n",
       "      <td>93</td>\n",
       "      <td>93</td>\n",
       "      <td>93</td>\n",
       "      <td>93</td>\n",
       "      <td>93</td>\n",
       "      <td>93</td>\n",
       "    </tr>\n",
       "    <tr>\n",
       "      <th>800</th>\n",
       "      <th>STG</th>\n",
       "      <td>75</td>\n",
       "      <td>75</td>\n",
       "      <td>75</td>\n",
       "      <td>0</td>\n",
       "      <td>75</td>\n",
       "      <td>75</td>\n",
       "      <td>75</td>\n",
       "      <td>75</td>\n",
       "      <td>75</td>\n",
       "      <td>75</td>\n",
       "      <td>...</td>\n",
       "      <td>75</td>\n",
       "      <td>75</td>\n",
       "      <td>75</td>\n",
       "      <td>75</td>\n",
       "      <td>75</td>\n",
       "      <td>75</td>\n",
       "      <td>75</td>\n",
       "      <td>75</td>\n",
       "      <td>75</td>\n",
       "      <td>75</td>\n",
       "    </tr>\n",
       "    <tr>\n",
       "      <th rowspan=\"2\" valign=\"top\">Exp13</th>\n",
       "      <th>0</th>\n",
       "      <th>CSF</th>\n",
       "      <td>28</td>\n",
       "      <td>28</td>\n",
       "      <td>28</td>\n",
       "      <td>0</td>\n",
       "      <td>28</td>\n",
       "      <td>28</td>\n",
       "      <td>28</td>\n",
       "      <td>28</td>\n",
       "      <td>28</td>\n",
       "      <td>28</td>\n",
       "      <td>...</td>\n",
       "      <td>28</td>\n",
       "      <td>28</td>\n",
       "      <td>28</td>\n",
       "      <td>28</td>\n",
       "      <td>28</td>\n",
       "      <td>28</td>\n",
       "      <td>28</td>\n",
       "      <td>28</td>\n",
       "      <td>28</td>\n",
       "      <td>28</td>\n",
       "    </tr>\n",
       "    <tr>\n",
       "      <th>800</th>\n",
       "      <th>STG</th>\n",
       "      <td>50</td>\n",
       "      <td>50</td>\n",
       "      <td>50</td>\n",
       "      <td>0</td>\n",
       "      <td>50</td>\n",
       "      <td>50</td>\n",
       "      <td>50</td>\n",
       "      <td>50</td>\n",
       "      <td>50</td>\n",
       "      <td>50</td>\n",
       "      <td>...</td>\n",
       "      <td>50</td>\n",
       "      <td>50</td>\n",
       "      <td>50</td>\n",
       "      <td>50</td>\n",
       "      <td>50</td>\n",
       "      <td>50</td>\n",
       "      <td>50</td>\n",
       "      <td>50</td>\n",
       "      <td>50</td>\n",
       "      <td>50</td>\n",
       "    </tr>\n",
       "    <tr>\n",
       "      <th rowspan=\"4\" valign=\"top\">Exp14</th>\n",
       "      <th>800</th>\n",
       "      <th>STG</th>\n",
       "      <td>147</td>\n",
       "      <td>147</td>\n",
       "      <td>147</td>\n",
       "      <td>0</td>\n",
       "      <td>147</td>\n",
       "      <td>147</td>\n",
       "      <td>147</td>\n",
       "      <td>147</td>\n",
       "      <td>147</td>\n",
       "      <td>147</td>\n",
       "      <td>...</td>\n",
       "      <td>147</td>\n",
       "      <td>147</td>\n",
       "      <td>147</td>\n",
       "      <td>147</td>\n",
       "      <td>147</td>\n",
       "      <td>147</td>\n",
       "      <td>147</td>\n",
       "      <td>147</td>\n",
       "      <td>147</td>\n",
       "      <td>147</td>\n",
       "    </tr>\n",
       "    <tr>\n",
       "      <th>850</th>\n",
       "      <th>STG</th>\n",
       "      <td>69</td>\n",
       "      <td>69</td>\n",
       "      <td>69</td>\n",
       "      <td>0</td>\n",
       "      <td>69</td>\n",
       "      <td>69</td>\n",
       "      <td>69</td>\n",
       "      <td>69</td>\n",
       "      <td>69</td>\n",
       "      <td>69</td>\n",
       "      <td>...</td>\n",
       "      <td>69</td>\n",
       "      <td>69</td>\n",
       "      <td>69</td>\n",
       "      <td>69</td>\n",
       "      <td>69</td>\n",
       "      <td>69</td>\n",
       "      <td>69</td>\n",
       "      <td>69</td>\n",
       "      <td>69</td>\n",
       "      <td>69</td>\n",
       "    </tr>\n",
       "    <tr>\n",
       "      <th>875</th>\n",
       "      <th>STG</th>\n",
       "      <td>100</td>\n",
       "      <td>100</td>\n",
       "      <td>100</td>\n",
       "      <td>0</td>\n",
       "      <td>100</td>\n",
       "      <td>100</td>\n",
       "      <td>100</td>\n",
       "      <td>100</td>\n",
       "      <td>100</td>\n",
       "      <td>100</td>\n",
       "      <td>...</td>\n",
       "      <td>100</td>\n",
       "      <td>100</td>\n",
       "      <td>100</td>\n",
       "      <td>100</td>\n",
       "      <td>100</td>\n",
       "      <td>100</td>\n",
       "      <td>100</td>\n",
       "      <td>100</td>\n",
       "      <td>100</td>\n",
       "      <td>100</td>\n",
       "    </tr>\n",
       "    <tr>\n",
       "      <th>890</th>\n",
       "      <th>STG</th>\n",
       "      <td>105</td>\n",
       "      <td>105</td>\n",
       "      <td>105</td>\n",
       "      <td>0</td>\n",
       "      <td>105</td>\n",
       "      <td>105</td>\n",
       "      <td>105</td>\n",
       "      <td>105</td>\n",
       "      <td>105</td>\n",
       "      <td>105</td>\n",
       "      <td>...</td>\n",
       "      <td>105</td>\n",
       "      <td>105</td>\n",
       "      <td>105</td>\n",
       "      <td>105</td>\n",
       "      <td>105</td>\n",
       "      <td>105</td>\n",
       "      <td>105</td>\n",
       "      <td>105</td>\n",
       "      <td>105</td>\n",
       "      <td>105</td>\n",
       "    </tr>\n",
       "    <tr>\n",
       "      <th rowspan=\"4\" valign=\"top\">Exp15</th>\n",
       "      <th>800</th>\n",
       "      <th>STG</th>\n",
       "      <td>52</td>\n",
       "      <td>52</td>\n",
       "      <td>52</td>\n",
       "      <td>0</td>\n",
       "      <td>52</td>\n",
       "      <td>52</td>\n",
       "      <td>52</td>\n",
       "      <td>52</td>\n",
       "      <td>52</td>\n",
       "      <td>52</td>\n",
       "      <td>...</td>\n",
       "      <td>52</td>\n",
       "      <td>52</td>\n",
       "      <td>52</td>\n",
       "      <td>52</td>\n",
       "      <td>52</td>\n",
       "      <td>52</td>\n",
       "      <td>52</td>\n",
       "      <td>52</td>\n",
       "      <td>52</td>\n",
       "      <td>52</td>\n",
       "    </tr>\n",
       "    <tr>\n",
       "      <th>890</th>\n",
       "      <th>STG</th>\n",
       "      <td>8</td>\n",
       "      <td>8</td>\n",
       "      <td>8</td>\n",
       "      <td>0</td>\n",
       "      <td>8</td>\n",
       "      <td>8</td>\n",
       "      <td>8</td>\n",
       "      <td>8</td>\n",
       "      <td>8</td>\n",
       "      <td>8</td>\n",
       "      <td>...</td>\n",
       "      <td>8</td>\n",
       "      <td>8</td>\n",
       "      <td>8</td>\n",
       "      <td>8</td>\n",
       "      <td>8</td>\n",
       "      <td>8</td>\n",
       "      <td>8</td>\n",
       "      <td>8</td>\n",
       "      <td>8</td>\n",
       "      <td>8</td>\n",
       "    </tr>\n",
       "    <tr>\n",
       "      <th>895</th>\n",
       "      <th>STG</th>\n",
       "      <td>25</td>\n",
       "      <td>25</td>\n",
       "      <td>25</td>\n",
       "      <td>0</td>\n",
       "      <td>25</td>\n",
       "      <td>25</td>\n",
       "      <td>25</td>\n",
       "      <td>25</td>\n",
       "      <td>25</td>\n",
       "      <td>25</td>\n",
       "      <td>...</td>\n",
       "      <td>25</td>\n",
       "      <td>25</td>\n",
       "      <td>25</td>\n",
       "      <td>25</td>\n",
       "      <td>25</td>\n",
       "      <td>25</td>\n",
       "      <td>25</td>\n",
       "      <td>25</td>\n",
       "      <td>25</td>\n",
       "      <td>25</td>\n",
       "    </tr>\n",
       "    <tr>\n",
       "      <th>899</th>\n",
       "      <th>STG</th>\n",
       "      <td>19</td>\n",
       "      <td>19</td>\n",
       "      <td>19</td>\n",
       "      <td>0</td>\n",
       "      <td>19</td>\n",
       "      <td>19</td>\n",
       "      <td>19</td>\n",
       "      <td>19</td>\n",
       "      <td>19</td>\n",
       "      <td>19</td>\n",
       "      <td>...</td>\n",
       "      <td>19</td>\n",
       "      <td>19</td>\n",
       "      <td>19</td>\n",
       "      <td>19</td>\n",
       "      <td>19</td>\n",
       "      <td>19</td>\n",
       "      <td>19</td>\n",
       "      <td>19</td>\n",
       "      <td>19</td>\n",
       "      <td>19</td>\n",
       "    </tr>\n",
       "    <tr>\n",
       "      <th rowspan=\"4\" valign=\"top\">Exp16</th>\n",
       "      <th>800</th>\n",
       "      <th>STG</th>\n",
       "      <td>100</td>\n",
       "      <td>100</td>\n",
       "      <td>100</td>\n",
       "      <td>0</td>\n",
       "      <td>100</td>\n",
       "      <td>100</td>\n",
       "      <td>100</td>\n",
       "      <td>100</td>\n",
       "      <td>100</td>\n",
       "      <td>100</td>\n",
       "      <td>...</td>\n",
       "      <td>100</td>\n",
       "      <td>100</td>\n",
       "      <td>100</td>\n",
       "      <td>100</td>\n",
       "      <td>100</td>\n",
       "      <td>100</td>\n",
       "      <td>100</td>\n",
       "      <td>100</td>\n",
       "      <td>100</td>\n",
       "      <td>100</td>\n",
       "    </tr>\n",
       "    <tr>\n",
       "      <th>850</th>\n",
       "      <th>STG</th>\n",
       "      <td>148</td>\n",
       "      <td>148</td>\n",
       "      <td>148</td>\n",
       "      <td>0</td>\n",
       "      <td>148</td>\n",
       "      <td>148</td>\n",
       "      <td>148</td>\n",
       "      <td>148</td>\n",
       "      <td>148</td>\n",
       "      <td>148</td>\n",
       "      <td>...</td>\n",
       "      <td>148</td>\n",
       "      <td>148</td>\n",
       "      <td>148</td>\n",
       "      <td>148</td>\n",
       "      <td>148</td>\n",
       "      <td>148</td>\n",
       "      <td>148</td>\n",
       "      <td>148</td>\n",
       "      <td>148</td>\n",
       "      <td>148</td>\n",
       "    </tr>\n",
       "    <tr>\n",
       "      <th>875</th>\n",
       "      <th>STG</th>\n",
       "      <td>274</td>\n",
       "      <td>274</td>\n",
       "      <td>274</td>\n",
       "      <td>0</td>\n",
       "      <td>274</td>\n",
       "      <td>274</td>\n",
       "      <td>274</td>\n",
       "      <td>274</td>\n",
       "      <td>274</td>\n",
       "      <td>274</td>\n",
       "      <td>...</td>\n",
       "      <td>274</td>\n",
       "      <td>274</td>\n",
       "      <td>274</td>\n",
       "      <td>274</td>\n",
       "      <td>274</td>\n",
       "      <td>274</td>\n",
       "      <td>274</td>\n",
       "      <td>274</td>\n",
       "      <td>274</td>\n",
       "      <td>274</td>\n",
       "    </tr>\n",
       "    <tr>\n",
       "      <th>890</th>\n",
       "      <th>STG</th>\n",
       "      <td>247</td>\n",
       "      <td>247</td>\n",
       "      <td>247</td>\n",
       "      <td>0</td>\n",
       "      <td>247</td>\n",
       "      <td>247</td>\n",
       "      <td>247</td>\n",
       "      <td>247</td>\n",
       "      <td>247</td>\n",
       "      <td>247</td>\n",
       "      <td>...</td>\n",
       "      <td>247</td>\n",
       "      <td>247</td>\n",
       "      <td>247</td>\n",
       "      <td>247</td>\n",
       "      <td>247</td>\n",
       "      <td>247</td>\n",
       "      <td>247</td>\n",
       "      <td>247</td>\n",
       "      <td>247</td>\n",
       "      <td>247</td>\n",
       "    </tr>\n",
       "  </tbody>\n",
       "</table>\n",
       "<p>28 rows × 200 columns</p>\n",
       "</div>"
      ],
      "text/plain": [
       "                                                      ImageNumber  \\\n",
       "Metadata_Experiment Metadata_Treatment Metadata_Type                \n",
       "Exp01               800                STG                     26   \n",
       "Exp02               800                STG                      3   \n",
       "Exp03               0                  CSF                     54   \n",
       "Exp04               420                CSF                    102   \n",
       "Exp05               0                  CSF                     64   \n",
       "                    800                STG                     65   \n",
       "Exp06               800                STG                    268   \n",
       "Exp07               0                  CSF                    132   \n",
       "Exp08               0                  CSF                    254   \n",
       "                    800                STG                    300   \n",
       "Exp09               0                  CSF                     22   \n",
       "                    800                STG                      6   \n",
       "Exp11               0                  CSF                     93   \n",
       "                    800                STG                     75   \n",
       "Exp13               0                  CSF                     28   \n",
       "                    800                STG                     50   \n",
       "Exp14               800                STG                    147   \n",
       "                    850                STG                     69   \n",
       "                    875                STG                    100   \n",
       "                    890                STG                    105   \n",
       "Exp15               800                STG                     52   \n",
       "                    890                STG                      8   \n",
       "                    895                STG                     25   \n",
       "                    899                STG                     19   \n",
       "Exp16               800                STG                    100   \n",
       "                    850                STG                    148   \n",
       "                    875                STG                    274   \n",
       "                    890                STG                    247   \n",
       "\n",
       "                                                      ObjectNumber  \\\n",
       "Metadata_Experiment Metadata_Treatment Metadata_Type                 \n",
       "Exp01               800                STG                      26   \n",
       "Exp02               800                STG                       3   \n",
       "Exp03               0                  CSF                      54   \n",
       "Exp04               420                CSF                     102   \n",
       "Exp05               0                  CSF                      64   \n",
       "                    800                STG                      65   \n",
       "Exp06               800                STG                     268   \n",
       "Exp07               0                  CSF                     132   \n",
       "Exp08               0                  CSF                     254   \n",
       "                    800                STG                     300   \n",
       "Exp09               0                  CSF                      22   \n",
       "                    800                STG                       6   \n",
       "Exp11               0                  CSF                      93   \n",
       "                    800                STG                      75   \n",
       "Exp13               0                  CSF                      28   \n",
       "                    800                STG                      50   \n",
       "Exp14               800                STG                     147   \n",
       "                    850                STG                      69   \n",
       "                    875                STG                     100   \n",
       "                    890                STG                     105   \n",
       "Exp15               800                STG                      52   \n",
       "                    890                STG                       8   \n",
       "                    895                STG                      25   \n",
       "                    899                STG                      19   \n",
       "Exp16               800                STG                     100   \n",
       "                    850                STG                     148   \n",
       "                    875                STG                     274   \n",
       "                    890                STG                     247   \n",
       "\n",
       "                                                      Metadata_Experimenter  \\\n",
       "Metadata_Experiment Metadata_Treatment Metadata_Type                          \n",
       "Exp01               800                STG                               26   \n",
       "Exp02               800                STG                                3   \n",
       "Exp03               0                  CSF                               54   \n",
       "Exp04               420                CSF                              102   \n",
       "Exp05               0                  CSF                               64   \n",
       "                    800                STG                               65   \n",
       "Exp06               800                STG                              268   \n",
       "Exp07               0                  CSF                              132   \n",
       "Exp08               0                  CSF                              254   \n",
       "                    800                STG                              300   \n",
       "Exp09               0                  CSF                               22   \n",
       "                    800                STG                                6   \n",
       "Exp11               0                  CSF                               93   \n",
       "                    800                STG                               75   \n",
       "Exp13               0                  CSF                               28   \n",
       "                    800                STG                               50   \n",
       "Exp14               800                STG                              147   \n",
       "                    850                STG                               69   \n",
       "                    875                STG                              100   \n",
       "                    890                STG                              105   \n",
       "Exp15               800                STG                               52   \n",
       "                    890                STG                                8   \n",
       "                    895                STG                               25   \n",
       "                    899                STG                               19   \n",
       "Exp16               800                STG                              100   \n",
       "                    850                STG                              148   \n",
       "                    875                STG                              274   \n",
       "                    890                STG                              247   \n",
       "\n",
       "                                                      Metadata_FileLocation  \\\n",
       "Metadata_Experiment Metadata_Treatment Metadata_Type                          \n",
       "Exp01               800                STG                                0   \n",
       "Exp02               800                STG                                0   \n",
       "Exp03               0                  CSF                                0   \n",
       "Exp04               420                CSF                                0   \n",
       "Exp05               0                  CSF                                0   \n",
       "                    800                STG                                0   \n",
       "Exp06               800                STG                                0   \n",
       "Exp07               0                  CSF                                0   \n",
       "Exp08               0                  CSF                                0   \n",
       "                    800                STG                                0   \n",
       "Exp09               0                  CSF                                0   \n",
       "                    800                STG                                0   \n",
       "Exp11               0                  CSF                                0   \n",
       "                    800                STG                                0   \n",
       "Exp13               0                  CSF                                0   \n",
       "                    800                STG                                0   \n",
       "Exp14               800                STG                                0   \n",
       "                    850                STG                                0   \n",
       "                    875                STG                                0   \n",
       "                    890                STG                                0   \n",
       "Exp15               800                STG                                0   \n",
       "                    890                STG                                0   \n",
       "                    895                STG                                0   \n",
       "                    899                STG                                0   \n",
       "Exp16               800                STG                                0   \n",
       "                    850                STG                                0   \n",
       "                    875                STG                                0   \n",
       "                    890                STG                                0   \n",
       "\n",
       "                                                      Metadata_Frame  \\\n",
       "Metadata_Experiment Metadata_Treatment Metadata_Type                   \n",
       "Exp01               800                STG                        26   \n",
       "Exp02               800                STG                         3   \n",
       "Exp03               0                  CSF                        54   \n",
       "Exp04               420                CSF                       102   \n",
       "Exp05               0                  CSF                        64   \n",
       "                    800                STG                        65   \n",
       "Exp06               800                STG                       268   \n",
       "Exp07               0                  CSF                       132   \n",
       "Exp08               0                  CSF                       254   \n",
       "                    800                STG                       300   \n",
       "Exp09               0                  CSF                        22   \n",
       "                    800                STG                         6   \n",
       "Exp11               0                  CSF                        93   \n",
       "                    800                STG                        75   \n",
       "Exp13               0                  CSF                        28   \n",
       "                    800                STG                        50   \n",
       "Exp14               800                STG                       147   \n",
       "                    850                STG                        69   \n",
       "                    875                STG                       100   \n",
       "                    890                STG                       105   \n",
       "Exp15               800                STG                        52   \n",
       "                    890                STG                         8   \n",
       "                    895                STG                        25   \n",
       "                    899                STG                        19   \n",
       "Exp16               800                STG                       100   \n",
       "                    850                STG                       148   \n",
       "                    875                STG                       274   \n",
       "                    890                STG                       247   \n",
       "\n",
       "                                                      Metadata_Series  \\\n",
       "Metadata_Experiment Metadata_Treatment Metadata_Type                    \n",
       "Exp01               800                STG                         26   \n",
       "Exp02               800                STG                          3   \n",
       "Exp03               0                  CSF                         54   \n",
       "Exp04               420                CSF                        102   \n",
       "Exp05               0                  CSF                         64   \n",
       "                    800                STG                         65   \n",
       "Exp06               800                STG                        268   \n",
       "Exp07               0                  CSF                        132   \n",
       "Exp08               0                  CSF                        254   \n",
       "                    800                STG                        300   \n",
       "Exp09               0                  CSF                         22   \n",
       "                    800                STG                          6   \n",
       "Exp11               0                  CSF                         93   \n",
       "                    800                STG                         75   \n",
       "Exp13               0                  CSF                         28   \n",
       "                    800                STG                         50   \n",
       "Exp14               800                STG                        147   \n",
       "                    850                STG                         69   \n",
       "                    875                STG                        100   \n",
       "                    890                STG                        105   \n",
       "Exp15               800                STG                         52   \n",
       "                    890                STG                          8   \n",
       "                    895                STG                         25   \n",
       "                    899                STG                         19   \n",
       "Exp16               800                STG                        100   \n",
       "                    850                STG                        148   \n",
       "                    875                STG                        274   \n",
       "                    890                STG                        247   \n",
       "\n",
       "                                                      Metadata_Set  \\\n",
       "Metadata_Experiment Metadata_Treatment Metadata_Type                 \n",
       "Exp01               800                STG                      26   \n",
       "Exp02               800                STG                       3   \n",
       "Exp03               0                  CSF                      54   \n",
       "Exp04               420                CSF                     102   \n",
       "Exp05               0                  CSF                      64   \n",
       "                    800                STG                      65   \n",
       "Exp06               800                STG                     268   \n",
       "Exp07               0                  CSF                     132   \n",
       "Exp08               0                  CSF                     254   \n",
       "                    800                STG                     300   \n",
       "Exp09               0                  CSF                      22   \n",
       "                    800                STG                       6   \n",
       "Exp11               0                  CSF                      93   \n",
       "                    800                STG                      75   \n",
       "Exp13               0                  CSF                      28   \n",
       "                    800                STG                      50   \n",
       "Exp14               800                STG                     147   \n",
       "                    850                STG                      69   \n",
       "                    875                STG                     100   \n",
       "                    890                STG                     105   \n",
       "Exp15               800                STG                      52   \n",
       "                    890                STG                       8   \n",
       "                    895                STG                      25   \n",
       "                    899                STG                      19   \n",
       "Exp16               800                STG                     100   \n",
       "                    850                STG                     148   \n",
       "                    875                STG                     274   \n",
       "                    890                STG                     247   \n",
       "\n",
       "                                                      Metadata_cvsp  \\\n",
       "Metadata_Experiment Metadata_Treatment Metadata_Type                  \n",
       "Exp01               800                STG                       26   \n",
       "Exp02               800                STG                        3   \n",
       "Exp03               0                  CSF                       54   \n",
       "Exp04               420                CSF                      102   \n",
       "Exp05               0                  CSF                       64   \n",
       "                    800                STG                       65   \n",
       "Exp06               800                STG                      268   \n",
       "Exp07               0                  CSF                      132   \n",
       "Exp08               0                  CSF                      254   \n",
       "                    800                STG                      300   \n",
       "Exp09               0                  CSF                       22   \n",
       "                    800                STG                        6   \n",
       "Exp11               0                  CSF                       93   \n",
       "                    800                STG                       75   \n",
       "Exp13               0                  CSF                       28   \n",
       "                    800                STG                       50   \n",
       "Exp14               800                STG                      147   \n",
       "                    850                STG                       69   \n",
       "                    875                STG                      100   \n",
       "                    890                STG                      105   \n",
       "Exp15               800                STG                       52   \n",
       "                    890                STG                        8   \n",
       "                    895                STG                       25   \n",
       "                    899                STG                       19   \n",
       "Exp16               800                STG                      100   \n",
       "                    850                STG                      148   \n",
       "                    875                STG                      274   \n",
       "                    890                STG                      247   \n",
       "\n",
       "                                                      AreaShape_Area  \\\n",
       "Metadata_Experiment Metadata_Treatment Metadata_Type                   \n",
       "Exp01               800                STG                        26   \n",
       "Exp02               800                STG                         3   \n",
       "Exp03               0                  CSF                        54   \n",
       "Exp04               420                CSF                       102   \n",
       "Exp05               0                  CSF                        64   \n",
       "                    800                STG                        65   \n",
       "Exp06               800                STG                       268   \n",
       "Exp07               0                  CSF                       132   \n",
       "Exp08               0                  CSF                       254   \n",
       "                    800                STG                       300   \n",
       "Exp09               0                  CSF                        22   \n",
       "                    800                STG                         6   \n",
       "Exp11               0                  CSF                        93   \n",
       "                    800                STG                        75   \n",
       "Exp13               0                  CSF                        28   \n",
       "                    800                STG                        50   \n",
       "Exp14               800                STG                       147   \n",
       "                    850                STG                        69   \n",
       "                    875                STG                       100   \n",
       "                    890                STG                       105   \n",
       "Exp15               800                STG                        52   \n",
       "                    890                STG                         8   \n",
       "                    895                STG                        25   \n",
       "                    899                STG                        19   \n",
       "Exp16               800                STG                       100   \n",
       "                    850                STG                       148   \n",
       "                    875                STG                       274   \n",
       "                    890                STG                       247   \n",
       "\n",
       "                                                      AreaShape_Center_X  \\\n",
       "Metadata_Experiment Metadata_Treatment Metadata_Type                       \n",
       "Exp01               800                STG                            26   \n",
       "Exp02               800                STG                             3   \n",
       "Exp03               0                  CSF                            54   \n",
       "Exp04               420                CSF                           102   \n",
       "Exp05               0                  CSF                            64   \n",
       "                    800                STG                            65   \n",
       "Exp06               800                STG                           268   \n",
       "Exp07               0                  CSF                           132   \n",
       "Exp08               0                  CSF                           254   \n",
       "                    800                STG                           300   \n",
       "Exp09               0                  CSF                            22   \n",
       "                    800                STG                             6   \n",
       "Exp11               0                  CSF                            93   \n",
       "                    800                STG                            75   \n",
       "Exp13               0                  CSF                            28   \n",
       "                    800                STG                            50   \n",
       "Exp14               800                STG                           147   \n",
       "                    850                STG                            69   \n",
       "                    875                STG                           100   \n",
       "                    890                STG                           105   \n",
       "Exp15               800                STG                            52   \n",
       "                    890                STG                             8   \n",
       "                    895                STG                            25   \n",
       "                    899                STG                            19   \n",
       "Exp16               800                STG                           100   \n",
       "                    850                STG                           148   \n",
       "                    875                STG                           274   \n",
       "                    890                STG                           247   \n",
       "\n",
       "                                                           ...         \\\n",
       "Metadata_Experiment Metadata_Treatment Metadata_Type       ...          \n",
       "Exp01               800                STG                 ...          \n",
       "Exp02               800                STG                 ...          \n",
       "Exp03               0                  CSF                 ...          \n",
       "Exp04               420                CSF                 ...          \n",
       "Exp05               0                  CSF                 ...          \n",
       "                    800                STG                 ...          \n",
       "Exp06               800                STG                 ...          \n",
       "Exp07               0                  CSF                 ...          \n",
       "Exp08               0                  CSF                 ...          \n",
       "                    800                STG                 ...          \n",
       "Exp09               0                  CSF                 ...          \n",
       "                    800                STG                 ...          \n",
       "Exp11               0                  CSF                 ...          \n",
       "                    800                STG                 ...          \n",
       "Exp13               0                  CSF                 ...          \n",
       "                    800                STG                 ...          \n",
       "Exp14               800                STG                 ...          \n",
       "                    850                STG                 ...          \n",
       "                    875                STG                 ...          \n",
       "                    890                STG                 ...          \n",
       "Exp15               800                STG                 ...          \n",
       "                    890                STG                 ...          \n",
       "                    895                STG                 ...          \n",
       "                    899                STG                 ...          \n",
       "Exp16               800                STG                 ...          \n",
       "                    850                STG                 ...          \n",
       "                    875                STG                 ...          \n",
       "                    890                STG                 ...          \n",
       "\n",
       "                                                      Mean_FilteredChromatin_Location_CenterMassIntensity_Y_Rhodamine  \\\n",
       "Metadata_Experiment Metadata_Treatment Metadata_Type                                                                    \n",
       "Exp01               800                STG                                                           26                 \n",
       "Exp02               800                STG                                                            3                 \n",
       "Exp03               0                  CSF                                                           54                 \n",
       "Exp04               420                CSF                                                          102                 \n",
       "Exp05               0                  CSF                                                           64                 \n",
       "                    800                STG                                                           65                 \n",
       "Exp06               800                STG                                                          268                 \n",
       "Exp07               0                  CSF                                                          132                 \n",
       "Exp08               0                  CSF                                                          254                 \n",
       "                    800                STG                                                          300                 \n",
       "Exp09               0                  CSF                                                           22                 \n",
       "                    800                STG                                                            6                 \n",
       "Exp11               0                  CSF                                                           93                 \n",
       "                    800                STG                                                           75                 \n",
       "Exp13               0                  CSF                                                           28                 \n",
       "                    800                STG                                                           50                 \n",
       "Exp14               800                STG                                                          147                 \n",
       "                    850                STG                                                           69                 \n",
       "                    875                STG                                                          100                 \n",
       "                    890                STG                                                          105                 \n",
       "Exp15               800                STG                                                           52                 \n",
       "                    890                STG                                                            8                 \n",
       "                    895                STG                                                           25                 \n",
       "                    899                STG                                                           19                 \n",
       "Exp16               800                STG                                                          100                 \n",
       "                    850                STG                                                          148                 \n",
       "                    875                STG                                                          274                 \n",
       "                    890                STG                                                          247                 \n",
       "\n",
       "                                                      Mean_FilteredChromatin_Location_Center_X  \\\n",
       "Metadata_Experiment Metadata_Treatment Metadata_Type                                             \n",
       "Exp01               800                STG                                                  26   \n",
       "Exp02               800                STG                                                   3   \n",
       "Exp03               0                  CSF                                                  54   \n",
       "Exp04               420                CSF                                                 102   \n",
       "Exp05               0                  CSF                                                  64   \n",
       "                    800                STG                                                  65   \n",
       "Exp06               800                STG                                                 268   \n",
       "Exp07               0                  CSF                                                 132   \n",
       "Exp08               0                  CSF                                                 254   \n",
       "                    800                STG                                                 300   \n",
       "Exp09               0                  CSF                                                  22   \n",
       "                    800                STG                                                   6   \n",
       "Exp11               0                  CSF                                                  93   \n",
       "                    800                STG                                                  75   \n",
       "Exp13               0                  CSF                                                  28   \n",
       "                    800                STG                                                  50   \n",
       "Exp14               800                STG                                                 147   \n",
       "                    850                STG                                                  69   \n",
       "                    875                STG                                                 100   \n",
       "                    890                STG                                                 105   \n",
       "Exp15               800                STG                                                  52   \n",
       "                    890                STG                                                   8   \n",
       "                    895                STG                                                  25   \n",
       "                    899                STG                                                  19   \n",
       "Exp16               800                STG                                                 100   \n",
       "                    850                STG                                                 148   \n",
       "                    875                STG                                                 274   \n",
       "                    890                STG                                                 247   \n",
       "\n",
       "                                                      Mean_FilteredChromatin_Location_Center_Y  \\\n",
       "Metadata_Experiment Metadata_Treatment Metadata_Type                                             \n",
       "Exp01               800                STG                                                  26   \n",
       "Exp02               800                STG                                                   3   \n",
       "Exp03               0                  CSF                                                  54   \n",
       "Exp04               420                CSF                                                 102   \n",
       "Exp05               0                  CSF                                                  64   \n",
       "                    800                STG                                                  65   \n",
       "Exp06               800                STG                                                 268   \n",
       "Exp07               0                  CSF                                                 132   \n",
       "Exp08               0                  CSF                                                 254   \n",
       "                    800                STG                                                 300   \n",
       "Exp09               0                  CSF                                                  22   \n",
       "                    800                STG                                                   6   \n",
       "Exp11               0                  CSF                                                  93   \n",
       "                    800                STG                                                  75   \n",
       "Exp13               0                  CSF                                                  28   \n",
       "                    800                STG                                                  50   \n",
       "Exp14               800                STG                                                 147   \n",
       "                    850                STG                                                  69   \n",
       "                    875                STG                                                 100   \n",
       "                    890                STG                                                 105   \n",
       "Exp15               800                STG                                                  52   \n",
       "                    890                STG                                                   8   \n",
       "                    895                STG                                                  25   \n",
       "                    899                STG                                                  19   \n",
       "Exp16               800                STG                                                 100   \n",
       "                    850                STG                                                 148   \n",
       "                    875                STG                                                 274   \n",
       "                    890                STG                                                 247   \n",
       "\n",
       "                                                      Mean_FilteredChromatin_Location_MaxIntensity_X_DNA  \\\n",
       "Metadata_Experiment Metadata_Treatment Metadata_Type                                                       \n",
       "Exp01               800                STG                                                           26    \n",
       "Exp02               800                STG                                                            3    \n",
       "Exp03               0                  CSF                                                           54    \n",
       "Exp04               420                CSF                                                          102    \n",
       "Exp05               0                  CSF                                                           64    \n",
       "                    800                STG                                                           65    \n",
       "Exp06               800                STG                                                          268    \n",
       "Exp07               0                  CSF                                                          132    \n",
       "Exp08               0                  CSF                                                          254    \n",
       "                    800                STG                                                          300    \n",
       "Exp09               0                  CSF                                                           22    \n",
       "                    800                STG                                                            6    \n",
       "Exp11               0                  CSF                                                           93    \n",
       "                    800                STG                                                           75    \n",
       "Exp13               0                  CSF                                                           28    \n",
       "                    800                STG                                                           50    \n",
       "Exp14               800                STG                                                          147    \n",
       "                    850                STG                                                           69    \n",
       "                    875                STG                                                          100    \n",
       "                    890                STG                                                          105    \n",
       "Exp15               800                STG                                                           52    \n",
       "                    890                STG                                                            8    \n",
       "                    895                STG                                                           25    \n",
       "                    899                STG                                                           19    \n",
       "Exp16               800                STG                                                          100    \n",
       "                    850                STG                                                          148    \n",
       "                    875                STG                                                          274    \n",
       "                    890                STG                                                          247    \n",
       "\n",
       "                                                      Mean_FilteredChromatin_Location_MaxIntensity_X_Rhodamine  \\\n",
       "Metadata_Experiment Metadata_Treatment Metadata_Type                                                             \n",
       "Exp01               800                STG                                                           26          \n",
       "Exp02               800                STG                                                            3          \n",
       "Exp03               0                  CSF                                                           54          \n",
       "Exp04               420                CSF                                                          102          \n",
       "Exp05               0                  CSF                                                           64          \n",
       "                    800                STG                                                           65          \n",
       "Exp06               800                STG                                                          268          \n",
       "Exp07               0                  CSF                                                          132          \n",
       "Exp08               0                  CSF                                                          254          \n",
       "                    800                STG                                                          300          \n",
       "Exp09               0                  CSF                                                           22          \n",
       "                    800                STG                                                            6          \n",
       "Exp11               0                  CSF                                                           93          \n",
       "                    800                STG                                                           75          \n",
       "Exp13               0                  CSF                                                           28          \n",
       "                    800                STG                                                           50          \n",
       "Exp14               800                STG                                                          147          \n",
       "                    850                STG                                                           69          \n",
       "                    875                STG                                                          100          \n",
       "                    890                STG                                                          105          \n",
       "Exp15               800                STG                                                           52          \n",
       "                    890                STG                                                            8          \n",
       "                    895                STG                                                           25          \n",
       "                    899                STG                                                           19          \n",
       "Exp16               800                STG                                                          100          \n",
       "                    850                STG                                                          148          \n",
       "                    875                STG                                                          274          \n",
       "                    890                STG                                                          247          \n",
       "\n",
       "                                                      Mean_FilteredChromatin_Location_MaxIntensity_Y_DNA  \\\n",
       "Metadata_Experiment Metadata_Treatment Metadata_Type                                                       \n",
       "Exp01               800                STG                                                           26    \n",
       "Exp02               800                STG                                                            3    \n",
       "Exp03               0                  CSF                                                           54    \n",
       "Exp04               420                CSF                                                          102    \n",
       "Exp05               0                  CSF                                                           64    \n",
       "                    800                STG                                                           65    \n",
       "Exp06               800                STG                                                          268    \n",
       "Exp07               0                  CSF                                                          132    \n",
       "Exp08               0                  CSF                                                          254    \n",
       "                    800                STG                                                          300    \n",
       "Exp09               0                  CSF                                                           22    \n",
       "                    800                STG                                                            6    \n",
       "Exp11               0                  CSF                                                           93    \n",
       "                    800                STG                                                           75    \n",
       "Exp13               0                  CSF                                                           28    \n",
       "                    800                STG                                                           50    \n",
       "Exp14               800                STG                                                          147    \n",
       "                    850                STG                                                           69    \n",
       "                    875                STG                                                          100    \n",
       "                    890                STG                                                          105    \n",
       "Exp15               800                STG                                                           52    \n",
       "                    890                STG                                                            8    \n",
       "                    895                STG                                                           25    \n",
       "                    899                STG                                                           19    \n",
       "Exp16               800                STG                                                          100    \n",
       "                    850                STG                                                          148    \n",
       "                    875                STG                                                          274    \n",
       "                    890                STG                                                          247    \n",
       "\n",
       "                                                      Mean_FilteredChromatin_Location_MaxIntensity_Y_Rhodamine  \\\n",
       "Metadata_Experiment Metadata_Treatment Metadata_Type                                                             \n",
       "Exp01               800                STG                                                           26          \n",
       "Exp02               800                STG                                                            3          \n",
       "Exp03               0                  CSF                                                           54          \n",
       "Exp04               420                CSF                                                          102          \n",
       "Exp05               0                  CSF                                                           64          \n",
       "                    800                STG                                                           65          \n",
       "Exp06               800                STG                                                          268          \n",
       "Exp07               0                  CSF                                                          132          \n",
       "Exp08               0                  CSF                                                          254          \n",
       "                    800                STG                                                          300          \n",
       "Exp09               0                  CSF                                                           22          \n",
       "                    800                STG                                                            6          \n",
       "Exp11               0                  CSF                                                           93          \n",
       "                    800                STG                                                           75          \n",
       "Exp13               0                  CSF                                                           28          \n",
       "                    800                STG                                                           50          \n",
       "Exp14               800                STG                                                          147          \n",
       "                    850                STG                                                           69          \n",
       "                    875                STG                                                          100          \n",
       "                    890                STG                                                          105          \n",
       "Exp15               800                STG                                                           52          \n",
       "                    890                STG                                                            8          \n",
       "                    895                STG                                                           25          \n",
       "                    899                STG                                                           19          \n",
       "Exp16               800                STG                                                          100          \n",
       "                    850                STG                                                          148          \n",
       "                    875                STG                                                          274          \n",
       "                    890                STG                                                          247          \n",
       "\n",
       "                                                      Mean_FilteredChromatin_Number_Object_Number  \\\n",
       "Metadata_Experiment Metadata_Treatment Metadata_Type                                                \n",
       "Exp01               800                STG                                                     26   \n",
       "Exp02               800                STG                                                      3   \n",
       "Exp03               0                  CSF                                                     54   \n",
       "Exp04               420                CSF                                                    102   \n",
       "Exp05               0                  CSF                                                     64   \n",
       "                    800                STG                                                     65   \n",
       "Exp06               800                STG                                                    268   \n",
       "Exp07               0                  CSF                                                    132   \n",
       "Exp08               0                  CSF                                                    254   \n",
       "                    800                STG                                                    300   \n",
       "Exp09               0                  CSF                                                     22   \n",
       "                    800                STG                                                      6   \n",
       "Exp11               0                  CSF                                                     93   \n",
       "                    800                STG                                                     75   \n",
       "Exp13               0                  CSF                                                     28   \n",
       "                    800                STG                                                     50   \n",
       "Exp14               800                STG                                                    147   \n",
       "                    850                STG                                                     69   \n",
       "                    875                STG                                                    100   \n",
       "                    890                STG                                                    105   \n",
       "Exp15               800                STG                                                     52   \n",
       "                    890                STG                                                      8   \n",
       "                    895                STG                                                     25   \n",
       "                    899                STG                                                     19   \n",
       "Exp16               800                STG                                                    100   \n",
       "                    850                STG                                                    148   \n",
       "                    875                STG                                                    274   \n",
       "                    890                STG                                                    247   \n",
       "\n",
       "                                                      Number_Object_Number  \\\n",
       "Metadata_Experiment Metadata_Treatment Metadata_Type                         \n",
       "Exp01               800                STG                              26   \n",
       "Exp02               800                STG                               3   \n",
       "Exp03               0                  CSF                              54   \n",
       "Exp04               420                CSF                             102   \n",
       "Exp05               0                  CSF                              64   \n",
       "                    800                STG                              65   \n",
       "Exp06               800                STG                             268   \n",
       "Exp07               0                  CSF                             132   \n",
       "Exp08               0                  CSF                             254   \n",
       "                    800                STG                             300   \n",
       "Exp09               0                  CSF                              22   \n",
       "                    800                STG                               6   \n",
       "Exp11               0                  CSF                              93   \n",
       "                    800                STG                              75   \n",
       "Exp13               0                  CSF                              28   \n",
       "                    800                STG                              50   \n",
       "Exp14               800                STG                             147   \n",
       "                    850                STG                              69   \n",
       "                    875                STG                             100   \n",
       "                    890                STG                             105   \n",
       "Exp15               800                STG                              52   \n",
       "                    890                STG                               8   \n",
       "                    895                STG                              25   \n",
       "                    899                STG                              19   \n",
       "Exp16               800                STG                             100   \n",
       "                    850                STG                             148   \n",
       "                    875                STG                             274   \n",
       "                    890                STG                             247   \n",
       "\n",
       "                                                      Parent_Spindles  \n",
       "Metadata_Experiment Metadata_Treatment Metadata_Type                   \n",
       "Exp01               800                STG                         26  \n",
       "Exp02               800                STG                          3  \n",
       "Exp03               0                  CSF                         54  \n",
       "Exp04               420                CSF                        102  \n",
       "Exp05               0                  CSF                         64  \n",
       "                    800                STG                         65  \n",
       "Exp06               800                STG                        268  \n",
       "Exp07               0                  CSF                        132  \n",
       "Exp08               0                  CSF                        254  \n",
       "                    800                STG                        300  \n",
       "Exp09               0                  CSF                         22  \n",
       "                    800                STG                          6  \n",
       "Exp11               0                  CSF                         93  \n",
       "                    800                STG                         75  \n",
       "Exp13               0                  CSF                         28  \n",
       "                    800                STG                         50  \n",
       "Exp14               800                STG                        147  \n",
       "                    850                STG                         69  \n",
       "                    875                STG                        100  \n",
       "                    890                STG                        105  \n",
       "Exp15               800                STG                         52  \n",
       "                    890                STG                          8  \n",
       "                    895                STG                         25  \n",
       "                    899                STG                         19  \n",
       "Exp16               800                STG                        100  \n",
       "                    850                STG                        148  \n",
       "                    875                STG                        274  \n",
       "                    890                STG                        247  \n",
       "\n",
       "[28 rows x 200 columns]"
      ]
     },
     "execution_count": 10,
     "metadata": {},
     "output_type": "execute_result"
    }
   ],
   "source": [
    "df_STG8.groupby(['Metadata_Experiment','Metadata_Treatment','Metadata_Type']).count()"
   ]
  },
  {
   "cell_type": "markdown",
   "metadata": {},
   "source": [
    "Part 1 of 3: (STG8 - population)"
   ]
  },
  {
   "cell_type": "code",
   "execution_count": 11,
   "metadata": {
    "collapsed": false
   },
   "outputs": [
    {
     "data": {
      "text/html": [
       "<div style=\"max-height:1000px;max-width:1500px;overflow:auto;\">\n",
       "<table border=\"1\" class=\"dataframe\">\n",
       "  <thead>\n",
       "    <tr style=\"text-align: right;\">\n",
       "      <th></th>\n",
       "      <th>ImageNumber</th>\n",
       "      <th>ObjectNumber</th>\n",
       "      <th>Metadata_Experiment</th>\n",
       "      <th>Metadata_Experimenter</th>\n",
       "      <th>Metadata_FileLocation</th>\n",
       "      <th>Metadata_Frame</th>\n",
       "      <th>Metadata_Series</th>\n",
       "      <th>Metadata_Set</th>\n",
       "      <th>Metadata_Treatment</th>\n",
       "      <th>Metadata_Type</th>\n",
       "      <th>...</th>\n",
       "      <th>Mean_FilteredChromatin_Location_CenterMassIntensity_Y_Rhodamine</th>\n",
       "      <th>Mean_FilteredChromatin_Location_Center_X</th>\n",
       "      <th>Mean_FilteredChromatin_Location_Center_Y</th>\n",
       "      <th>Mean_FilteredChromatin_Location_MaxIntensity_X_DNA</th>\n",
       "      <th>Mean_FilteredChromatin_Location_MaxIntensity_X_Rhodamine</th>\n",
       "      <th>Mean_FilteredChromatin_Location_MaxIntensity_Y_DNA</th>\n",
       "      <th>Mean_FilteredChromatin_Location_MaxIntensity_Y_Rhodamine</th>\n",
       "      <th>Mean_FilteredChromatin_Number_Object_Number</th>\n",
       "      <th>Number_Object_Number</th>\n",
       "      <th>Parent_Spindles</th>\n",
       "    </tr>\n",
       "  </thead>\n",
       "  <tbody>\n",
       "    <tr>\n",
       "      <th>0</th>\n",
       "      <td>1</td>\n",
       "      <td>1</td>\n",
       "      <td>Exp14</td>\n",
       "      <td>MEC</td>\n",
       "      <td>NaN</td>\n",
       "      <td>0</td>\n",
       "      <td>0</td>\n",
       "      <td>cvsp1_1</td>\n",
       "      <td>800</td>\n",
       "      <td>STG</td>\n",
       "      <td>...</td>\n",
       "      <td>254.139998</td>\n",
       "      <td>579.448840</td>\n",
       "      <td>254.848567</td>\n",
       "      <td>582</td>\n",
       "      <td>556</td>\n",
       "      <td>257</td>\n",
       "      <td>233</td>\n",
       "      <td>1</td>\n",
       "      <td>1</td>\n",
       "      <td>2</td>\n",
       "    </tr>\n",
       "    <tr>\n",
       "      <th>1</th>\n",
       "      <td>1</td>\n",
       "      <td>2</td>\n",
       "      <td>Exp14</td>\n",
       "      <td>MEC</td>\n",
       "      <td>NaN</td>\n",
       "      <td>0</td>\n",
       "      <td>0</td>\n",
       "      <td>cvsp1_1</td>\n",
       "      <td>800</td>\n",
       "      <td>STG</td>\n",
       "      <td>...</td>\n",
       "      <td>462.254761</td>\n",
       "      <td>604.993315</td>\n",
       "      <td>462.199198</td>\n",
       "      <td>601</td>\n",
       "      <td>628</td>\n",
       "      <td>470</td>\n",
       "      <td>457</td>\n",
       "      <td>2</td>\n",
       "      <td>2</td>\n",
       "      <td>3</td>\n",
       "    </tr>\n",
       "    <tr>\n",
       "      <th>2</th>\n",
       "      <td>1</td>\n",
       "      <td>3</td>\n",
       "      <td>Exp14</td>\n",
       "      <td>MEC</td>\n",
       "      <td>NaN</td>\n",
       "      <td>0</td>\n",
       "      <td>0</td>\n",
       "      <td>cvsp1_1</td>\n",
       "      <td>800</td>\n",
       "      <td>STG</td>\n",
       "      <td>...</td>\n",
       "      <td>478.138759</td>\n",
       "      <td>573.676951</td>\n",
       "      <td>477.851180</td>\n",
       "      <td>574</td>\n",
       "      <td>558</td>\n",
       "      <td>473</td>\n",
       "      <td>484</td>\n",
       "      <td>3</td>\n",
       "      <td>3</td>\n",
       "      <td>4</td>\n",
       "    </tr>\n",
       "    <tr>\n",
       "      <th>3</th>\n",
       "      <td>1</td>\n",
       "      <td>4</td>\n",
       "      <td>Exp14</td>\n",
       "      <td>MEC</td>\n",
       "      <td>NaN</td>\n",
       "      <td>0</td>\n",
       "      <td>0</td>\n",
       "      <td>cvsp1_1</td>\n",
       "      <td>800</td>\n",
       "      <td>STG</td>\n",
       "      <td>...</td>\n",
       "      <td>861.283227</td>\n",
       "      <td>1061.517517</td>\n",
       "      <td>862.483980</td>\n",
       "      <td>1014</td>\n",
       "      <td>1026</td>\n",
       "      <td>884</td>\n",
       "      <td>860</td>\n",
       "      <td>4</td>\n",
       "      <td>4</td>\n",
       "      <td>6</td>\n",
       "    </tr>\n",
       "    <tr>\n",
       "      <th>4</th>\n",
       "      <td>2</td>\n",
       "      <td>1</td>\n",
       "      <td>Exp14</td>\n",
       "      <td>MEC</td>\n",
       "      <td>NaN</td>\n",
       "      <td>0</td>\n",
       "      <td>0</td>\n",
       "      <td>cvsp1_10</td>\n",
       "      <td>800</td>\n",
       "      <td>STG</td>\n",
       "      <td>...</td>\n",
       "      <td>476.364239</td>\n",
       "      <td>759.346665</td>\n",
       "      <td>476.356138</td>\n",
       "      <td>746</td>\n",
       "      <td>775</td>\n",
       "      <td>469</td>\n",
       "      <td>436</td>\n",
       "      <td>1</td>\n",
       "      <td>1</td>\n",
       "      <td>2</td>\n",
       "    </tr>\n",
       "  </tbody>\n",
       "</table>\n",
       "<p>5 rows × 203 columns</p>\n",
       "</div>"
      ],
      "text/plain": [
       "   ImageNumber  ObjectNumber Metadata_Experiment Metadata_Experimenter  \\\n",
       "0            1             1               Exp14                   MEC   \n",
       "1            1             2               Exp14                   MEC   \n",
       "2            1             3               Exp14                   MEC   \n",
       "3            1             4               Exp14                   MEC   \n",
       "4            2             1               Exp14                   MEC   \n",
       "\n",
       "   Metadata_FileLocation  Metadata_Frame  Metadata_Series Metadata_Set  \\\n",
       "0                    NaN               0                0      cvsp1_1   \n",
       "1                    NaN               0                0      cvsp1_1   \n",
       "2                    NaN               0                0      cvsp1_1   \n",
       "3                    NaN               0                0      cvsp1_1   \n",
       "4                    NaN               0                0     cvsp1_10   \n",
       "\n",
       "   Metadata_Treatment Metadata_Type       ...         \\\n",
       "0                 800           STG       ...          \n",
       "1                 800           STG       ...          \n",
       "2                 800           STG       ...          \n",
       "3                 800           STG       ...          \n",
       "4                 800           STG       ...          \n",
       "\n",
       "   Mean_FilteredChromatin_Location_CenterMassIntensity_Y_Rhodamine  \\\n",
       "0                                         254.139998                 \n",
       "1                                         462.254761                 \n",
       "2                                         478.138759                 \n",
       "3                                         861.283227                 \n",
       "4                                         476.364239                 \n",
       "\n",
       "   Mean_FilteredChromatin_Location_Center_X  \\\n",
       "0                                579.448840   \n",
       "1                                604.993315   \n",
       "2                                573.676951   \n",
       "3                               1061.517517   \n",
       "4                                759.346665   \n",
       "\n",
       "   Mean_FilteredChromatin_Location_Center_Y  \\\n",
       "0                                254.848567   \n",
       "1                                462.199198   \n",
       "2                                477.851180   \n",
       "3                                862.483980   \n",
       "4                                476.356138   \n",
       "\n",
       "   Mean_FilteredChromatin_Location_MaxIntensity_X_DNA  \\\n",
       "0                                                582    \n",
       "1                                                601    \n",
       "2                                                574    \n",
       "3                                               1014    \n",
       "4                                                746    \n",
       "\n",
       "   Mean_FilteredChromatin_Location_MaxIntensity_X_Rhodamine  \\\n",
       "0                                                556          \n",
       "1                                                628          \n",
       "2                                                558          \n",
       "3                                               1026          \n",
       "4                                                775          \n",
       "\n",
       "   Mean_FilteredChromatin_Location_MaxIntensity_Y_DNA  \\\n",
       "0                                                257    \n",
       "1                                                470    \n",
       "2                                                473    \n",
       "3                                                884    \n",
       "4                                                469    \n",
       "\n",
       "   Mean_FilteredChromatin_Location_MaxIntensity_Y_Rhodamine  \\\n",
       "0                                                233          \n",
       "1                                                457          \n",
       "2                                                484          \n",
       "3                                                860          \n",
       "4                                                436          \n",
       "\n",
       "   Mean_FilteredChromatin_Number_Object_Number  Number_Object_Number  \\\n",
       "0                                            1                     1   \n",
       "1                                            2                     2   \n",
       "2                                            3                     3   \n",
       "3                                            4                     4   \n",
       "4                                            1                     1   \n",
       "\n",
       "   Parent_Spindles  \n",
       "0                2  \n",
       "1                3  \n",
       "2                4  \n",
       "3                6  \n",
       "4                2  \n",
       "\n",
       "[5 rows x 203 columns]"
      ]
     },
     "execution_count": 11,
     "metadata": {},
     "output_type": "execute_result"
    }
   ],
   "source": [
    "df_mix.head()"
   ]
  },
  {
   "cell_type": "code",
   "execution_count": 12,
   "metadata": {
    "collapsed": true
   },
   "outputs": [],
   "source": [
    "df_mix['Original_Dataset']=np.repeat(['df_mix'], np.shape(df_mix)[0])"
   ]
  },
  {
   "cell_type": "code",
   "execution_count": 13,
   "metadata": {
    "collapsed": false
   },
   "outputs": [
    {
     "data": {
      "text/plain": [
       "(1190, 204)"
      ]
     },
     "execution_count": 13,
     "metadata": {},
     "output_type": "execute_result"
    }
   ],
   "source": [
    "np.shape(df_mix)"
   ]
  },
  {
   "cell_type": "code",
   "execution_count": 14,
   "metadata": {
    "collapsed": false,
    "scrolled": true
   },
   "outputs": [
    {
     "name": "stdout",
     "output_type": "stream",
     "text": [
      "(247, 204)\n",
      "(217, 204)\n",
      "(374, 204)\n",
      "(352, 204)\n"
     ]
    }
   ],
   "source": [
    "df_mix_800=df_mix[df_mix.Metadata_Treatment==800]\n",
    "print df_mix_800.shape\n",
    "df_mix_850=df_mix[df_mix.Metadata_Treatment==850]\n",
    "print df_mix_850.shape\n",
    "df_mix_875=df_mix[df_mix.Metadata_Treatment==875]\n",
    "print df_mix_875.shape\n",
    "df_mix_890=df_mix[df_mix.Metadata_Treatment==890]\n",
    "print df_mix_890.shape"
   ]
  },
  {
   "cell_type": "markdown",
   "metadata": {},
   "source": [
    "Part 2 of 3: (mixing experiments)"
   ]
  },
  {
   "cell_type": "code",
   "execution_count": 15,
   "metadata": {
    "collapsed": false
   },
   "outputs": [],
   "source": [
    "STG8_all=df_STG8[df_STG8['Metadata_Type']=='STG']"
   ]
  },
  {
   "cell_type": "code",
   "execution_count": 16,
   "metadata": {
    "collapsed": false
   },
   "outputs": [
    {
     "data": {
      "text/plain": [
       "(2087, 203)"
      ]
     },
     "execution_count": 16,
     "metadata": {},
     "output_type": "execute_result"
    }
   ],
   "source": [
    "np.shape(STG8_all)"
   ]
  },
  {
   "cell_type": "code",
   "execution_count": 17,
   "metadata": {
    "collapsed": false,
    "scrolled": false
   },
   "outputs": [
    {
     "name": "stderr",
     "output_type": "stream",
     "text": [
      "/usr/local/lib/python2.7/site-packages/IPython/kernel/__main__.py:1: SettingWithCopyWarning: \n",
      "A value is trying to be set on a copy of a slice from a DataFrame.\n",
      "Try using .loc[row_indexer,col_indexer] = value instead\n",
      "\n",
      "See the the caveats in the documentation: http://pandas.pydata.org/pandas-docs/stable/indexing.html#indexing-view-versus-copy\n",
      "  if __name__ == '__main__':\n"
     ]
    }
   ],
   "source": [
    "STG8_all['Original_Dataset']=np.repeat(['ST8_all'],np.shape(STG8_all)[0])"
   ]
  },
  {
   "cell_type": "code",
   "execution_count": 18,
   "metadata": {
    "collapsed": false
   },
   "outputs": [
    {
     "data": {
      "text/plain": [
       "(2087, 204)"
      ]
     },
     "execution_count": 18,
     "metadata": {},
     "output_type": "execute_result"
    }
   ],
   "source": [
    "np.shape(STG8_all)"
   ]
  },
  {
   "cell_type": "markdown",
   "metadata": {},
   "source": [
    "Part 3 of 3: (CSF spindles)"
   ]
  },
  {
   "cell_type": "code",
   "execution_count": 19,
   "metadata": {
    "collapsed": false
   },
   "outputs": [
    {
     "data": {
      "text/plain": [
       "(3623, 203)"
      ]
     },
     "execution_count": 19,
     "metadata": {},
     "output_type": "execute_result"
    }
   ],
   "source": [
    "np.shape(df_complete[df_complete['Metadata_Type']=='CSF'])"
   ]
  },
  {
   "cell_type": "code",
   "execution_count": 20,
   "metadata": {
    "collapsed": true
   },
   "outputs": [],
   "source": [
    "CSF_all=df_complete[df_complete['Metadata_Type']=='CSF']"
   ]
  },
  {
   "cell_type": "code",
   "execution_count": 21,
   "metadata": {
    "collapsed": false
   },
   "outputs": [
    {
     "name": "stderr",
     "output_type": "stream",
     "text": [
      "/usr/local/lib/python2.7/site-packages/IPython/kernel/__main__.py:1: SettingWithCopyWarning: \n",
      "A value is trying to be set on a copy of a slice from a DataFrame.\n",
      "Try using .loc[row_indexer,col_indexer] = value instead\n",
      "\n",
      "See the the caveats in the documentation: http://pandas.pydata.org/pandas-docs/stable/indexing.html#indexing-view-versus-copy\n",
      "  if __name__ == '__main__':\n"
     ]
    }
   ],
   "source": [
    "CSF_all['Original_Dataset']=np.repeat(['df_complete'], np.shape(CSF_all)[0])"
   ]
  },
  {
   "cell_type": "code",
   "execution_count": 22,
   "metadata": {
    "collapsed": false
   },
   "outputs": [
    {
     "data": {
      "text/plain": [
       "(3623, 204)"
      ]
     },
     "execution_count": 22,
     "metadata": {},
     "output_type": "execute_result"
    }
   ],
   "source": [
    "np.shape(CSF_all)"
   ]
  },
  {
   "cell_type": "code",
   "execution_count": 23,
   "metadata": {
    "collapsed": false
   },
   "outputs": [],
   "source": [
    "CSF_STG8=pd.concat([STG8_all,CSF_all])"
   ]
  },
  {
   "cell_type": "code",
   "execution_count": 24,
   "metadata": {
    "collapsed": false
   },
   "outputs": [
    {
     "data": {
      "text/plain": [
       "(5710, 204)"
      ]
     },
     "execution_count": 24,
     "metadata": {},
     "output_type": "execute_result"
    }
   ],
   "source": [
    "CSF_STG8.shape"
   ]
  },
  {
   "cell_type": "code",
   "execution_count": 25,
   "metadata": {
    "collapsed": false
   },
   "outputs": [],
   "source": [
    "target=map(lambda x: {'CSF':0, 'STG':1}[x], CSF_STG8['Metadata_Type'])"
   ]
  },
  {
   "cell_type": "markdown",
   "metadata": {},
   "source": [
    "Mixing datasets for testing classifier performance. These datasets will onlhy be used as OoS. The hypothesis is that, as you add CSF extract to the STG8 extract, you loose characteristics of STG8 and mis-classification becomes more common."
   ]
  },
  {
   "cell_type": "code",
   "execution_count": 26,
   "metadata": {
    "collapsed": false
   },
   "outputs": [
    {
     "name": "stdout",
     "output_type": "stream",
     "text": [
      "(495, 204)\n",
      "(437, 204)\n",
      "(749, 204)\n",
      "(704, 204)\n"
     ]
    }
   ],
   "source": [
    "df_mix_800=df_mix[df_mix.Metadata_Treatment==800]\n",
    "df_mix_800=pd.concat([df_mix_800,CSF_all.iloc[0:248,:]])\n",
    "print df_mix_800.shape\n",
    "df_mix_850=df_mix[df_mix.Metadata_Treatment==850]\n",
    "df_mix_850=pd.concat([df_mix_850,CSF_all.iloc[0:220,:]])\n",
    "print df_mix_850.shape\n",
    "df_mix_875=df_mix[df_mix.Metadata_Treatment==875]\n",
    "df_mix_875=pd.concat([df_mix_875,CSF_all.iloc[0:375,:]])\n",
    "print df_mix_875.shape\n",
    "df_mix_890=df_mix[df_mix.Metadata_Treatment==890]\n",
    "df_mix_890=pd.concat([df_mix_890,CSF_all.iloc[0:352,:]])\n",
    "print df_mix_890.shape"
   ]
  },
  {
   "cell_type": "code",
   "execution_count": 27,
   "metadata": {
    "collapsed": false
   },
   "outputs": [
    {
     "name": "stdout",
     "output_type": "stream",
     "text": [
      "['Mean_FilteredChromatin_Location_Center_X', 'Mean_FilteredChromatin_Location_Center_Y', 'Mean_FilteredChromatin_Location_MaxIntensity_X_DNA', 'Mean_FilteredChromatin_Location_MaxIntensity_X_Rhodamine', 'Mean_FilteredChromatin_Location_MaxIntensity_Y_DNA', 'Mean_FilteredChromatin_Location_MaxIntensity_Y_Rhodamine', 'Mean_FilteredChromatin_Number_Object_Number', 'Number_Object_Number', 'Parent_Spindles', 'Original_Dataset']\n",
      "['Mean_FilteredChromatin_Location_Center_X', 'Mean_FilteredChromatin_Location_Center_Y', 'Mean_FilteredChromatin_Location_MaxIntensity_X_DNA', 'Mean_FilteredChromatin_Location_MaxIntensity_X_Rhodamine', 'Mean_FilteredChromatin_Location_MaxIntensity_Y_DNA', 'Mean_FilteredChromatin_Location_MaxIntensity_Y_Rhodamine', 'Mean_FilteredChromatin_Number_Object_Number', 'Number_Object_Number', 'Parent_Spindles', 'Original_Dataset']\n"
     ]
    }
   ],
   "source": [
    "print list(df_mix_800.columns[-10:])\n",
    "print list(CSF_STG8.columns[-10:])"
   ]
  },
  {
   "cell_type": "markdown",
   "metadata": {},
   "source": [
    "###Preliminary feature selection and engineering\n",
    "We will **remove metadata** columns, **add back target** column, **add Euclidian distance** column, **remove locator** columns, **remove missing data** columns.     \n",
    "     \n",
    "Added in this version of the notebook. The analysis will be done without the DNA/chromatin related variables). "
   ]
  },
  {
   "cell_type": "markdown",
   "metadata": {},
   "source": [
    "Meta data:"
   ]
  },
  {
   "cell_type": "code",
   "execution_count": 28,
   "metadata": {
    "collapsed": false
   },
   "outputs": [
    {
     "data": {
      "text/plain": [
       "['ImageNumber',\n",
       " 'ObjectNumber',\n",
       " 'Metadata_Experiment',\n",
       " 'Metadata_Experimenter',\n",
       " 'Metadata_FileLocation',\n",
       " 'Metadata_Frame',\n",
       " 'Metadata_Series',\n",
       " 'Metadata_Set',\n",
       " 'Metadata_Treatment',\n",
       " 'Metadata_Type',\n",
       " 'Metadata_cvsp',\n",
       " 'Number_Object_Number']"
      ]
     },
     "execution_count": 28,
     "metadata": {},
     "output_type": "execute_result"
    }
   ],
   "source": [
    "list(meta.meta_columns)"
   ]
  },
  {
   "cell_type": "markdown",
   "metadata": {},
   "source": [
    "Missing values (note that these are the same columns as in the TPX2 dataset):"
   ]
  },
  {
   "cell_type": "code",
   "execution_count": 29,
   "metadata": {
    "collapsed": false
   },
   "outputs": [
    {
     "data": {
      "text/plain": [
       "['Metadata_FileLocation',\n",
       " 'Mean_FilteredChromatin_Distance_Centroid_FilteredSpindles',\n",
       " 'Mean_FilteredChromatin_Distance_Minimum_FilteredSpindles']"
      ]
     },
     "execution_count": 29,
     "metadata": {},
     "output_type": "execute_result"
    }
   ],
   "source": [
    "list(np.sum(CSF_STG8.isnull()==True)[np.sum(CSF_STG8.isnull()==True)!=0].index)"
   ]
  },
  {
   "cell_type": "code",
   "execution_count": 30,
   "metadata": {
    "collapsed": true
   },
   "outputs": [],
   "source": [
    "NAs=list(np.sum(CSF_STG8.isnull()==True)[np.sum(CSF_STG8.isnull()==True)!=0].index)"
   ]
  },
  {
   "cell_type": "code",
   "execution_count": 31,
   "metadata": {
    "collapsed": false
   },
   "outputs": [
    {
     "data": {
      "text/plain": [
       "(5710, 204)"
      ]
     },
     "execution_count": 31,
     "metadata": {},
     "output_type": "execute_result"
    }
   ],
   "source": [
    "CSF_STG8.shape"
   ]
  },
  {
   "cell_type": "markdown",
   "metadata": {},
   "source": [
    "Euclidian distance between geometric center and center of detected object:"
   ]
  },
  {
   "cell_type": "code",
   "execution_count": 32,
   "metadata": {
    "collapsed": true
   },
   "outputs": [],
   "source": [
    "def Euclidian_norm(x1,x2,y1,y2):\n",
    "    a_sq=(np.abs(x1-x2))**2\n",
    "    b_sq=(np.abs(y1-y2))**2\n",
    "    c=np.sqrt(a_sq+b_sq)\n",
    "    return c"
   ]
  },
  {
   "cell_type": "code",
   "execution_count": 33,
   "metadata": {
    "collapsed": true
   },
   "outputs": [],
   "source": [
    "CSF_STG8['Euclidian_norm_centers']=Euclidian_norm(CSF_STG8.AreaShape_Center_X,CSF_STG8.Location_Center_X,CSF_STG8.AreaShape_Center_Y,CSF_STG8.Location_Center_Y)"
   ]
  },
  {
   "cell_type": "code",
   "execution_count": 34,
   "metadata": {
    "collapsed": false
   },
   "outputs": [],
   "source": [
    "df_mix_800['Euclidian_norm_centers']=Euclidian_norm(df_mix_800.AreaShape_Center_X,df_mix_800.Location_Center_X,df_mix_800.AreaShape_Center_Y,df_mix_800.Location_Center_Y)\n",
    "df_mix_850['Euclidian_norm_centers']=Euclidian_norm(df_mix_850.AreaShape_Center_X,df_mix_850.Location_Center_X,df_mix_850.AreaShape_Center_Y,df_mix_850.Location_Center_Y)\n",
    "df_mix_875['Euclidian_norm_centers']=Euclidian_norm(df_mix_875.AreaShape_Center_X,df_mix_875.Location_Center_X,df_mix_875.AreaShape_Center_Y,df_mix_875.Location_Center_Y)\n",
    "df_mix_890['Euclidian_norm_centers']=Euclidian_norm(df_mix_890.AreaShape_Center_X,df_mix_890.Location_Center_X,df_mix_890.AreaShape_Center_Y,df_mix_890.Location_Center_Y)\n"
   ]
  },
  {
   "cell_type": "code",
   "execution_count": 35,
   "metadata": {
    "collapsed": false
   },
   "outputs": [
    {
     "name": "stdout",
     "output_type": "stream",
     "text": [
      "['Mean_FilteredChromatin_Location_Center_Y', 'Mean_FilteredChromatin_Location_MaxIntensity_X_DNA', 'Mean_FilteredChromatin_Location_MaxIntensity_X_Rhodamine', 'Mean_FilteredChromatin_Location_MaxIntensity_Y_DNA', 'Mean_FilteredChromatin_Location_MaxIntensity_Y_Rhodamine', 'Mean_FilteredChromatin_Number_Object_Number', 'Number_Object_Number', 'Parent_Spindles', 'Original_Dataset', 'Euclidian_norm_centers']\n",
      "['Mean_FilteredChromatin_Location_Center_Y', 'Mean_FilteredChromatin_Location_MaxIntensity_X_DNA', 'Mean_FilteredChromatin_Location_MaxIntensity_X_Rhodamine', 'Mean_FilteredChromatin_Location_MaxIntensity_Y_DNA', 'Mean_FilteredChromatin_Location_MaxIntensity_Y_Rhodamine', 'Mean_FilteredChromatin_Number_Object_Number', 'Number_Object_Number', 'Parent_Spindles', 'Original_Dataset', 'Euclidian_norm_centers']\n"
     ]
    }
   ],
   "source": [
    "print list(df_mix_800.columns[-10:])\n",
    "print list(CSF_STG8.columns[-10:])"
   ]
  },
  {
   "cell_type": "markdown",
   "metadata": {},
   "source": [
    "Object locators:"
   ]
  },
  {
   "cell_type": "code",
   "execution_count": 36,
   "metadata": {
    "collapsed": true
   },
   "outputs": [],
   "source": [
    "object_locators = pd.read_table('../Data/columns_obj_locators_ext.txt',header=None,names=['loc_columns'])"
   ]
  },
  {
   "cell_type": "markdown",
   "metadata": {},
   "source": [
    "Dropping: metadata, object locators, missing values."
   ]
  },
  {
   "cell_type": "code",
   "execution_count": 37,
   "metadata": {
    "collapsed": false
   },
   "outputs": [],
   "source": [
    "to_drop=NAs+list(meta.meta_columns)+list(object_locators.loc_columns)"
   ]
  },
  {
   "cell_type": "code",
   "execution_count": 38,
   "metadata": {
    "collapsed": false
   },
   "outputs": [
    {
     "data": {
      "text/plain": [
       "(5710, 205)"
      ]
     },
     "execution_count": 38,
     "metadata": {},
     "output_type": "execute_result"
    }
   ],
   "source": [
    "CSF_STG8.shape #before"
   ]
  },
  {
   "cell_type": "code",
   "execution_count": 39,
   "metadata": {
    "collapsed": false
   },
   "outputs": [
    {
     "data": {
      "text/plain": [
       "(5710, 167)"
      ]
     },
     "execution_count": 39,
     "metadata": {},
     "output_type": "execute_result"
    }
   ],
   "source": [
    "CSF_STG8.drop(to_drop,axis=1,inplace=True)\n",
    "CSF_STG8.shape #after"
   ]
  },
  {
   "cell_type": "code",
   "execution_count": 40,
   "metadata": {
    "collapsed": false
   },
   "outputs": [
    {
     "name": "stdout",
     "output_type": "stream",
     "text": [
      "(495, 167)\n",
      "(437, 167)\n",
      "(749, 167)\n",
      "(704, 167)\n"
     ]
    }
   ],
   "source": [
    "#target=map(lambda x: {'CSF':0, 'STG':1}[x], CSF_STG8['Metadata_Type'])\n",
    "Y_800=map(lambda x: {'CSF':0, 'STG':1}[x],df_mix_800['Metadata_Type'])\n",
    "df_mix_800.drop(to_drop,axis=1,inplace=True)\n",
    "print df_mix_800.shape\n",
    "Y_850=map(lambda x: {'CSF':0, 'STG':1}[x],df_mix_850['Metadata_Type'])\n",
    "df_mix_850.drop(to_drop,axis=1,inplace=True)\n",
    "print df_mix_850.shape\n",
    "Y_875=map(lambda x: {'CSF':0, 'STG':1}[x],df_mix_875['Metadata_Type'])\n",
    "df_mix_875.drop(to_drop,axis=1,inplace=True)\n",
    "print df_mix_875.shape\n",
    "Y_890=map(lambda x: {'CSF':0, 'STG':1}[x],df_mix_890['Metadata_Type'])\n",
    "df_mix_890.drop(to_drop,axis=1,inplace=True)\n",
    "print df_mix_890.shape"
   ]
  },
  {
   "cell_type": "markdown",
   "metadata": {},
   "source": [
    "Pay attention to 'Original_Dataset'. "
   ]
  },
  {
   "cell_type": "code",
   "execution_count": 41,
   "metadata": {
    "collapsed": false
   },
   "outputs": [
    {
     "data": {
      "text/plain": [
       "(5710, 166)"
      ]
     },
     "execution_count": 41,
     "metadata": {},
     "output_type": "execute_result"
    }
   ],
   "source": [
    "source_CSF_STG8 = CSF_STG8['Original_Dataset']\n",
    "CSF_STG8.drop('Original_Dataset',axis=1, inplace=True)\n",
    "CSF_STG8.shape"
   ]
  },
  {
   "cell_type": "code",
   "execution_count": 42,
   "metadata": {
    "collapsed": false
   },
   "outputs": [
    {
     "name": "stdout",
     "output_type": "stream",
     "text": [
      "(495, 166)\n",
      "(437, 166)\n",
      "(749, 166)\n",
      "(704, 166)\n"
     ]
    }
   ],
   "source": [
    "df_mix_800.drop('Original_Dataset',axis=1,inplace=True)\n",
    "print df_mix_800.shape\n",
    "df_mix_850.drop('Original_Dataset',axis=1,inplace=True)\n",
    "print df_mix_850.shape\n",
    "df_mix_875.drop('Original_Dataset',axis=1,inplace=True)\n",
    "print df_mix_875.shape\n",
    "df_mix_890.drop('Original_Dataset',axis=1,inplace=True)\n",
    "print df_mix_890.shape"
   ]
  },
  {
   "cell_type": "markdown",
   "metadata": {},
   "source": [
    "Adding Target column"
   ]
  },
  {
   "cell_type": "code",
   "execution_count": 43,
   "metadata": {
    "collapsed": false
   },
   "outputs": [
    {
     "data": {
      "text/plain": [
       "(5710, 167)"
      ]
     },
     "execution_count": 43,
     "metadata": {},
     "output_type": "execute_result"
    }
   ],
   "source": [
    "CSF_STG8['Target']=target\n",
    "CSF_STG8.shape"
   ]
  },
  {
   "cell_type": "code",
   "execution_count": 44,
   "metadata": {
    "collapsed": false,
    "scrolled": true
   },
   "outputs": [],
   "source": [
    "#df_mix_800['Target']=Y_800\n",
    "#df_mix_800.shape\n",
    "#df_mix_890['Target']=Y_890\n",
    "#df_mix_890.shape\n",
    "#df_mix_875['Target']=Y_875\n",
    "#df_mix_875.shape\n",
    "#df_mix_850['Target']=Y_850\n",
    "#df_mix_850.shape"
   ]
  },
  {
   "cell_type": "markdown",
   "metadata": {},
   "source": [
    "Find and remove chromatin/DNA releated features."
   ]
  },
  {
   "cell_type": "code",
   "execution_count": 45,
   "metadata": {
    "collapsed": false,
    "scrolled": true
   },
   "outputs": [
    {
     "name": "stdout",
     "output_type": "stream",
     "text": [
      "Children_FilteredChromatin_Count\n",
      "Intensity_IntegratedIntensityEdge_DNA\n",
      "Intensity_IntegratedIntensity_DNA\n",
      "Intensity_LowerQuartileIntensity_DNA\n",
      "Intensity_MADIntensity_DNA\n",
      "Intensity_MassDisplacement_DNA\n",
      "Intensity_MaxIntensityEdge_DNA\n",
      "Intensity_MaxIntensity_DNA\n",
      "Intensity_MeanIntensityEdge_DNA\n",
      "Intensity_MeanIntensity_DNA\n",
      "Intensity_MedianIntensity_DNA\n",
      "Intensity_MinIntensityEdge_DNA\n",
      "Intensity_MinIntensity_DNA\n",
      "Intensity_StdIntensityEdge_DNA\n",
      "Intensity_StdIntensity_DNA\n",
      "Intensity_UpperQuartileIntensity_DNA\n",
      "Math_SpindletoChromatinArea\n",
      "Math_TotalChromatinArea\n",
      "Math_TotalChromatinIntegratedIntensity\n",
      "Math_TotalChromatinMaxFeret\n",
      "Math_TotalChromatinPerimeter\n",
      "Mean_FilteredChromatin_AreaShape_Area\n",
      "Mean_FilteredChromatin_AreaShape_Compactness\n",
      "Mean_FilteredChromatin_AreaShape_Eccentricity\n",
      "Mean_FilteredChromatin_AreaShape_EulerNumber\n",
      "Mean_FilteredChromatin_AreaShape_Extent\n",
      "Mean_FilteredChromatin_AreaShape_FormFactor\n",
      "Mean_FilteredChromatin_AreaShape_MajorAxisLength\n",
      "Mean_FilteredChromatin_AreaShape_MaxFeretDiameter\n",
      "Mean_FilteredChromatin_AreaShape_MaximumRadius\n",
      "Mean_FilteredChromatin_AreaShape_MeanRadius\n",
      "Mean_FilteredChromatin_AreaShape_MedianRadius\n",
      "Mean_FilteredChromatin_AreaShape_MinFeretDiameter\n",
      "Mean_FilteredChromatin_AreaShape_MinorAxisLength\n",
      "Mean_FilteredChromatin_AreaShape_Orientation\n",
      "Mean_FilteredChromatin_AreaShape_Perimeter\n",
      "Mean_FilteredChromatin_AreaShape_Solidity\n",
      "Mean_FilteredChromatin_AreaShape_Zernike_0_0\n",
      "Mean_FilteredChromatin_AreaShape_Zernike_1_1\n",
      "Mean_FilteredChromatin_AreaShape_Zernike_2_0\n",
      "Mean_FilteredChromatin_AreaShape_Zernike_2_2\n",
      "Mean_FilteredChromatin_AreaShape_Zernike_3_1\n",
      "Mean_FilteredChromatin_AreaShape_Zernike_3_3\n",
      "Mean_FilteredChromatin_AreaShape_Zernike_4_0\n",
      "Mean_FilteredChromatin_AreaShape_Zernike_4_2\n",
      "Mean_FilteredChromatin_AreaShape_Zernike_4_4\n",
      "Mean_FilteredChromatin_AreaShape_Zernike_5_1\n",
      "Mean_FilteredChromatin_AreaShape_Zernike_5_3\n",
      "Mean_FilteredChromatin_AreaShape_Zernike_5_5\n",
      "Mean_FilteredChromatin_AreaShape_Zernike_6_0\n",
      "Mean_FilteredChromatin_AreaShape_Zernike_6_2\n",
      "Mean_FilteredChromatin_AreaShape_Zernike_6_4\n",
      "Mean_FilteredChromatin_AreaShape_Zernike_6_6\n",
      "Mean_FilteredChromatin_AreaShape_Zernike_7_1\n",
      "Mean_FilteredChromatin_AreaShape_Zernike_7_3\n",
      "Mean_FilteredChromatin_AreaShape_Zernike_7_5\n",
      "Mean_FilteredChromatin_AreaShape_Zernike_7_7\n",
      "Mean_FilteredChromatin_AreaShape_Zernike_8_0\n",
      "Mean_FilteredChromatin_AreaShape_Zernike_8_2\n",
      "Mean_FilteredChromatin_AreaShape_Zernike_8_4\n",
      "Mean_FilteredChromatin_AreaShape_Zernike_8_6\n",
      "Mean_FilteredChromatin_AreaShape_Zernike_8_8\n",
      "Mean_FilteredChromatin_AreaShape_Zernike_9_1\n",
      "Mean_FilteredChromatin_AreaShape_Zernike_9_3\n",
      "Mean_FilteredChromatin_AreaShape_Zernike_9_5\n",
      "Mean_FilteredChromatin_AreaShape_Zernike_9_7\n",
      "Mean_FilteredChromatin_AreaShape_Zernike_9_9\n",
      "Mean_FilteredChromatin_Intensity_IntegratedIntensityEdge_DNA\n",
      "Mean_FilteredChromatin_Intensity_IntegratedIntensityEdge_Rhodamine\n",
      "Mean_FilteredChromatin_Intensity_IntegratedIntensity_DNA\n",
      "Mean_FilteredChromatin_Intensity_IntegratedIntensity_Rhodamine\n",
      "Mean_FilteredChromatin_Intensity_LowerQuartileIntensity_DNA\n",
      "Mean_FilteredChromatin_Intensity_LowerQuartileIntensity_Rhodamine\n",
      "Mean_FilteredChromatin_Intensity_MADIntensity_DNA\n",
      "Mean_FilteredChromatin_Intensity_MADIntensity_Rhodamine\n",
      "Mean_FilteredChromatin_Intensity_MassDisplacement_DNA\n",
      "Mean_FilteredChromatin_Intensity_MassDisplacement_Rhodamine\n",
      "Mean_FilteredChromatin_Intensity_MaxIntensityEdge_DNA\n",
      "Mean_FilteredChromatin_Intensity_MaxIntensityEdge_Rhodamine\n",
      "Mean_FilteredChromatin_Intensity_MaxIntensity_DNA\n",
      "Mean_FilteredChromatin_Intensity_MaxIntensity_Rhodamine\n",
      "Mean_FilteredChromatin_Intensity_MeanIntensityEdge_DNA\n",
      "Mean_FilteredChromatin_Intensity_MeanIntensityEdge_Rhodamine\n",
      "Mean_FilteredChromatin_Intensity_MeanIntensity_DNA\n",
      "Mean_FilteredChromatin_Intensity_MeanIntensity_Rhodamine\n",
      "Mean_FilteredChromatin_Intensity_MedianIntensity_DNA\n",
      "Mean_FilteredChromatin_Intensity_MedianIntensity_Rhodamine\n",
      "Mean_FilteredChromatin_Intensity_MinIntensityEdge_DNA\n",
      "Mean_FilteredChromatin_Intensity_MinIntensityEdge_Rhodamine\n",
      "Mean_FilteredChromatin_Intensity_MinIntensity_DNA\n",
      "Mean_FilteredChromatin_Intensity_MinIntensity_Rhodamine\n",
      "Mean_FilteredChromatin_Intensity_StdIntensityEdge_DNA\n",
      "Mean_FilteredChromatin_Intensity_StdIntensityEdge_Rhodamine\n",
      "Mean_FilteredChromatin_Intensity_StdIntensity_DNA\n",
      "Mean_FilteredChromatin_Intensity_StdIntensity_Rhodamine\n",
      "Mean_FilteredChromatin_Intensity_UpperQuartileIntensity_DNA\n",
      "Mean_FilteredChromatin_Intensity_UpperQuartileIntensity_Rhodamine\n",
      "Mean_FilteredChromatin_Number_Object_Number\n"
     ]
    }
   ],
   "source": [
    "chromatin_vars=[]\n",
    "\n",
    "for col in list(CSF_STG8.columns):\n",
    "    if re.match('.*chromatin.*',col,re.IGNORECASE) != None:\n",
    "        print re.match('.*chromatin.*',col,re.IGNORECASE).group(0)\n",
    "        chromatin_vars.append(re.match('.*chromatin.*',col,re.IGNORECASE).group(0))\n",
    "\n",
    "    elif re.match('.*DNA.*',col,re.IGNORECASE) != None:\n",
    "        print re.match('.*DNA.*',col,re.IGNORECASE).group(0)\n",
    "        chromatin_vars.append(re.match('.*DNA.*',col,re.IGNORECASE).group(0))\n"
   ]
  },
  {
   "cell_type": "code",
   "execution_count": 46,
   "metadata": {
    "collapsed": false
   },
   "outputs": [
    {
     "name": "stdout",
     "output_type": "stream",
     "text": [
      "98\n",
      "90\n"
     ]
    }
   ],
   "source": [
    "print chromatin_vars.__len__()\n",
    "    chromatin_vars_2=pd.read_table('../Data/columns_chromatin_v2.txt')\n",
    "print chromatin_vars_2.__len__()"
   ]
  },
  {
   "cell_type": "code",
   "execution_count": 47,
   "metadata": {
    "collapsed": false
   },
   "outputs": [
    {
     "name": "stdout",
     "output_type": "stream",
     "text": [
      "(495, 68)\n",
      "(437, 68)\n",
      "(749, 68)\n",
      "(704, 68)\n"
     ]
    }
   ],
   "source": [
    "CSF_STG8.drop(chromatin_vars,axis=1,inplace=True)\n",
    "df_mix_800.drop(chromatin_vars,axis=1,inplace=True)\n",
    "print df_mix_800.shape\n",
    "df_mix_850.drop(chromatin_vars,axis=1,inplace=True)\n",
    "print df_mix_850.shape\n",
    "df_mix_875.drop(chromatin_vars,axis=1,inplace=True)\n",
    "print df_mix_875.shape\n",
    "df_mix_890.drop(chromatin_vars,axis=1,inplace=True)\n",
    "print df_mix_890.shape"
   ]
  },
  {
   "cell_type": "code",
   "execution_count": 48,
   "metadata": {
    "collapsed": false
   },
   "outputs": [
    {
     "data": {
      "text/plain": [
       "Index([u'Intensity_StdIntensity_Rhodamine',\n",
       "       u'Intensity_UpperQuartileIntensity_Rhodamine', u'Math_AreaSquareMicron',\n",
       "       u'Math_AspectRatio', u'Math_BeadAreaEquiv', u'Math_MaxFeretMicron',\n",
       "       u'Math_MinFeretMicron', u'Parent_Spindles', u'Euclidian_norm_centers',\n",
       "       u'Target'],\n",
       "      dtype='object')"
      ]
     },
     "execution_count": 48,
     "metadata": {},
     "output_type": "execute_result"
    }
   ],
   "source": [
    "CSF_STG8.columns[-10:]"
   ]
  },
  {
   "cell_type": "markdown",
   "metadata": {},
   "source": [
    "###Zero-variance feature removal"
   ]
  },
  {
   "cell_type": "markdown",
   "metadata": {},
   "source": [
    "Removing features with zero-variance. Keeping near-zero ones for now. The first attempt is with the scikit-learn.\n"
   ]
  },
  {
   "cell_type": "markdown",
   "metadata": {},
   "source": [
    "Let's map the variable name to the value of the first row."
   ]
  },
  {
   "cell_type": "code",
   "execution_count": 49,
   "metadata": {
    "collapsed": false
   },
   "outputs": [
    {
     "name": "stdout",
     "output_type": "stream",
     "text": [
      "69\n",
      "68\n"
     ]
    }
   ],
   "source": [
    "print len(CSF_STG8.iloc[0,:])\n",
    "print len(np.unique(CSF_STG8.iloc[0,:]))\n",
    "col_info=zip(CSF_STG8.iloc[0,:],CSF_STG8.columns.tolist())"
   ]
  },
  {
   "cell_type": "code",
   "execution_count": 50,
   "metadata": {
    "collapsed": false
   },
   "outputs": [
    {
     "name": "stdout",
     "output_type": "stream",
     "text": [
      "1\n",
      "AreaShape_EulerNumber    0\n",
      "dtype: float64\n"
     ]
    }
   ],
   "source": [
    "print(np.sum(CSF_STG8.var()==0.0))\n",
    "print(CSF_STG8.var()[CSF_STG8.var()==0.0])"
   ]
  },
  {
   "cell_type": "markdown",
   "metadata": {},
   "source": [
    "There is one value with 0 variance (EulerNumber), but the scikit-learn will also drop the Euclidian_norm_centers (must be sensitivity issue)."
   ]
  },
  {
   "cell_type": "code",
   "execution_count": 51,
   "metadata": {
    "collapsed": false,
    "scrolled": true
   },
   "outputs": [
    {
     "data": {
      "text/plain": [
       "array([  0.00000000e+00,   4.00299869e-08,   3.00345014e-06,\n",
       "         3.48072570e-06,   3.58909998e-06,   4.62881962e-06,\n",
       "         4.79727241e-06,   5.25157404e-06,   7.48498148e-06,\n",
       "         8.10967659e-06,   8.23850997e-06,   8.90477718e-06,\n",
       "         9.08239174e-06,   1.05233602e-05,   1.17784029e-05,\n",
       "         1.47422488e-05,   1.47792185e-05,   1.59770027e-05,\n",
       "         1.67607029e-05,   1.86066740e-05,   1.87485277e-05,\n",
       "         2.10032525e-05,   2.71806778e-05,   2.80668627e-05,\n",
       "         3.10542928e-05,   3.13105195e-05,   3.17771366e-05,\n",
       "         4.39476517e-05,   4.93984584e-05,   5.29529791e-05,\n",
       "         6.31534473e-05,   6.62673780e-05,   7.81677234e-05,\n",
       "         8.10023102e-05,   1.15232600e-04,   1.31742261e-04,\n",
       "         2.17026076e-04,   3.23013799e-04,   3.29238696e-04,\n",
       "         3.47852980e-04,   8.21226297e-04,   1.61042115e-03,\n",
       "         1.37680515e-02,   1.50502533e-02,   1.98678483e-02,\n",
       "         2.17361537e-02,   3.81953696e-02,   2.31950136e-01,\n",
       "         8.49432033e-01,   1.10838368e+00,   1.51882412e+00,\n",
       "         2.96856280e+00,   8.18105918e+00,   2.95814856e+01,\n",
       "         3.62820788e+01,   3.65365893e+01,   5.28716825e+01,\n",
       "         1.13838518e+02,   2.22965446e+02,   2.81515184e+02,\n",
       "         1.23656952e+03,   1.38569967e+03,   2.69683536e+03,\n",
       "         4.29512866e+03,   4.34776621e+03,   2.11434848e+04,\n",
       "         4.46582754e+04,   6.26979074e+04,   6.51412140e+07])"
      ]
     },
     "execution_count": 51,
     "metadata": {},
     "output_type": "execute_result"
    }
   ],
   "source": [
    "np.sort(CSF_STG8.var())"
   ]
  },
  {
   "cell_type": "code",
   "execution_count": 52,
   "metadata": {
    "collapsed": true
   },
   "outputs": [],
   "source": [
    "from sklearn.feature_selection import VarianceThreshold"
   ]
  },
  {
   "cell_type": "markdown",
   "metadata": {},
   "source": [
    "We need to do it without the target column."
   ]
  },
  {
   "cell_type": "code",
   "execution_count": 53,
   "metadata": {
    "collapsed": false
   },
   "outputs": [],
   "source": [
    "X=CSF_STG8.iloc[:,:-1].values"
   ]
  },
  {
   "cell_type": "code",
   "execution_count": 54,
   "metadata": {
    "collapsed": false
   },
   "outputs": [
    {
     "data": {
      "text/plain": [
       "{'threshold': 0.0}"
      ]
     },
     "execution_count": 54,
     "metadata": {},
     "output_type": "execute_result"
    }
   ],
   "source": [
    "selector=VarianceThreshold(threshold=0.0)\n",
    "selector.fit(X)\n",
    "selector.get_params()"
   ]
  },
  {
   "cell_type": "code",
   "execution_count": 55,
   "metadata": {
    "collapsed": false
   },
   "outputs": [
    {
     "data": {
      "text/plain": [
       "((5710, 68), (5710, 67))"
      ]
     },
     "execution_count": 55,
     "metadata": {},
     "output_type": "execute_result"
    }
   ],
   "source": [
    "X_new=selector.fit_transform(X)\n",
    "X.shape, X_new.shape "
   ]
  },
  {
   "cell_type": "markdown",
   "metadata": {},
   "source": [
    "Removed 1 feature. Which one?"
   ]
  },
  {
   "cell_type": "code",
   "execution_count": 56,
   "metadata": {
    "collapsed": false
   },
   "outputs": [
    {
     "data": {
      "text/plain": [
       "((68,), (67,))"
      ]
     },
     "execution_count": 56,
     "metadata": {},
     "output_type": "execute_result"
    }
   ],
   "source": [
    "X[0,:].shape, X_new[0,:].shape"
   ]
  },
  {
   "cell_type": "markdown",
   "metadata": {},
   "source": [
    "Above are the dimensions of X before (X) and after (X_new). Target column has been removed."
   ]
  },
  {
   "cell_type": "markdown",
   "metadata": {},
   "source": [
    "####Use the functions below to retrieve names of removed features (or features that differ between two related dataframes):"
   ]
  },
  {
   "cell_type": "code",
   "execution_count": 57,
   "metadata": {
    "collapsed": true
   },
   "outputs": [],
   "source": [
    "original_col_names = CSF_STG8.columns.tolist()"
   ]
  },
  {
   "cell_type": "code",
   "execution_count": 58,
   "metadata": {
    "collapsed": false
   },
   "outputs": [],
   "source": [
    "def main(X, X_new,all_cols):\n",
    "    diff_features=[]\n",
    "    for diff_feat in range(X[0,:].shape[0]-X_new[0,:].shape[0]):\n",
    "        if lengthTester(X, X_new) == True:\n",
    "            print 'no difference'\n",
    "            break\n",
    "        else:\n",
    "            diff_features.append(all_cols[missingFeatureFinder(X, X_new)])\n",
    "            all_cols.remove(all_cols[missingFeatureFinder(X, X_new)])\n",
    "    return diff_features\n",
    "\n",
    "def lengthTester(X, X_new):\n",
    "    return len(X[0,:]) == len(X_new[0,:])\n",
    "\n",
    "def missingFeatureFinder(X, X_new):\n",
    "    for idx in range(np.shape(X)[1]):\n",
    "        if np.sum(X[:,idx]==X_new[:,idx]) !=0:\n",
    "            continue\n",
    "            #print idx\n",
    "        elif np.sum(X[:,idx]==X_new[:,idx]) ==0:\n",
    "            return idx#, CSF_STG8.columns[col]\n",
    "            break "
   ]
  },
  {
   "cell_type": "code",
   "execution_count": 59,
   "metadata": {
    "collapsed": false
   },
   "outputs": [
    {
     "data": {
      "text/plain": [
       "['AreaShape_EulerNumber']"
      ]
     },
     "execution_count": 59,
     "metadata": {},
     "output_type": "execute_result"
    }
   ],
   "source": [
    "main(X, X_new,original_col_names)"
   ]
  },
  {
   "cell_type": "markdown",
   "metadata": {},
   "source": [
    "Let's see whether the **caret package** is more user-friendly. If it is, we'll re-use it on the transformed data set below (for comparison)."
   ]
  },
  {
   "cell_type": "markdown",
   "metadata": {},
   "source": [
    "X_new has no Target column. "
   ]
  },
  {
   "cell_type": "code",
   "execution_count": 60,
   "metadata": {
    "collapsed": false
   },
   "outputs": [
    {
     "data": {
      "text/plain": [
       "(5710, 67)"
      ]
     },
     "execution_count": 60,
     "metadata": {},
     "output_type": "execute_result"
    }
   ],
   "source": [
    "X_new.shape"
   ]
  },
  {
   "cell_type": "code",
   "execution_count": 61,
   "metadata": {
    "collapsed": true
   },
   "outputs": [],
   "source": [
    "%R -i CSF_STG8"
   ]
  },
  {
   "cell_type": "code",
   "execution_count": 62,
   "metadata": {
    "collapsed": false
   },
   "outputs": [
    {
     "data": {
      "text/plain": [
       "[1] 5710   69\n"
      ]
     },
     "metadata": {},
     "output_type": "display_data"
    }
   ],
   "source": [
    "%%R\n",
    "dim(CSF_STG8)"
   ]
  },
  {
   "cell_type": "code",
   "execution_count": 63,
   "metadata": {
    "collapsed": false
   },
   "outputs": [
    {
     "data": {
      "text/plain": [
       "Loading required package: lattice\n",
       "Loading required package: ggplot2\n",
       "                       freqRatio percentUnique zeroVar   nzv\n",
       "AreaShape_Area                 1   84.99124343   FALSE FALSE\n",
       "AreaShape_Compactness          1   97.23292469   FALSE FALSE\n",
       "AreaShape_Eccentricity         1   97.23292469   FALSE FALSE\n",
       "AreaShape_EulerNumber          0    0.01751313    TRUE  TRUE\n",
       "AreaShape_Extent               1   96.97022767   FALSE FALSE\n",
       "AreaShape_FormFactor           1   97.23292469   FALSE FALSE\n",
       "[1] 4\n"
      ]
     },
     "metadata": {},
     "output_type": "display_data"
    }
   ],
   "source": [
    "%%R\n",
    "library(caret)\n",
    "CSF_STG8.nzv.vars=nearZeroVar(CSF_STG8, saveMetrics=TRUE)\n",
    "print(head(CSF_STG8.nzv.vars))\n",
    "\n",
    "CSF_STG8.nzv=nearZeroVar(CSF_STG8)\n",
    "print(head(CSF_STG8.nzv))\n"
   ]
  },
  {
   "cell_type": "markdown",
   "metadata": {},
   "source": [
    "Which ones were cut? You can see below, that there should be 1."
   ]
  },
  {
   "cell_type": "code",
   "execution_count": 64,
   "metadata": {
    "collapsed": false
   },
   "outputs": [
    {
     "data": {
      "text/plain": [
       "                      freqRatio percentUnique zeroVar  nzv\n",
       "AreaShape_EulerNumber         0    0.01751313    TRUE TRUE\n",
       "                      freqRatio percentUnique zeroVar  nzv\n",
       "AreaShape_EulerNumber         0    0.01751313    TRUE TRUE\n"
      ]
     },
     "metadata": {},
     "output_type": "display_data"
    }
   ],
   "source": [
    "%%R \n",
    "print(CSF_STG8.nzv.vars[CSF_STG8.nzv.vars$zeroVar==TRUE,])\n",
    "print(CSF_STG8.nzv.vars[CSF_STG8.nzv.vars$nzv==TRUE,])\n"
   ]
  },
  {
   "cell_type": "markdown",
   "metadata": {},
   "source": [
    "Looks like the two methods converge, but R objects are easier to work with. Below, we'll remove the NZV features."
   ]
  },
  {
   "cell_type": "code",
   "execution_count": 65,
   "metadata": {
    "collapsed": false,
    "scrolled": true
   },
   "outputs": [
    {
     "data": {
      "text/plain": [
       "[1] \"before:\"\n",
       "[1] 5710   69\n",
       "[1] \"after\"\n",
       "[1] 5710   68\n",
       "[1] 5710   68\n"
      ]
     },
     "metadata": {},
     "output_type": "display_data"
    }
   ],
   "source": [
    "%%R\n",
    "print('before:')\n",
    "print(dim(CSF_STG8))\n",
    "\n",
    "print('after')\n",
    "print(dim(CSF_STG8[,-CSF_STG8.nzv]))\n",
    "CSF_STG8_caret_nzv_mod=CSF_STG8[,-CSF_STG8.nzv]\n",
    "\n",
    "print(dim(CSF_STG8_caret_nzv_mod))"
   ]
  },
  {
   "cell_type": "markdown",
   "metadata": {},
   "source": [
    "Above, we have dimensions before and after with target column."
   ]
  },
  {
   "cell_type": "code",
   "execution_count": 66,
   "metadata": {
    "collapsed": false
   },
   "outputs": [
    {
     "data": {
      "text/plain": [
       "  AreaShape_Area AreaShape_Compactness AreaShape_Eccentricity AreaShape_Extent\n",
       "1           4731              1.243906              0.8059862        0.5786448\n",
       "2          20722              1.931709              0.8899388        0.5369646\n",
       "3          16907              1.138155              0.7361809        0.6159647\n",
       "4           3873              2.122788              0.8655789        0.3704448\n",
       "5          18314              1.092536              0.6619941        0.6960058\n",
       "6           4193              1.107429              0.6890853        0.5613119\n",
       "  AreaShape_FormFactor AreaShape_MajorAxisLength AreaShape_MaxFeretDiameter\n",
       "1            0.3103852                 105.19300                  111.04053\n",
       "2            0.1690419                 289.87190                  262.42904\n",
       "3            0.3600622                 182.97507                  187.09623\n",
       "4            0.1300123                 129.16777                  127.78106\n",
       "5            0.3182834                 180.27738                  187.74717\n",
       "6            0.4643618                  87.93795                   99.62429\n",
       "  AreaShape_MaximumRadius AreaShape_MeanRadius AreaShape_MedianRadius\n",
       "1                27.58623             8.684442               7.211103\n",
       "2                47.92703            14.121784              12.000000\n",
       "3                48.01042            17.493908              15.556349\n",
       "4                15.03330             4.963472               4.123106\n",
       "5                53.60037            17.909742              15.588424\n",
       "6                29.20616             9.937705               8.485281\n",
       "  AreaShape_MinFeretDiameter AreaShape_MinorAxisLength AreaShape_Orientation\n",
       "1                   71.56566                  62.26735            -85.051842\n",
       "2                  143.87533                 132.20474              4.142636\n",
       "3                  133.30098                 123.83475             73.991502\n",
       "4                   83.53030                  64.68369             21.810798\n",
       "5                  144.77792                 135.11953             77.649468\n",
       "6                   65.09002                  63.72690             44.004592\n",
       "  AreaShape_Perimeter AreaShape_Solidity AreaShape_Zernike_0_0\n",
       "1             437.654          0.8039082             0.4882937\n",
       "2            1241.148          0.7042550             0.3828075\n",
       "3             768.156          0.8413536             0.6145338\n",
       "4             611.838          0.5492838             0.2893060\n",
       "5             850.334          0.8752210             0.6615254\n",
       "6             336.852          0.8297220             0.5371687\n",
       "  AreaShape_Zernike_1_1 AreaShape_Zernike_2_0 AreaShape_Zernike_2_2\n",
       "1            0.05348835            0.18015547            0.06546863\n",
       "2            0.05157327            0.08583745            0.09955791\n",
       "3            0.03593788            0.18052666            0.07805850\n",
       "4            0.04129095            0.09996518            0.05901463\n",
       "5            0.07759948            0.16520883            0.05832305\n",
       "6            0.06950636            0.19967843            0.05699748\n",
       "  AreaShape_Zernike_3_1 AreaShape_Zernike_3_3 AreaShape_Zernike_4_0\n",
       "1           0.046543002           0.019940965           0.007090752\n",
       "2           0.014049685           0.004361207           0.030433429\n",
       "3           0.007238653           0.011604170           0.022658408\n",
       "4           0.015035748           0.026066681           0.028039225\n",
       "5           0.021899369           0.010039412           0.044757216\n",
       "6           0.011330848           0.018405550           0.008380097\n",
       "  AreaShape_Zernike_4_2 AreaShape_Zernike_4_4 AreaShape_Zernike_5_1\n",
       "1            0.02730746           0.023832239            0.01343980\n",
       "2            0.06142657           0.025222110            0.00453521\n",
       "3            0.03458971           0.024816399            0.01706809\n",
       "4            0.04897222           0.007811619            0.02247502\n",
       "5            0.01775047           0.017916168            0.02312121\n",
       "6            0.01610788           0.009158822            0.02056470\n",
       "  AreaShape_Zernike_5_3 AreaShape_Zernike_5_5 AreaShape_Zernike_6_0\n",
       "1           0.018914396          0.0067678966           0.010141509\n",
       "2           0.009200526          0.0080003611           0.020947165\n",
       "3           0.005782891          0.0030698359           0.005061194\n",
       "4           0.013321932          0.0250809534           0.022201202\n",
       "5           0.014521175          0.0009194954           0.005232657\n",
       "6           0.009694030          0.0041007200           0.022479208\n",
       "  AreaShape_Zernike_6_2 AreaShape_Zernike_6_4 AreaShape_Zernike_6_6\n",
       "1            0.01950425           0.007218450           0.014195573\n",
       "2            0.01547920           0.009991854           0.008603135\n",
       "3            0.01740902           0.012944813           0.014190785\n",
       "4            0.01682415           0.011182120           0.012974750\n",
       "5            0.01880130           0.006297393           0.011754383\n",
       "6            0.02111932           0.008218762           0.015391574\n",
       "  AreaShape_Zernike_7_1 AreaShape_Zernike_7_3 AreaShape_Zernike_7_5\n",
       "1           0.018474897           0.002291916           0.003618383\n",
       "2           0.013265753           0.008390564           0.012163741\n",
       "3           0.008644141           0.003106112           0.011568261\n",
       "4           0.017273024           0.001882442           0.017656782\n",
       "5           0.003437560           0.009160978           0.002518195\n",
       "6           0.002982401           0.005674123           0.010425000\n",
       "  AreaShape_Zernike_7_7 AreaShape_Zernike_8_0 AreaShape_Zernike_8_2\n",
       "1           0.004436042          0.0001077362           0.007274494\n",
       "2           0.009395110          0.0131073393           0.008031639\n",
       "3           0.006805195          0.0025525970           0.007259566\n",
       "4           0.008751317          0.0099598459           0.005471671\n",
       "5           0.006050343          0.0069396366           0.004514932\n",
       "6           0.004018064          0.0143030235           0.006389665\n",
       "  AreaShape_Zernike_8_4 AreaShape_Zernike_8_6 AreaShape_Zernike_8_8\n",
       "1           0.012953715           0.008596859           0.007105037\n",
       "2           0.014774340           0.002064491           0.006140809\n",
       "3           0.008989073           0.001844752           0.004234773\n",
       "4           0.011512850           0.007355652           0.006756141\n",
       "5           0.008966119           0.004807213           0.004130783\n",
       "6           0.013145058           0.013156520           0.011655349\n",
       "  AreaShape_Zernike_9_1 AreaShape_Zernike_9_3 AreaShape_Zernike_9_5\n",
       "1           0.004309750           0.007768981           0.002925806\n",
       "2           0.013468660           0.006180677           0.002661763\n",
       "3           0.009438270           0.001642324           0.006618746\n",
       "4           0.010261517           0.003499324           0.003795811\n",
       "5           0.007449819           0.013281337           0.003833135\n",
       "6           0.002735885           0.001983906           0.007340587\n",
       "  AreaShape_Zernike_9_7 AreaShape_Zernike_9_9\n",
       "1           0.003328396          0.0038391385\n",
       "2           0.007755221          0.0075712794\n",
       "3           0.001295302          0.0065042831\n",
       "4           0.011382391          0.0047164006\n",
       "5           0.006347150          0.0005159637\n",
       "6           0.003206810          0.0020062248\n",
       "  Intensity_IntegratedIntensityEdge_Rhodamine\n",
       "1                                    2.924605\n",
       "2                                    8.730434\n",
       "3                                    7.297383\n",
       "4                                    6.055970\n",
       "5                                    8.466514\n",
       "6                                    2.530938\n",
       "  Intensity_IntegratedIntensity_Rhodamine\n",
       "1                                28.92366\n",
       "2                               140.46372\n",
       "3                               172.16636\n",
       "4                                35.61042\n",
       "5                               202.75632\n",
       "6                                35.90671\n",
       "  Intensity_LowerQuartileIntensity_Rhodamine Intensity_MADIntensity_Rhodamine\n",
       "1                                0.005737392                     0.0003204392\n",
       "2                                0.006363012                     0.0003967346\n",
       "3                                0.008728161                     0.0013580536\n",
       "4                                0.008529793                     0.0005340660\n",
       "5                                0.009231708                     0.0014801249\n",
       "6                                0.006851301                     0.0012359810\n",
       "  Intensity_MassDisplacement_Rhodamine Intensity_MaxIntensityEdge_Rhodamine\n",
       "1                            0.6193750                          0.005844206\n",
       "2                            1.0508799                          0.006347753\n",
       "3                            0.2902183                          0.008743419\n",
       "4                            1.0987965                          0.008850233\n",
       "5                            3.3442785                          0.009140154\n",
       "6                            1.3415987                          0.006805524\n",
       "  Intensity_MaxIntensity_Rhodamine Intensity_MeanIntensityEdge_Rhodamine\n",
       "1                      0.007507439                           0.005613446\n",
       "2                      0.008285649                           0.006075459\n",
       "3                      0.015365835                           0.008090225\n",
       "4                      0.012787061                           0.008318640\n",
       "5                      0.017029069                           0.008424392\n",
       "6                      0.014343481                           0.006375158\n",
       "  Intensity_MeanIntensity_Rhodamine Intensity_MedianIntensity_Rhodamine\n",
       "1                       0.006113646                         0.006012055\n",
       "2                       0.006778483                         0.006744488\n",
       "3                       0.010183140                         0.009918365\n",
       "4                       0.009194532                         0.009018082\n",
       "5                       0.011071110                         0.010421912\n",
       "6                       0.008563488                         0.007843138\n",
       "  Intensity_MinIntensityEdge_Rhodamine Intensity_MinIntensity_Rhodamine\n",
       "1                          0.005432212                      0.005340658\n",
       "2                          0.005828946                      0.005828946\n",
       "3                          0.007736324                      0.006515603\n",
       "4                          0.007873655                      0.007873655\n",
       "5                          0.007934691                      0.007675288\n",
       "6                          0.006088350                      0.006088350\n",
       "  Intensity_StdIntensityEdge_Rhodamine Intensity_StdIntensity_Rhodamine\n",
       "1                         7.594030e-05                     0.0004385794\n",
       "2                         8.074957e-05                     0.0004947566\n",
       "3                         1.626906e-04                     0.0017558545\n",
       "4                         1.865714e-04                     0.0008763484\n",
       "5                         1.847021e-04                     0.0022308078\n",
       "6                         1.186626e-04                     0.0020282928\n",
       "  Intensity_UpperQuartileIntensity_Rhodamine Math_AreaSquareMicron\n",
       "1                                0.006439307              123.8728\n",
       "2                                0.007141222              542.5687\n",
       "3                                0.011566339              442.6797\n",
       "4                                0.009643702              101.4076\n",
       "5                                0.012642100              479.5195\n",
       "6                                0.010082399              109.7862\n",
       "  Math_AspectRatio Math_BeadAreaEquiv Math_MaxFeretMicron Math_MinFeretMicron\n",
       "1         1.551590         16.5155276            17.96772            11.58020\n",
       "2         1.824003         18.0297521            42.46425            23.28080\n",
       "3         1.403562          4.6101330            30.27447            21.56974\n",
       "4         1.529757          0.6661624            20.67655            13.51623\n",
       "5         1.296794          3.9283104            30.37980            23.42685\n",
       "6         1.530562          1.7515374            16.12044            10.53237\n",
       "  Parent_Spindles Euclidian_norm_centers Target\n",
       "1               2              15.377924      1\n",
       "2               3              55.172423      1\n",
       "3               2              26.416871      1\n",
       "4               1              37.317442      1\n",
       "5               5              20.186051      1\n",
       "6               6               3.740573      1\n"
      ]
     },
     "metadata": {},
     "output_type": "display_data"
    }
   ],
   "source": [
    "%%R\n",
    "head(CSF_STG8_caret_nzv_mod)"
   ]
  },
  {
   "cell_type": "markdown",
   "metadata": {},
   "source": [
    "Both of the approaches above were applied on the input data frame. Let's see whether we can get the same result on the transformed one."
   ]
  },
  {
   "cell_type": "markdown",
   "metadata": {},
   "source": [
    "Starting from the full data set."
   ]
  },
  {
   "cell_type": "markdown",
   "metadata": {},
   "source": [
    "###Feature transformation "
   ]
  },
  {
   "cell_type": "code",
   "execution_count": 67,
   "metadata": {
    "collapsed": false
   },
   "outputs": [],
   "source": [
    "%R -i df_mix_800"
   ]
  },
  {
   "cell_type": "code",
   "execution_count": 68,
   "metadata": {
    "collapsed": true
   },
   "outputs": [],
   "source": [
    "%R -i df_mix_850"
   ]
  },
  {
   "cell_type": "code",
   "execution_count": 69,
   "metadata": {
    "collapsed": false
   },
   "outputs": [],
   "source": [
    "%R -i df_mix_875"
   ]
  },
  {
   "cell_type": "code",
   "execution_count": 70,
   "metadata": {
    "collapsed": true
   },
   "outputs": [],
   "source": [
    "%R -i df_mix_890"
   ]
  },
  {
   "cell_type": "code",
   "execution_count": 71,
   "metadata": {
    "collapsed": false
   },
   "outputs": [],
   "source": [
    "%R -i CSF_STG8"
   ]
  },
  {
   "cell_type": "code",
   "execution_count": 72,
   "metadata": {
    "collapsed": false
   },
   "outputs": [
    {
     "data": {
      "text/plain": [
       "[1] 5710   69\n",
       "[1] 495  68\n"
      ]
     },
     "metadata": {},
     "output_type": "display_data"
    }
   ],
   "source": [
    "%%R\n",
    "print(dim(CSF_STG8))\n",
    "print(dim(df_mix_800))"
   ]
  },
  {
   "cell_type": "code",
   "execution_count": 73,
   "metadata": {
    "collapsed": false
   },
   "outputs": [
    {
     "data": {
      "text/plain": [
       "[1] 495  68\n",
       "[1] \"Euclidian_norm_centers\"\n",
       "[1] \"Target\"\n"
      ]
     },
     "metadata": {},
     "output_type": "display_data"
    }
   ],
   "source": [
    "%%R\n",
    "print(dim(df_mix_800))\n",
    "print(names(df_mix_800)[length(names(df_mix_800))])\n",
    "print(names(CSF_STG8)[length(names(CSF_STG8))])"
   ]
  },
  {
   "cell_type": "markdown",
   "metadata": {},
   "source": [
    "First, we'll get a summary for each variable. The cell below takes care of the fact that variables in data frames pulled from ipynb are of a class 'array' instead of 'numeric'."
   ]
  },
  {
   "cell_type": "code",
   "execution_count": 74,
   "metadata": {
    "collapsed": false,
    "scrolled": false
   },
   "outputs": [
    {
     "data": {
      "text/plain": [
       "\n",
       "Attaching package: ‘psych’\n",
       "\n",
       "The following object is masked from ‘package:ggplot2’:\n",
       "\n",
       "    %+%\n",
       "\n"
      ]
     },
     "metadata": {},
     "output_type": "display_data"
    }
   ],
   "source": [
    "%%R\n",
    "#see Domino on FA in Evernote and tgmstat on feature selection\n",
    "library(caret)\n",
    "library(psych)\n",
    "CSF_STG8_no_Y=CSF_STG8[,names(CSF_STG8)[-length(names(CSF_STG8))]]\n",
    "write.csv(describe(CSF_STG8_no_Y), '../Data/mixing_CSF_STG8_no_DNA_no_Y_summary.csv')\n",
    "\n",
    "for (var in names(CSF_STG8_no_Y)){\n",
    "    CSF_STG8_no_Y[,var]=as.numeric(CSF_STG8_no_Y[,var])\n",
    "    #print(class(CSF_STG8_no_Y[,var]))   \n",
    "}\n",
    "\n"
   ]
  },
  {
   "cell_type": "code",
   "execution_count": 75,
   "metadata": {
    "collapsed": false,
    "scrolled": true
   },
   "outputs": [
    {
     "data": {
      "text/plain": [
       "[1] 5710   68\n",
       "[1] \"Target\"\n",
       "[1] \"Euclidian_norm_centers\"\n"
      ]
     },
     "metadata": {},
     "output_type": "display_data"
    }
   ],
   "source": [
    "%%R\n",
    "print(dim(CSF_STG8_no_Y))\n",
    "print(names(CSF_STG8)[length(names(CSF_STG8))])\n",
    "print(names(CSF_STG8_no_Y)[length(names(CSF_STG8_no_Y))])"
   ]
  },
  {
   "cell_type": "code",
   "execution_count": 76,
   "metadata": {
    "collapsed": true
   },
   "outputs": [],
   "source": [
    "%%R\n",
    "for (var in names(df_mix_800)){\n",
    "    df_mix_800[,var]=as.numeric(df_mix_800[,var])\n",
    "}\n",
    "\n",
    "for (var in names(df_mix_850)){\n",
    "    df_mix_850[,var]=as.numeric(df_mix_850[,var])\n",
    "}\n",
    "\n",
    "for (var in names(df_mix_875)){\n",
    "    df_mix_875[,var]=as.numeric(df_mix_875[,var])\n",
    "}\n",
    "\n",
    "for (var in names(df_mix_890)){\n",
    "    df_mix_890[,var]=as.numeric(df_mix_890[,var])\n",
    "}\n"
   ]
  },
  {
   "cell_type": "code",
   "execution_count": 77,
   "metadata": {
    "collapsed": false
   },
   "outputs": [],
   "source": [
    "%%R\n",
    "preProcPars=preProcess(CSF_STG8_no_Y, method=c('BoxCox','center','scale'))\n",
    "CSF_STG8_no_Y_transformed=predict(preProcPars,CSF_STG8_no_Y)\n",
    "write.csv(CSF_STG8_no_Y_transformed, file='../Data/mixing_CSF_STG8_no_DNA_no_Y_transf.csv')"
   ]
  },
  {
   "cell_type": "code",
   "execution_count": 78,
   "metadata": {
    "collapsed": false
   },
   "outputs": [
    {
     "data": {
      "text/plain": [
       "[1] 5710   68\n"
      ]
     },
     "metadata": {},
     "output_type": "display_data"
    }
   ],
   "source": [
    "%%R\n",
    "print(dim(CSF_STG8_no_Y_transformed))\n"
   ]
  },
  {
   "cell_type": "code",
   "execution_count": 79,
   "metadata": {
    "collapsed": false
   },
   "outputs": [],
   "source": [
    "%%R\n",
    "preProcPars800=preProcess(df_mix_800, method=c('BoxCox','center','scale'))\n",
    "df_mix_800_trans=predict(preProcPars,df_mix_800)\n",
    "write.csv(df_mix_800_trans,'../Data/mixing_df_mix_800_no_DNA_trans.csv')\n",
    "\n",
    "preProcPars850=preProcess(df_mix_850, method=c('BoxCox','center','scale'))\n",
    "df_mix_850_trans=predict(preProcPars,df_mix_850)\n",
    "write.csv(df_mix_850_trans,'../Data/mixing_df_mix_850_no_DNA_trans.csv')\n",
    "\n",
    "preProcPars875=preProcess(df_mix_875, method=c('BoxCox','center','scale'))\n",
    "df_mix_875_trans=predict(preProcPars,df_mix_875)\n",
    "write.csv(df_mix_875_trans,'../Data/mixing_df_mix_875_no_DNA_trans.csv')\n",
    "\n",
    "preProcPars890=preProcess(df_mix_890, method=c('BoxCox','center','scale'))\n",
    "df_mix_890_trans=predict(preProcPars,df_mix_890)\n",
    "write.csv(df_mix_890_trans,'../Data/mixing_df_mix_890_no_DNA_trans.csv')\n"
   ]
  },
  {
   "cell_type": "code",
   "execution_count": 80,
   "metadata": {
    "collapsed": false
   },
   "outputs": [
    {
     "data": {
      "text/plain": [
       "[1] 704  68\n",
       "[1] \"Euclidian_norm_centers\"\n"
      ]
     },
     "metadata": {},
     "output_type": "display_data"
    }
   ],
   "source": [
    "%%R\n",
    "print(dim(df_mix_890_trans))\n",
    "print(names(df_mix_890_trans)[length(names(df_mix_890_trans))])\n",
    "\n"
   ]
  },
  {
   "cell_type": "markdown",
   "metadata": {},
   "source": [
    "Below is an example outcome of transformation."
   ]
  },
  {
   "cell_type": "code",
   "execution_count": 81,
   "metadata": {
    "collapsed": false
   },
   "outputs": [
    {
     "data": {
      "image/png": "[encoded data removed]"
     },
     "metadata": {},
     "output_type": "display_data"
    },
    {
     "data": {
      "image/png": "[encoded data removed]"
     },
     "metadata": {},
     "output_type": "display_data"
    }
   ],
   "source": [
    "%%R\n",
    "#hist(CSF_STG8_no_Y$AreaShape_Area,breaks=100)\n",
    "#hist(CSF_STG8_no_Y_transformed$AreaShape_Area,breaks=100)\n",
    "#hist(CSF_STG8_no_Y$Math_MaxFeretMicron,breaks=100)\n",
    "print(ggplot(data=CSF_STG8_no_Y)+geom_histogram(aes(Math_MaxFeretMicron),binwidth=1))\n",
    "print(ggplot(data=CSF_STG8_no_Y_transformed)+geom_histogram(aes(Math_MaxFeretMicron),binwidth=0.1))#+labs(x='length')"
   ]
  },
  {
   "cell_type": "markdown",
   "metadata": {},
   "source": [
    "The transformed distribution looks like it has a kurtosis problem but that's probably best one can do."
   ]
  },
  {
   "cell_type": "markdown",
   "metadata": {},
   "source": [
    "Now, we'll re-do the near-zero variance correction."
   ]
  },
  {
   "cell_type": "code",
   "execution_count": 82,
   "metadata": {
    "collapsed": true
   },
   "outputs": [],
   "source": [
    "%%R\n",
    "nzv=nearZeroVar(CSF_STG8_no_Y_transformed)"
   ]
  },
  {
   "cell_type": "code",
   "execution_count": 83,
   "metadata": {
    "collapsed": false
   },
   "outputs": [
    {
     "data": {
      "text/plain": [
       "                      freqRatio percentUnique zeroVar  nzv\n",
       "AreaShape_EulerNumber         0    0.01751313    TRUE TRUE\n"
      ]
     },
     "metadata": {},
     "output_type": "display_data"
    }
   ],
   "source": [
    "%%R\n",
    "nzv.obj=nearZeroVar(CSF_STG8_no_Y_transformed, saveMetrics=TRUE)\n",
    "print(nzv.obj[nzv.obj$nzv==TRUE,])"
   ]
  },
  {
   "cell_type": "code",
   "execution_count": 84,
   "metadata": {
    "collapsed": false
   },
   "outputs": [
    {
     "data": {
      "text/plain": [
       "[1] 4\n",
       "[1] 5710   67\n"
      ]
     },
     "metadata": {},
     "output_type": "display_data"
    }
   ],
   "source": [
    "%%R\n",
    "print(nzv)\n",
    "\n",
    "CSF_STG8_no_Y_transf_nzv=CSF_STG8_no_Y_transformed[,-nzv]\n",
    "\n",
    "print(dim(CSF_STG8_no_Y_transf_nzv))\n",
    "write.csv(CSF_STG8_no_Y_transf_nzv,file='../Data/mixing_CSF_STG8_no_DNA_no_Y_transf_nzv.csv')"
   ]
  },
  {
   "cell_type": "markdown",
   "metadata": {},
   "source": [
    "##Feature selection - predictive models"
   ]
  },
  {
   "cell_type": "code",
   "execution_count": 85,
   "metadata": {
    "collapsed": false
   },
   "outputs": [],
   "source": [
    "CSF_STG8_no_Y_transformed=pd.read_csv('../Data/mixing_CSF_STG8_no_DNA_no_Y_transf.csv')\n",
    "CSF_STG8_no_Y_transf_nzv=pd.read_csv('../Data/mixing_CSF_STG8_no_DNA_no_Y_transf_nzv.csv')"
   ]
  },
  {
   "cell_type": "code",
   "execution_count": 86,
   "metadata": {
    "collapsed": false
   },
   "outputs": [],
   "source": [
    "CSF_STG8_no_Y_transformed.drop('Unnamed: 0',inplace=True,axis=1)\n",
    "CSF_STG8_no_Y_transf_nzv.drop('Unnamed: 0',inplace=True,axis=1)"
   ]
  },
  {
   "cell_type": "code",
   "execution_count": 87,
   "metadata": {
    "collapsed": false
   },
   "outputs": [
    {
     "name": "stdout",
     "output_type": "stream",
     "text": [
      "(5710, 68) (5710, 67)\n"
     ]
    },
    {
     "data": {
      "text/html": [
       "<div style=\"max-height:1000px;max-width:1500px;overflow:auto;\">\n",
       "<table border=\"1\" class=\"dataframe\">\n",
       "  <thead>\n",
       "    <tr style=\"text-align: right;\">\n",
       "      <th></th>\n",
       "      <th>AreaShape_Area</th>\n",
       "      <th>AreaShape_Compactness</th>\n",
       "      <th>AreaShape_Eccentricity</th>\n",
       "      <th>AreaShape_EulerNumber</th>\n",
       "      <th>AreaShape_Extent</th>\n",
       "      <th>AreaShape_FormFactor</th>\n",
       "      <th>AreaShape_MajorAxisLength</th>\n",
       "      <th>AreaShape_MaxFeretDiameter</th>\n",
       "      <th>AreaShape_MaximumRadius</th>\n",
       "      <th>AreaShape_MeanRadius</th>\n",
       "      <th>...</th>\n",
       "      <th>Intensity_StdIntensityEdge_Rhodamine</th>\n",
       "      <th>Intensity_StdIntensity_Rhodamine</th>\n",
       "      <th>Intensity_UpperQuartileIntensity_Rhodamine</th>\n",
       "      <th>Math_AreaSquareMicron</th>\n",
       "      <th>Math_AspectRatio</th>\n",
       "      <th>Math_BeadAreaEquiv</th>\n",
       "      <th>Math_MaxFeretMicron</th>\n",
       "      <th>Math_MinFeretMicron</th>\n",
       "      <th>Parent_Spindles</th>\n",
       "      <th>Euclidian_norm_centers</th>\n",
       "    </tr>\n",
       "  </thead>\n",
       "  <tbody>\n",
       "    <tr>\n",
       "      <th>0</th>\n",
       "      <td>-0.979573</td>\n",
       "      <td>-0.239731</td>\n",
       "      <td>-0.037384</td>\n",
       "      <td>0</td>\n",
       "      <td>-0.101197</td>\n",
       "      <td>-1.013595</td>\n",
       "      <td>-1.053825</td>\n",
       "      <td>-1.069223</td>\n",
       "      <td>-0.789225</td>\n",
       "      <td>-1.028551</td>\n",
       "      <td>...</td>\n",
       "      <td>-0.919738</td>\n",
       "      <td>-0.957128</td>\n",
       "      <td>-0.648262</td>\n",
       "      <td>-0.979573</td>\n",
       "      <td>-0.526524</td>\n",
       "      <td>1.010925</td>\n",
       "      <td>-1.069223</td>\n",
       "      <td>-0.628692</td>\n",
       "      <td>0.684906</td>\n",
       "      <td>0.635997</td>\n",
       "    </tr>\n",
       "    <tr>\n",
       "      <th>1</th>\n",
       "      <td>1.111254</td>\n",
       "      <td>1.398816</td>\n",
       "      <td>0.672258</td>\n",
       "      <td>0</td>\n",
       "      <td>-0.456241</td>\n",
       "      <td>-1.736814</td>\n",
       "      <td>1.658492</td>\n",
       "      <td>1.239468</td>\n",
       "      <td>0.473151</td>\n",
       "      <td>-0.038371</td>\n",
       "      <td>...</td>\n",
       "      <td>-0.838136</td>\n",
       "      <td>-0.847539</td>\n",
       "      <td>-0.436136</td>\n",
       "      <td>1.111254</td>\n",
       "      <td>0.114322</td>\n",
       "      <td>1.153387</td>\n",
       "      <td>1.239468</td>\n",
       "      <td>1.221516</td>\n",
       "      <td>1.221232</td>\n",
       "      <td>1.872113</td>\n",
       "    </tr>\n",
       "    <tr>\n",
       "      <th>2</th>\n",
       "      <td>0.785282</td>\n",
       "      <td>-0.784092</td>\n",
       "      <td>-0.573944</td>\n",
       "      <td>0</td>\n",
       "      <td>0.239216</td>\n",
       "      <td>-0.759410</td>\n",
       "      <td>0.324875</td>\n",
       "      <td>0.259594</td>\n",
       "      <td>0.477699</td>\n",
       "      <td>0.498169</td>\n",
       "      <td>...</td>\n",
       "      <td>0.092762</td>\n",
       "      <td>0.304170</td>\n",
       "      <td>0.470135</td>\n",
       "      <td>0.785282</td>\n",
       "      <td>-0.979069</td>\n",
       "      <td>-0.688299</td>\n",
       "      <td>0.259594</td>\n",
       "      <td>1.006455</td>\n",
       "      <td>0.684906</td>\n",
       "      <td>1.159527</td>\n",
       "    </tr>\n",
       "    <tr>\n",
       "      <th>3</th>\n",
       "      <td>-1.218241</td>\n",
       "      <td>1.598379</td>\n",
       "      <td>0.459110</td>\n",
       "      <td>0</td>\n",
       "      <td>-1.609982</td>\n",
       "      <td>-1.936519</td>\n",
       "      <td>-0.568965</td>\n",
       "      <td>-0.731774</td>\n",
       "      <td>-1.828171</td>\n",
       "      <td>-1.862084</td>\n",
       "      <td>...</td>\n",
       "      <td>0.274774</td>\n",
       "      <td>-0.327717</td>\n",
       "      <td>0.143772</td>\n",
       "      <td>-1.218241</td>\n",
       "      <td>-0.587764</td>\n",
       "      <td>-2.292397</td>\n",
       "      <td>-0.731774</td>\n",
       "      <td>-0.241076</td>\n",
       "      <td>-0.924073</td>\n",
       "      <td>1.493786</td>\n",
       "    </tr>\n",
       "    <tr>\n",
       "      <th>4</th>\n",
       "      <td>0.911770</td>\n",
       "      <td>-1.069151</td>\n",
       "      <td>-1.090938</td>\n",
       "      <td>0</td>\n",
       "      <td>1.041034</td>\n",
       "      <td>-0.973182</td>\n",
       "      <td>0.284814</td>\n",
       "      <td>0.269156</td>\n",
       "      <td>0.774104</td>\n",
       "      <td>0.561338</td>\n",
       "      <td>...</td>\n",
       "      <td>0.261393</td>\n",
       "      <td>0.521854</td>\n",
       "      <td>0.623424</td>\n",
       "      <td>0.911770</td>\n",
       "      <td>-1.369610</td>\n",
       "      <td>-0.859093</td>\n",
       "      <td>0.269156</td>\n",
       "      <td>1.239280</td>\n",
       "      <td>1.650293</td>\n",
       "      <td>0.899236</td>\n",
       "    </tr>\n",
       "  </tbody>\n",
       "</table>\n",
       "<p>5 rows × 68 columns</p>\n",
       "</div>"
      ],
      "text/plain": [
       "   AreaShape_Area  AreaShape_Compactness  AreaShape_Eccentricity  \\\n",
       "0       -0.979573              -0.239731               -0.037384   \n",
       "1        1.111254               1.398816                0.672258   \n",
       "2        0.785282              -0.784092               -0.573944   \n",
       "3       -1.218241               1.598379                0.459110   \n",
       "4        0.911770              -1.069151               -1.090938   \n",
       "\n",
       "   AreaShape_EulerNumber  AreaShape_Extent  AreaShape_FormFactor  \\\n",
       "0                      0         -0.101197             -1.013595   \n",
       "1                      0         -0.456241             -1.736814   \n",
       "2                      0          0.239216             -0.759410   \n",
       "3                      0         -1.609982             -1.936519   \n",
       "4                      0          1.041034             -0.973182   \n",
       "\n",
       "   AreaShape_MajorAxisLength  AreaShape_MaxFeretDiameter  \\\n",
       "0                  -1.053825                   -1.069223   \n",
       "1                   1.658492                    1.239468   \n",
       "2                   0.324875                    0.259594   \n",
       "3                  -0.568965                   -0.731774   \n",
       "4                   0.284814                    0.269156   \n",
       "\n",
       "   AreaShape_MaximumRadius  AreaShape_MeanRadius           ...            \\\n",
       "0                -0.789225             -1.028551           ...             \n",
       "1                 0.473151             -0.038371           ...             \n",
       "2                 0.477699              0.498169           ...             \n",
       "3                -1.828171             -1.862084           ...             \n",
       "4                 0.774104              0.561338           ...             \n",
       "\n",
       "   Intensity_StdIntensityEdge_Rhodamine  Intensity_StdIntensity_Rhodamine  \\\n",
       "0                             -0.919738                         -0.957128   \n",
       "1                             -0.838136                         -0.847539   \n",
       "2                              0.092762                          0.304170   \n",
       "3                              0.274774                         -0.327717   \n",
       "4                              0.261393                          0.521854   \n",
       "\n",
       "   Intensity_UpperQuartileIntensity_Rhodamine  Math_AreaSquareMicron  \\\n",
       "0                                   -0.648262              -0.979573   \n",
       "1                                   -0.436136               1.111254   \n",
       "2                                    0.470135               0.785282   \n",
       "3                                    0.143772              -1.218241   \n",
       "4                                    0.623424               0.911770   \n",
       "\n",
       "   Math_AspectRatio  Math_BeadAreaEquiv  Math_MaxFeretMicron  \\\n",
       "0         -0.526524            1.010925            -1.069223   \n",
       "1          0.114322            1.153387             1.239468   \n",
       "2         -0.979069           -0.688299             0.259594   \n",
       "3         -0.587764           -2.292397            -0.731774   \n",
       "4         -1.369610           -0.859093             0.269156   \n",
       "\n",
       "   Math_MinFeretMicron  Parent_Spindles  Euclidian_norm_centers  \n",
       "0            -0.628692         0.684906                0.635997  \n",
       "1             1.221516         1.221232                1.872113  \n",
       "2             1.006455         0.684906                1.159527  \n",
       "3            -0.241076        -0.924073                1.493786  \n",
       "4             1.239280         1.650293                0.899236  \n",
       "\n",
       "[5 rows x 68 columns]"
      ]
     },
     "execution_count": 87,
     "metadata": {},
     "output_type": "execute_result"
    }
   ],
   "source": [
    "print CSF_STG8_no_Y_transformed.shape, CSF_STG8_no_Y_transf_nzv.shape\n",
    "CSF_STG8_no_Y_transformed.head()"
   ]
  },
  {
   "cell_type": "code",
   "execution_count": 88,
   "metadata": {
    "collapsed": false
   },
   "outputs": [],
   "source": [
    "CSF_STG8_no_Y_transformed['Target'] = list(target)\n",
    "CSF_STG8_no_Y_transf_nzv['Target'] = list(target)"
   ]
  },
  {
   "cell_type": "markdown",
   "metadata": {},
   "source": [
    "###Balancing data set\n",
    "The first approach will be a hard trim. In the second approach we'll use the caret."
   ]
  },
  {
   "cell_type": "code",
   "execution_count": 89,
   "metadata": {
    "collapsed": false
   },
   "outputs": [
    {
     "data": {
      "text/html": [
       "<div style=\"max-height:1000px;max-width:1500px;overflow:auto;\">\n",
       "<table border=\"1\" class=\"dataframe\">\n",
       "  <thead>\n",
       "    <tr style=\"text-align: right;\">\n",
       "      <th></th>\n",
       "      <th>AreaShape_Area</th>\n",
       "      <th>AreaShape_Compactness</th>\n",
       "      <th>AreaShape_Eccentricity</th>\n",
       "      <th>AreaShape_EulerNumber</th>\n",
       "      <th>AreaShape_Extent</th>\n",
       "      <th>AreaShape_FormFactor</th>\n",
       "      <th>AreaShape_MajorAxisLength</th>\n",
       "      <th>AreaShape_MaxFeretDiameter</th>\n",
       "      <th>AreaShape_MaximumRadius</th>\n",
       "      <th>AreaShape_MeanRadius</th>\n",
       "      <th>...</th>\n",
       "      <th>Intensity_StdIntensityEdge_Rhodamine</th>\n",
       "      <th>Intensity_StdIntensity_Rhodamine</th>\n",
       "      <th>Intensity_UpperQuartileIntensity_Rhodamine</th>\n",
       "      <th>Math_AreaSquareMicron</th>\n",
       "      <th>Math_AspectRatio</th>\n",
       "      <th>Math_BeadAreaEquiv</th>\n",
       "      <th>Math_MaxFeretMicron</th>\n",
       "      <th>Math_MinFeretMicron</th>\n",
       "      <th>Parent_Spindles</th>\n",
       "      <th>Euclidian_norm_centers</th>\n",
       "    </tr>\n",
       "    <tr>\n",
       "      <th>Target</th>\n",
       "      <th></th>\n",
       "      <th></th>\n",
       "      <th></th>\n",
       "      <th></th>\n",
       "      <th></th>\n",
       "      <th></th>\n",
       "      <th></th>\n",
       "      <th></th>\n",
       "      <th></th>\n",
       "      <th></th>\n",
       "      <th></th>\n",
       "      <th></th>\n",
       "      <th></th>\n",
       "      <th></th>\n",
       "      <th></th>\n",
       "      <th></th>\n",
       "      <th></th>\n",
       "      <th></th>\n",
       "      <th></th>\n",
       "      <th></th>\n",
       "      <th></th>\n",
       "    </tr>\n",
       "  </thead>\n",
       "  <tbody>\n",
       "    <tr>\n",
       "      <th>0</th>\n",
       "      <td>3623</td>\n",
       "      <td>3623</td>\n",
       "      <td>3623</td>\n",
       "      <td>3623</td>\n",
       "      <td>3623</td>\n",
       "      <td>3623</td>\n",
       "      <td>3623</td>\n",
       "      <td>3623</td>\n",
       "      <td>3623</td>\n",
       "      <td>3623</td>\n",
       "      <td>...</td>\n",
       "      <td>3623</td>\n",
       "      <td>3623</td>\n",
       "      <td>3623</td>\n",
       "      <td>3623</td>\n",
       "      <td>3623</td>\n",
       "      <td>3623</td>\n",
       "      <td>3623</td>\n",
       "      <td>3623</td>\n",
       "      <td>3623</td>\n",
       "      <td>3623</td>\n",
       "    </tr>\n",
       "    <tr>\n",
       "      <th>1</th>\n",
       "      <td>2087</td>\n",
       "      <td>2087</td>\n",
       "      <td>2087</td>\n",
       "      <td>2087</td>\n",
       "      <td>2087</td>\n",
       "      <td>2087</td>\n",
       "      <td>2087</td>\n",
       "      <td>2087</td>\n",
       "      <td>2087</td>\n",
       "      <td>2087</td>\n",
       "      <td>...</td>\n",
       "      <td>2087</td>\n",
       "      <td>2087</td>\n",
       "      <td>2087</td>\n",
       "      <td>2087</td>\n",
       "      <td>2087</td>\n",
       "      <td>2087</td>\n",
       "      <td>2087</td>\n",
       "      <td>2087</td>\n",
       "      <td>2087</td>\n",
       "      <td>2087</td>\n",
       "    </tr>\n",
       "  </tbody>\n",
       "</table>\n",
       "<p>2 rows × 68 columns</p>\n",
       "</div>"
      ],
      "text/plain": [
       "        AreaShape_Area  AreaShape_Compactness  AreaShape_Eccentricity  \\\n",
       "Target                                                                  \n",
       "0                 3623                   3623                    3623   \n",
       "1                 2087                   2087                    2087   \n",
       "\n",
       "        AreaShape_EulerNumber  AreaShape_Extent  AreaShape_FormFactor  \\\n",
       "Target                                                                  \n",
       "0                        3623              3623                  3623   \n",
       "1                        2087              2087                  2087   \n",
       "\n",
       "        AreaShape_MajorAxisLength  AreaShape_MaxFeretDiameter  \\\n",
       "Target                                                          \n",
       "0                            3623                        3623   \n",
       "1                            2087                        2087   \n",
       "\n",
       "        AreaShape_MaximumRadius  AreaShape_MeanRadius           ...            \\\n",
       "Target                                                          ...             \n",
       "0                          3623                  3623           ...             \n",
       "1                          2087                  2087           ...             \n",
       "\n",
       "        Intensity_StdIntensityEdge_Rhodamine  \\\n",
       "Target                                         \n",
       "0                                       3623   \n",
       "1                                       2087   \n",
       "\n",
       "        Intensity_StdIntensity_Rhodamine  \\\n",
       "Target                                     \n",
       "0                                   3623   \n",
       "1                                   2087   \n",
       "\n",
       "        Intensity_UpperQuartileIntensity_Rhodamine  Math_AreaSquareMicron  \\\n",
       "Target                                                                      \n",
       "0                                             3623                   3623   \n",
       "1                                             2087                   2087   \n",
       "\n",
       "        Math_AspectRatio  Math_BeadAreaEquiv  Math_MaxFeretMicron  \\\n",
       "Target                                                              \n",
       "0                   3623                3623                 3623   \n",
       "1                   2087                2087                 2087   \n",
       "\n",
       "        Math_MinFeretMicron  Parent_Spindles  Euclidian_norm_centers  \n",
       "Target                                                                \n",
       "0                      3623             3623                    3623  \n",
       "1                      2087             2087                    2087  \n",
       "\n",
       "[2 rows x 68 columns]"
      ]
     },
     "execution_count": 89,
     "metadata": {},
     "output_type": "execute_result"
    }
   ],
   "source": [
    "CSF_STG8_no_Y_transformed.groupby(['Target']).count()"
   ]
  },
  {
   "cell_type": "markdown",
   "metadata": {},
   "source": [
    "We'll take the first 2000 rows for STG and last 2000 for CSF."
   ]
  },
  {
   "cell_type": "code",
   "execution_count": 90,
   "metadata": {
    "collapsed": true
   },
   "outputs": [],
   "source": [
    "CSF_STG8_no_Y_transformed[CSF_STG8_no_Y_transformed['Target']==0].iloc[0:2000,:].shape\n",
    "X1_train_CSF=CSF_STG8_no_Y_transformed[CSF_STG8_no_Y_transformed['Target']==0].iloc[0:2000,:]\n",
    "X1_OoS_CSF=CSF_STG8_no_Y_transformed[CSF_STG8_no_Y_transformed['Target']==0].iloc[2000:2100,:]\n",
    "\n",
    "X1_train_STG=CSF_STG8_no_Y_transformed[CSF_STG8_no_Y_transformed['Target']==1].iloc[0:2000,:]\n",
    "X1_OoS_STG=CSF_STG8_no_Y_transformed[CSF_STG8_no_Y_transformed['Target']==1].iloc[2000:,:]\n",
    "\n",
    "X1_train_input = pd.concat([X1_train_CSF,X1_train_STG])\n",
    "X1_OoS =pd.concat([X1_OoS_CSF,X1_OoS_STG])"
   ]
  },
  {
   "cell_type": "code",
   "execution_count": 91,
   "metadata": {
    "collapsed": false
   },
   "outputs": [],
   "source": [
    "#CSF_STG8_no_Y_transformed[CSF_STG8_no_Y_transformed['Target']=='CSF'].iloc[0:2000,:].shape\n",
    "#X1_train_CSF=CSF_STG8_no_Y_transformed[CSF_STG8_no_Y_transformed['Target']=='CSF'].iloc[0:2000,:]\n",
    "#X1_OoS_CSF=CSF_STG8_no_Y_transformed[CSF_STG8_no_Y_transformed['Target']=='CSF'].iloc[2000:2100,:]\n",
    "\n",
    "#X1_train_STG=CSF_STG8_no_Y_transformed[CSF_STG8_no_Y_transformed['Target']=='STG'].iloc[0:2000,:]\n",
    "#X1_OoS_STG=CSF_STG8_no_Y_transformed[CSF_STG8_no_Y_transformed['Target']=='STG'].iloc[2000:,:]\n",
    "\n",
    "#X1_train_input = pd.concat([X1_train_CSF,X1_train_STG])\n",
    "#X1_OoS =pd.concat([X1_OoS_CSF,X1_OoS_STG])"
   ]
  },
  {
   "cell_type": "code",
   "execution_count": 92,
   "metadata": {
    "collapsed": false
   },
   "outputs": [
    {
     "data": {
      "text/plain": [
       "(1623, 69)"
      ]
     },
     "execution_count": 92,
     "metadata": {},
     "output_type": "execute_result"
    }
   ],
   "source": [
    "CSF_STG8_no_Y_transformed[CSF_STG8_no_Y_transformed['Target']==0].iloc[2000:,:].shape"
   ]
  },
  {
   "cell_type": "code",
   "execution_count": 93,
   "metadata": {
    "collapsed": true
   },
   "outputs": [],
   "source": [
    "X2_train_CSF=CSF_STG8_no_Y_transf_nzv[CSF_STG8_no_Y_transf_nzv['Target']==0].iloc[0:2000,:]\n",
    "X2_OoS_CSF=CSF_STG8_no_Y_transf_nzv[CSF_STG8_no_Y_transf_nzv['Target']==0].iloc[2000:2100,:]\n",
    "\n",
    "X2_train_STG=CSF_STG8_no_Y_transf_nzv[CSF_STG8_no_Y_transf_nzv['Target']==1].iloc[0:2000,:]\n",
    "X2_OoS_STG=CSF_STG8_no_Y_transf_nzv[CSF_STG8_no_Y_transf_nzv['Target']==1].iloc[2000:2100,:]\n",
    "\n",
    "X2_train_input = pd.concat([X2_train_CSF,X2_train_STG])\n",
    "X2_OoS =pd.concat([X2_OoS_CSF,X2_OoS_STG])"
   ]
  },
  {
   "cell_type": "code",
   "execution_count": 94,
   "metadata": {
    "collapsed": false,
    "scrolled": true
   },
   "outputs": [
    {
     "data": {
      "text/plain": [
       "['AreaShape_Area',\n",
       " 'AreaShape_Compactness',\n",
       " 'AreaShape_Eccentricity',\n",
       " 'AreaShape_Extent',\n",
       " 'AreaShape_FormFactor',\n",
       " 'AreaShape_MajorAxisLength',\n",
       " 'AreaShape_MaxFeretDiameter',\n",
       " 'AreaShape_MaximumRadius',\n",
       " 'AreaShape_MeanRadius',\n",
       " 'AreaShape_MedianRadius',\n",
       " 'AreaShape_MinFeretDiameter',\n",
       " 'AreaShape_MinorAxisLength',\n",
       " 'AreaShape_Orientation',\n",
       " 'AreaShape_Perimeter',\n",
       " 'AreaShape_Solidity',\n",
       " 'AreaShape_Zernike_0_0',\n",
       " 'AreaShape_Zernike_1_1',\n",
       " 'AreaShape_Zernike_2_0',\n",
       " 'AreaShape_Zernike_2_2',\n",
       " 'AreaShape_Zernike_3_1',\n",
       " 'AreaShape_Zernike_3_3',\n",
       " 'AreaShape_Zernike_4_0',\n",
       " 'AreaShape_Zernike_4_2',\n",
       " 'AreaShape_Zernike_4_4',\n",
       " 'AreaShape_Zernike_5_1',\n",
       " 'AreaShape_Zernike_5_3',\n",
       " 'AreaShape_Zernike_5_5',\n",
       " 'AreaShape_Zernike_6_0',\n",
       " 'AreaShape_Zernike_6_2',\n",
       " 'AreaShape_Zernike_6_4',\n",
       " 'AreaShape_Zernike_6_6',\n",
       " 'AreaShape_Zernike_7_1',\n",
       " 'AreaShape_Zernike_7_3',\n",
       " 'AreaShape_Zernike_7_5',\n",
       " 'AreaShape_Zernike_7_7',\n",
       " 'AreaShape_Zernike_8_0',\n",
       " 'AreaShape_Zernike_8_2',\n",
       " 'AreaShape_Zernike_8_4',\n",
       " 'AreaShape_Zernike_8_6',\n",
       " 'AreaShape_Zernike_8_8',\n",
       " 'AreaShape_Zernike_9_1',\n",
       " 'AreaShape_Zernike_9_3',\n",
       " 'AreaShape_Zernike_9_5',\n",
       " 'AreaShape_Zernike_9_7',\n",
       " 'AreaShape_Zernike_9_9',\n",
       " 'Intensity_IntegratedIntensityEdge_Rhodamine',\n",
       " 'Intensity_IntegratedIntensity_Rhodamine',\n",
       " 'Intensity_LowerQuartileIntensity_Rhodamine',\n",
       " 'Intensity_MADIntensity_Rhodamine',\n",
       " 'Intensity_MassDisplacement_Rhodamine',\n",
       " 'Intensity_MaxIntensityEdge_Rhodamine',\n",
       " 'Intensity_MaxIntensity_Rhodamine',\n",
       " 'Intensity_MeanIntensityEdge_Rhodamine',\n",
       " 'Intensity_MeanIntensity_Rhodamine',\n",
       " 'Intensity_MedianIntensity_Rhodamine',\n",
       " 'Intensity_MinIntensityEdge_Rhodamine',\n",
       " 'Intensity_MinIntensity_Rhodamine',\n",
       " 'Intensity_StdIntensityEdge_Rhodamine',\n",
       " 'Intensity_StdIntensity_Rhodamine',\n",
       " 'Intensity_UpperQuartileIntensity_Rhodamine',\n",
       " 'Math_AreaSquareMicron',\n",
       " 'Math_AspectRatio',\n",
       " 'Math_BeadAreaEquiv',\n",
       " 'Math_MaxFeretMicron',\n",
       " 'Math_MinFeretMicron',\n",
       " 'Parent_Spindles',\n",
       " 'Euclidian_norm_centers',\n",
       " 'Target']"
      ]
     },
     "execution_count": 94,
     "metadata": {},
     "output_type": "execute_result"
    }
   ],
   "source": [
    "list(X2_train_input.columns)"
   ]
  },
  {
   "cell_type": "code",
   "execution_count": 95,
   "metadata": {
    "collapsed": true
   },
   "outputs": [],
   "source": [
    "Y1=X1_train_input['Target'].values\n",
    "Y2=X2_train_input['Target'].values"
   ]
  },
  {
   "cell_type": "code",
   "execution_count": 96,
   "metadata": {
    "collapsed": true
   },
   "outputs": [],
   "source": [
    "X1_train_input.drop('Target',axis=1, inplace=True)\n",
    "X2_train_input.drop('Target',axis=1, inplace=True)"
   ]
  },
  {
   "cell_type": "code",
   "execution_count": 97,
   "metadata": {
    "collapsed": false
   },
   "outputs": [
    {
     "data": {
      "text/plain": [
       "((4000, 68), (4000, 67))"
      ]
     },
     "execution_count": 97,
     "metadata": {},
     "output_type": "execute_result"
    }
   ],
   "source": [
    "X1_train_input.shape, X2_train_input.shape"
   ]
  },
  {
   "cell_type": "markdown",
   "metadata": {},
   "source": [
    "Target is the Y (outcome to be predicted). CSF is 0 and STG8 is 1."
   ]
  },
  {
   "cell_type": "markdown",
   "metadata": {},
   "source": [
    "#####Model 1: all features without DNA/chromatin\n",
    "Dataset is transformed, scaled and centered. It will, however, be affected by **multicollinearity** at this stage. Decrease dimensions before moving forward."
   ]
  },
  {
   "cell_type": "code",
   "execution_count": 98,
   "metadata": {
    "collapsed": false
   },
   "outputs": [],
   "source": [
    "from sklearn.linear_model import LogisticRegression\n",
    "\n",
    "from sklearn.cross_validation import train_test_split\n",
    "\n",
    "\n",
    "from sklearn.metrics import accuracy_score\n",
    "from sklearn.metrics import classification_report\n",
    "\n",
    "from sklearn.metrics import confusion_matrix"
   ]
  },
  {
   "cell_type": "code",
   "execution_count": 99,
   "metadata": {
    "collapsed": false
   },
   "outputs": [
    {
     "data": {
      "text/plain": [
       "array([0, 1])"
      ]
     },
     "execution_count": 99,
     "metadata": {},
     "output_type": "execute_result"
    }
   ],
   "source": [
    "np.unique(target) "
   ]
  },
  {
   "cell_type": "markdown",
   "metadata": {},
   "source": [
    "Specyfying X and Y."
   ]
  },
  {
   "cell_type": "code",
   "execution_count": 100,
   "metadata": {
    "collapsed": false
   },
   "outputs": [],
   "source": [
    "#Y=target.values\n",
    "X1=X1_train_input.values\n",
    "X2=X2_train_input.values"
   ]
  },
  {
   "cell_type": "markdown",
   "metadata": {},
   "source": [
    "Splitting data set for cross-validation:"
   ]
  },
  {
   "cell_type": "code",
   "execution_count": 101,
   "metadata": {
    "collapsed": false
   },
   "outputs": [],
   "source": [
    "X1_train, X1_test, Y1_train, Y1_test = train_test_split(X1, Y1, test_size=0.2, random_state=0)\n",
    "X2_train, X2_test, Y2_train, Y2_test = train_test_split(X2, Y2, test_size=0.2, random_state=0)"
   ]
  },
  {
   "cell_type": "code",
   "execution_count": 102,
   "metadata": {
    "collapsed": false
   },
   "outputs": [
    {
     "data": {
      "text/plain": [
       "((3200, 68),\n",
       " (800, 68),\n",
       " (3200, 67),\n",
       " (800, 67),\n",
       " (3200,),\n",
       " (800,),\n",
       " (3200, 68),\n",
       " (800, 68),\n",
       " (3200, 67),\n",
       " (800, 67),\n",
       " (3200,),\n",
       " (800,))"
      ]
     },
     "execution_count": 102,
     "metadata": {},
     "output_type": "execute_result"
    }
   ],
   "source": [
    "X1_train.shape, X1_test.shape, X2_train.shape, X2_test.shape, Y1_train.shape, Y1_test.shape, X1_train.shape, X1_test.shape, X2_train.shape, X2_test.shape, Y2_train.shape, Y2_test.shape "
   ]
  },
  {
   "cell_type": "code",
   "execution_count": 103,
   "metadata": {
    "collapsed": false
   },
   "outputs": [
    {
     "data": {
      "text/plain": [
       "LogisticRegression(C=1, class_weight=None, dual=False, fit_intercept=True,\n",
       "          intercept_scaling=1, penalty='l2', random_state=None, tol=0.0001)"
      ]
     },
     "execution_count": 103,
     "metadata": {},
     "output_type": "execute_result"
    }
   ],
   "source": [
    "m1_1=LogisticRegression(penalty ='l2', C=1) \n",
    "m2_1=LogisticRegression(penalty ='l2', C=1) \n",
    "\n",
    "\n",
    "m1_1.fit(X1_train,Y1_train)\n",
    "m2_1.fit(X2_train,Y2_train)"
   ]
  },
  {
   "cell_type": "code",
   "execution_count": 104,
   "metadata": {
    "collapsed": true
   },
   "outputs": [],
   "source": [
    "Y_pred_1_1=m1_1.predict(X1_test)\n",
    "Y_pred_2_1=m2_1.predict(X2_test)"
   ]
  },
  {
   "cell_type": "code",
   "execution_count": 105,
   "metadata": {
    "collapsed": false
   },
   "outputs": [
    {
     "name": "stdout",
     "output_type": "stream",
     "text": [
      "0.7625\n",
      "0.7625\n"
     ]
    }
   ],
   "source": [
    "print accuracy_score(Y1_test, Y_pred_1_1)\n",
    "print accuracy_score(Y2_test, Y_pred_2_1)"
   ]
  },
  {
   "cell_type": "code",
   "execution_count": 106,
   "metadata": {
    "collapsed": false,
    "scrolled": false
   },
   "outputs": [
    {
     "name": "stdout",
     "output_type": "stream",
     "text": [
      "[[303 104]\n",
      " [ 86 307]]\n",
      "[[303 104]\n",
      " [ 86 307]]\n"
     ]
    },
    {
     "data": {
      "text/plain": [
       "<matplotlib.colorbar.Colorbar instance at 0x11bb52b00>"
      ]
     },
     "execution_count": 106,
     "metadata": {},
     "output_type": "execute_result"
    },
    {
     "data": {
      "image/png": "[encoded data removed]",
      "text/plain": [
       "<matplotlib.figure.Figure at 0x11f635310>"
      ]
     },
     "metadata": {},
     "output_type": "display_data"
    },
    {
     "data": {
      "image/png": "[encoded data removed]",
      "text/plain": [
       "<matplotlib.figure.Figure at 0x11f648e10>"
      ]
     },
     "metadata": {},
     "output_type": "display_data"
    }
   ],
   "source": [
    "cm_1_1=confusion_matrix(Y1_test, Y_pred_1_1)\n",
    "print(cm_1_1)\n",
    "plt.matshow(cm_1_1)\n",
    "plt.title('Confusion matrix')\n",
    "plt.colorbar()\n",
    "#plt.ylabel('True label')\n",
    "#plt.xlabel('Predicted label')\n",
    "cm_2_1=confusion_matrix(Y2_test, Y_pred_2_1)\n",
    "print(cm_2_1)\n",
    "plt.matshow(cm_2_1)\n",
    "plt.title('Confusion matrix')\n",
    "plt.colorbar()\n"
   ]
  },
  {
   "cell_type": "code",
   "execution_count": 107,
   "metadata": {
    "collapsed": false
   },
   "outputs": [
    {
     "name": "stdout",
     "output_type": "stream",
     "text": [
      "             precision    recall  f1-score   support\n",
      "\n",
      "          0       0.78      0.74      0.76       407\n",
      "          1       0.75      0.78      0.76       393\n",
      "\n",
      "avg / total       0.76      0.76      0.76       800\n",
      "\n",
      "\n",
      "             precision    recall  f1-score   support\n",
      "\n",
      "          0       0.78      0.74      0.76       407\n",
      "          1       0.75      0.78      0.76       393\n",
      "\n",
      "avg / total       0.76      0.76      0.76       800\n",
      "\n"
     ]
    }
   ],
   "source": [
    "print(classification_report(Y1_test, Y_pred_1_1))\n",
    "print\n",
    "print(classification_report(Y2_test, Y_pred_2_1))"
   ]
  },
  {
   "cell_type": "markdown",
   "metadata": {},
   "source": [
    "Skipping DNA/chromatin features makes the model far less accurate. "
   ]
  },
  {
   "cell_type": "markdown",
   "metadata": {},
   "source": [
    "Evaluating **model performance**:"
   ]
  },
  {
   "cell_type": "code",
   "execution_count": 108,
   "metadata": {
    "collapsed": false
   },
   "outputs": [
    {
     "name": "stdout",
     "output_type": "stream",
     "text": [
      "0.7725\n",
      "0.7725\n"
     ]
    }
   ],
   "source": [
    "from sklearn.cross_validation import cross_val_score, ShuffleSplit\n",
    "n_samples = len(Y1)\n",
    "cv = ShuffleSplit(n_samples, n_iter=10, test_size=0.2, random_state=0) #5-fold\n",
    "\n",
    "test_scores_1_1 = cross_val_score(LogisticRegression(penalty = 'l2', C=1), X1, Y1, cv=cv)\n",
    "test_scores_2_1 = cross_val_score(LogisticRegression(penalty = 'l2', C=1), X2, Y2, cv=cv)\n",
    "\n",
    "\n",
    "#print(test_scores)\n",
    "print test_scores_1_1.mean()\n",
    "print test_scores_2_1.mean()\n",
    "\n"
   ]
  },
  {
   "cell_type": "markdown",
   "metadata": {},
   "source": [
    "Does not look like the two removed features had so much of an impact on the boundary."
   ]
  },
  {
   "cell_type": "code",
   "execution_count": 109,
   "metadata": {
    "collapsed": true
   },
   "outputs": [],
   "source": [
    "from sklearn.metrics import roc_curve\n",
    "from sklearn.metrics import auc\n",
    "from sklearn.metrics import confusion_matrix"
   ]
  },
  {
   "cell_type": "code",
   "execution_count": 110,
   "metadata": {
    "collapsed": true
   },
   "outputs": [],
   "source": [
    "def plot_roc_curve(target_test, target_predicted_proba):\n",
    "    '''If your labels are not binary, they will be converted to 0,1, which is required by roc_curve()'''\n",
    "\n",
    "    try:\n",
    "        fpr, tpr, thresholds = roc_curve(target_test, target_predicted_proba[:, 1])\n",
    "    except ValueError:\n",
    "        mapper=dict(zip(np.unique(target_test),range(np.shape(np.unique(target_test))[0])))\n",
    "        new_target_test=map(lambda x: mapper[x],target_test)\n",
    "        fpr, tpr, thresholds = roc_curve(new_target_test, target_predicted_proba[:, 1])\n",
    "        \n",
    "    roc_auc = auc(fpr, tpr)\n",
    "    # Plot ROC curve\n",
    "    plt.plot(fpr, tpr, label='ROC curve (area = %0.3f)' % roc_auc)\n",
    "    plt.plot([0, 1], [0, 1], 'k--')  # random predictions curve\n",
    "    plt.xlim([0.0, 1.0])\n",
    "    plt.ylim([0.0, 1.0])\n",
    "    plt.xlabel('False Positive Rate or (1 - Specifity)')\n",
    "    plt.ylabel('True Positive Rate or (Sensitivity)')\n",
    "   #plt.title('Receiver Operating Characteristic')\n",
    "    plt.legend(loc=\"lower right\")\n",
    "    \n",
    "    #Infer Youden index\n",
    "    sensitivity=tpr\n",
    "    specificity=1-fpr\n",
    "    J=sensitivity + specificity -1\n",
    "    plt.annotate('inferred from Youden index', xy=(fpr[np.where(J==max(J))],tpr[np.where(J==max(J))]),xytext=(fpr[np.where(J==max(J))]+0.15,tpr[np.where(J==max(J))]-0.05),arrowprops=dict(facecolor='red', shrink=0.1, width=2, frac=0.3, headwidth=8),color='r')\n",
    "    \n",
    "    #print max(J)\n",
    "\n",
    "    #print np.where(J==max(J))\n",
    "    #I'll use the index to find corresponding threshold:\n",
    "    print 'optimal probability threshold: ', thresholds[np.where(J==max(J))]\n",
    "\n",
    "    print 'fpr: ',fpr[np.where(J==max(J))]\n",
    "    print 'tpr: ',tpr[np.where(J==max(J))]\n"
   ]
  },
  {
   "cell_type": "code",
   "execution_count": 111,
   "metadata": {
    "collapsed": true
   },
   "outputs": [],
   "source": [
    "Y_pred_1_1_probs=m1_1.predict_proba(X1_test)\n",
    "Y_pred_2_1_probs=m2_1.predict_proba(X2_test)"
   ]
  },
  {
   "cell_type": "code",
   "execution_count": 112,
   "metadata": {
    "collapsed": false
   },
   "outputs": [
    {
     "name": "stdout",
     "output_type": "stream",
     "text": [
      "optimal probability threshold:  [ 0.51421317]\n",
      "fpr:  [ 0.24324324]\n",
      "tpr:  [ 0.7735369]\n"
     ]
    },
    {
     "data": {
      "image/png": "[encoded data removed]",
      "text/plain": [
       "<matplotlib.figure.Figure at 0x1217ac4d0>"
      ]
     },
     "metadata": {},
     "output_type": "display_data"
    }
   ],
   "source": [
    "plot_roc_curve(Y1_test,Y_pred_1_1_probs)"
   ]
  },
  {
   "cell_type": "markdown",
   "metadata": {},
   "source": [
    "Search for optimal parameters (requires additional split upfront - train, test, OoS). I would use it if you're super off in your classification attempt. It takes a while to find optimal parameters."
   ]
  },
  {
   "cell_type": "code",
   "execution_count": 113,
   "metadata": {
    "collapsed": true
   },
   "outputs": [],
   "source": [
    "from sklearn.grid_search import GridSearchCV"
   ]
  },
  {
   "cell_type": "code",
   "execution_count": 114,
   "metadata": {
    "collapsed": true
   },
   "outputs": [],
   "source": [
    "from sklearn import svm"
   ]
  },
  {
   "cell_type": "code",
   "execution_count": 115,
   "metadata": {
    "collapsed": false
   },
   "outputs": [
    {
     "name": "stdout",
     "output_type": "stream",
     "text": [
      "{'C': 1, 'intercept_scaling': 1, 'fit_intercept': True, 'penalty': 'l2', 'random_state': None, 'dual': False, 'tol': 0.0001, 'class_weight': None}\n",
      "{'C': 1, 'intercept_scaling': 1, 'fit_intercept': True, 'penalty': 'l2', 'random_state': None, 'dual': False, 'tol': 0.0001, 'class_weight': None}\n"
     ]
    }
   ],
   "source": [
    "print m1_1.get_params()\n",
    "print m2_1.get_params()"
   ]
  },
  {
   "cell_type": "code",
   "execution_count": 116,
   "metadata": {
    "collapsed": true
   },
   "outputs": [],
   "source": [
    "parameter_grid = [\n",
    "  {'C': [0.01,0.1,1, 10, 100, 1000], 'penalty': ['l1']}, #lasso\n",
    "  {'C': [0.01,0.1,1, 10, 100, 1000], 'penalty': ['l2']} #ridge\n",
    " ]"
   ]
  },
  {
   "cell_type": "code",
   "execution_count": 117,
   "metadata": {
    "collapsed": true
   },
   "outputs": [],
   "source": [
    "parameter_grid_svm = [\n",
    " {'C': [0.01,0.1,1, 10, 100, 1000], 'gamma': [0.1,0.01,0.001, 0.0001], 'kernel': ['rbf']}\n",
    " ]\n",
    "\n",
    "#parameter_grid_svm = [\n",
    "#  {'C': [0.01,0.1,1, 10, 100, 1000], 'kernel': ['linear']},\n",
    "# {'C': [0.01,0.1,1, 10, 100, 1000], 'gamma': [0.1,0.01,0.001, 0.0001], 'kernel': ['rbf']},\n",
    "# ]"
   ]
  },
  {
   "cell_type": "code",
   "execution_count": 118,
   "metadata": {
    "collapsed": true
   },
   "outputs": [],
   "source": [
    "m1_2=GridSearchCV(LogisticRegression(),parameter_grid,cv=5)"
   ]
  },
  {
   "cell_type": "code",
   "execution_count": 119,
   "metadata": {
    "collapsed": true
   },
   "outputs": [],
   "source": [
    "m_svm_2=GridSearchCV(svm.SVC(),parameter_grid_svm,cv=5,n_jobs=2)"
   ]
  },
  {
   "cell_type": "code",
   "execution_count": 120,
   "metadata": {
    "collapsed": false
   },
   "outputs": [
    {
     "data": {
      "text/plain": [
       "GridSearchCV(cv=5,\n",
       "       estimator=SVC(C=1.0, cache_size=200, class_weight=None, coef0=0.0, degree=3, gamma=0.0,\n",
       "  kernel='rbf', max_iter=-1, probability=False, random_state=None,\n",
       "  shrinking=True, tol=0.001, verbose=False),\n",
       "       fit_params={}, iid=True, loss_func=None, n_jobs=2,\n",
       "       param_grid=[{'kernel': ['rbf'], 'C': [0.01, 0.1, 1, 10, 100, 1000], 'gamma': [0.1, 0.01, 0.001, 0.0001]}],\n",
       "       pre_dispatch='2*n_jobs', refit=True, score_func=None, scoring=None,\n",
       "       verbose=0)"
      ]
     },
     "execution_count": 120,
     "metadata": {},
     "output_type": "execute_result"
    }
   ],
   "source": [
    "m_svm_2"
   ]
  },
  {
   "cell_type": "markdown",
   "metadata": {},
   "source": [
    "Uncomment the cell below if you want to perform the grid search. Note that it may take a while (see: above)."
   ]
  },
  {
   "cell_type": "code",
   "execution_count": 121,
   "metadata": {
    "collapsed": false
   },
   "outputs": [
    {
     "data": {
      "text/plain": [
       "((3200, 68), (800, 68))"
      ]
     },
     "execution_count": 121,
     "metadata": {},
     "output_type": "execute_result"
    }
   ],
   "source": [
    "X1_train.shape, X1_test.shape"
   ]
  },
  {
   "cell_type": "code",
   "execution_count": 122,
   "metadata": {
    "collapsed": false,
    "scrolled": true
   },
   "outputs": [
    {
     "data": {
      "text/plain": [
       "GridSearchCV(cv=5,\n",
       "       estimator=LogisticRegression(C=1.0, class_weight=None, dual=False, fit_intercept=True,\n",
       "          intercept_scaling=1, penalty='l2', random_state=None, tol=0.0001),\n",
       "       fit_params={}, iid=True, loss_func=None, n_jobs=1,\n",
       "       param_grid=[{'penalty': ['l1'], 'C': [0.01, 0.1, 1, 10, 100, 1000]}, {'penalty': ['l2'], 'C': [0.01, 0.1, 1, 10, 100, 1000]}],\n",
       "       pre_dispatch='2*n_jobs', refit=True, score_func=None, scoring=None,\n",
       "       verbose=0)"
      ]
     },
     "execution_count": 122,
     "metadata": {},
     "output_type": "execute_result"
    }
   ],
   "source": [
    "m1_2.fit(X1_train,Y1_train)"
   ]
  },
  {
   "cell_type": "markdown",
   "metadata": {},
   "source": [
    "The svm grid-search really takes for ever."
   ]
  },
  {
   "cell_type": "code",
   "execution_count": 123,
   "metadata": {
    "collapsed": false
   },
   "outputs": [
    {
     "data": {
      "text/plain": [
       "GridSearchCV(cv=5,\n",
       "       estimator=SVC(C=1.0, cache_size=200, class_weight=None, coef0=0.0, degree=3, gamma=0.0,\n",
       "  kernel='rbf', max_iter=-1, probability=False, random_state=None,\n",
       "  shrinking=True, tol=0.001, verbose=False),\n",
       "       fit_params={}, iid=True, loss_func=None, n_jobs=2,\n",
       "       param_grid=[{'kernel': ['rbf'], 'C': [0.01, 0.1, 1, 10, 100, 1000], 'gamma': [0.1, 0.01, 0.001, 0.0001]}],\n",
       "       pre_dispatch='2*n_jobs', refit=True, score_func=None, scoring=None,\n",
       "       verbose=0)"
      ]
     },
     "execution_count": 123,
     "metadata": {},
     "output_type": "execute_result"
    }
   ],
   "source": [
    "m_svm_2.fit(X1_train,Y1_train)"
   ]
  },
  {
   "cell_type": "code",
   "execution_count": 124,
   "metadata": {
    "collapsed": false
   },
   "outputs": [
    {
     "name": "stdout",
     "output_type": "stream",
     "text": [
      "LogisticRegression(C=1000, class_weight=None, dual=False, fit_intercept=True,\n",
      "          intercept_scaling=1, penalty='l2', random_state=None, tol=0.0001)\n",
      "SVC(C=10, cache_size=200, class_weight=None, coef0=0.0, degree=3, gamma=0.01,\n",
      "  kernel='rbf', max_iter=-1, probability=False, random_state=None,\n",
      "  shrinking=True, tol=0.001, verbose=False)\n",
      "0.7815625\n",
      "0.8396875\n"
     ]
    }
   ],
   "source": [
    "print m1_2.best_estimator_\n",
    "print m_svm_2.best_estimator_\n",
    "\n",
    "print m1_2.best_score_\n",
    "print m_svm_2.best_score_"
   ]
  },
  {
   "cell_type": "code",
   "execution_count": 125,
   "metadata": {
    "collapsed": false
   },
   "outputs": [
    {
     "name": "stdout",
     "output_type": "stream",
     "text": [
      "[[295 112]\n",
      " [ 85 308]]\n",
      "800\n",
      "393\n",
      "0.724815724816\n",
      "0.783715012723\n"
     ]
    },
    {
     "data": {
      "image/png": "[encoded data removed]",
      "text/plain": [
       "<matplotlib.figure.Figure at 0x11ba2a550>"
      ]
     },
     "metadata": {},
     "output_type": "display_data"
    }
   ],
   "source": [
    "cm_LR21=confusion_matrix(Y1_test, m1_2.predict(X1_test))\n",
    "\n",
    "print(cm_LR21)\n",
    "\n",
    "plt.matshow(cm_LR21)\n",
    "#plt.title('Confusion matrix')\n",
    "plt.colorbar()\n",
    "\n",
    "print len(Y1_test) #all \n",
    "print np.sum(Y1_test) #STG8\n",
    "\n",
    "print float(cm_LR21[0][0])/(len(Y1_test)-np.sum(Y1_test)) #00 CTRL\n",
    "print float(cm_LR21[1][1])/(np.sum(Y1_test)) #11 TPX2\n",
    "\n",
    "#plt.savefig('../Plots/mixing_noDNA_cm_LR21.pdf')"
   ]
  },
  {
   "cell_type": "code",
   "execution_count": 126,
   "metadata": {
    "collapsed": false
   },
   "outputs": [
    {
     "name": "stdout",
     "output_type": "stream",
     "text": [
      "optimal probability threshold:  [ 0.52263423]\n",
      "fpr:  [ 0.23341523]\n",
      "tpr:  [ 0.77099237]\n"
     ]
    },
    {
     "data": {
      "image/png": "[encoded data removed]",
      "text/plain": [
       "<matplotlib.figure.Figure at 0x11fd86850>"
      ]
     },
     "metadata": {},
     "output_type": "display_data"
    }
   ],
   "source": [
    "plot_roc_curve(Y1_test, m1_2.predict_proba(X1_test))\n",
    "#plt.savefig('../Plots/mixing_noDNA_ROC_LR21.pdf')"
   ]
  },
  {
   "cell_type": "code",
   "execution_count": 127,
   "metadata": {
    "collapsed": false
   },
   "outputs": [
    {
     "name": "stdout",
     "output_type": "stream",
     "text": [
      "[[333  74]\n",
      " [ 68 325]]\n",
      "800\n",
      "393\n",
      "0.818181818182\n",
      "0.826972010178\n"
     ]
    },
    {
     "data": {
      "image/png": "[encoded data removed]",
      "text/plain": [
       "<matplotlib.figure.Figure at 0x121781210>"
      ]
     },
     "metadata": {},
     "output_type": "display_data"
    }
   ],
   "source": [
    "cm_svm21=confusion_matrix(Y1_test, m_svm_2.predict(X1_test))\n",
    "\n",
    "print(cm_svm21)\n",
    "\n",
    "plt.matshow(cm_svm21)\n",
    "#plt.title('Confusion matrix')\n",
    "plt.colorbar()\n",
    "\n",
    "print len(Y1_test) #all \n",
    "print np.sum(Y1_test) #STG8\n",
    "\n",
    "print float(cm_svm21[0][0])/(len(Y1_test)-np.sum(Y1_test)) #00 CTRL\n",
    "print float(cm_svm21[1][1])/(np.sum(Y1_test)) #11 TPX2\n",
    "\n",
    "#plt.savefig('../Plots/mixing_noDNA_cm_svm21.pdf')"
   ]
  },
  {
   "cell_type": "markdown",
   "metadata": {},
   "source": [
    "The difference between what we were using before and the best model us the **penalty (lasso, L1)** and the **regularization term (100 instead of 1)**."
   ]
  },
  {
   "cell_type": "code",
   "execution_count": 128,
   "metadata": {
    "collapsed": false
   },
   "outputs": [
    {
     "name": "stdout",
     "output_type": "stream",
     "text": [
      "0.7815625\n",
      "0.75375\n",
      "0.8396875\n"
     ]
    }
   ],
   "source": [
    "print m1_2.best_score_\n",
    "print m1_2.score(X1_test,Y1_test)\n",
    "print m_svm_2.best_score_"
   ]
  },
  {
   "cell_type": "code",
   "execution_count": 129,
   "metadata": {
    "collapsed": false
   },
   "outputs": [
    {
     "ename": "NameError",
     "evalue": "name 'm2_2' is not defined",
     "output_type": "error",
     "traceback": [
      "\u001b[0;31m---------------------------------------------------------------------------\u001b[0m",
      "\u001b[0;31mNameError\u001b[0m                                 Traceback (most recent call last)",
      "\u001b[0;32m<ipython-input-129-33e0560f9cac>\u001b[0m in \u001b[0;36m<module>\u001b[0;34m()\u001b[0m\n\u001b[1;32m      1\u001b[0m \u001b[0mY_pred_1_2\u001b[0m\u001b[0;34m=\u001b[0m\u001b[0mm1_2\u001b[0m\u001b[0;34m.\u001b[0m\u001b[0mpredict\u001b[0m\u001b[0;34m(\u001b[0m\u001b[0mX1_test\u001b[0m\u001b[0;34m)\u001b[0m\u001b[0;34m\u001b[0m\u001b[0m\n\u001b[0;32m----> 2\u001b[0;31m \u001b[0mY_pred_svm\u001b[0m\u001b[0;34m=\u001b[0m\u001b[0mm2_2\u001b[0m\u001b[0;34m.\u001b[0m\u001b[0mpredict\u001b[0m\u001b[0;34m(\u001b[0m\u001b[0mX1_test\u001b[0m\u001b[0;34m)\u001b[0m\u001b[0;34m\u001b[0m\u001b[0m\n\u001b[0m",
      "\u001b[0;31mNameError\u001b[0m: name 'm2_2' is not defined"
     ]
    }
   ],
   "source": [
    "Y_pred_1_2=m1_2.predict(X1_test)\n",
    "Y_pred_svm=m2_2.predict(X1_test)"
   ]
  },
  {
   "cell_type": "code",
   "execution_count": null,
   "metadata": {
    "collapsed": false
   },
   "outputs": [],
   "source": [
    "Y_pred_1_2_probs=m1_2.predict_proba(X1_test)\n",
    "plot_roc_curve(Y1_test,Y_pred_1_2_probs)\n",
    "\n"
   ]
  },
  {
   "cell_type": "code",
   "execution_count": null,
   "metadata": {
    "collapsed": false
   },
   "outputs": [],
   "source": [
    "print classification_report(Y1_test,Y_pred_1_2)\n",
    "print classification_report(Y1_test,Y_pred_svm)"
   ]
  },
  {
   "cell_type": "markdown",
   "metadata": {},
   "source": [
    "**OoS**"
   ]
  },
  {
   "cell_type": "code",
   "execution_count": null,
   "metadata": {
    "collapsed": false
   },
   "outputs": [],
   "source": [
    "Y1_OoS=X1_OoS['Target'].values\n",
    "X1_OoS.drop('Target',axis=1,inplace =True)"
   ]
  },
  {
   "cell_type": "code",
   "execution_count": null,
   "metadata": {
    "collapsed": true
   },
   "outputs": [],
   "source": [
    "Y_pred_1_OoS=m1_2.predict(X1_OoS.values)"
   ]
  },
  {
   "cell_type": "code",
   "execution_count": null,
   "metadata": {
    "collapsed": false
   },
   "outputs": [],
   "source": [
    "print classification_report(Y1_OoS,Y_pred_1_OoS)\n",
    "print accuracy_score(Y1_OoS, Y_pred_1_OoS)\n"
   ]
  },
  {
   "cell_type": "markdown",
   "metadata": {},
   "source": [
    "If the OoS will be unbalanced, the underrepresented class might not be picked up correctly. You need a similar sample balance (at least for logistic regression).    \n",
    "\n",
    "Again, nothing got mis-classified.\n"
   ]
  },
  {
   "cell_type": "markdown",
   "metadata": {},
   "source": [
    "\n",
    "**Mixing**"
   ]
  },
  {
   "cell_type": "code",
   "execution_count": null,
   "metadata": {
    "collapsed": false
   },
   "outputs": [],
   "source": [
    "df_mix_800_trans=pd.read_csv('../Data/mixing_df_mix_800_no_DNA_trans.csv')\n",
    "df_mix_890_trans=pd.read_csv('../Data/mixing_df_mix_890_no_DNA_trans.csv')\n",
    "df_mix_875_trans=pd.read_csv('../Data/mixing_df_mix_875_no_DNA_trans.csv')\n",
    "df_mix_850_trans=pd.read_csv('../Data/mixing_df_mix_850_no_DNA_trans.csv')"
   ]
  },
  {
   "cell_type": "code",
   "execution_count": null,
   "metadata": {
    "collapsed": true
   },
   "outputs": [],
   "source": [
    "df_mix_890_trans.drop('Unnamed: 0',inplace=True,axis=1)\n",
    "df_mix_800_trans.drop('Unnamed: 0',inplace=True,axis=1)\n",
    "df_mix_850_trans.drop('Unnamed: 0',inplace=True,axis=1)\n",
    "df_mix_875_trans.drop('Unnamed: 0',inplace=True,axis=1)"
   ]
  },
  {
   "cell_type": "code",
   "execution_count": null,
   "metadata": {
    "collapsed": false
   },
   "outputs": [],
   "source": [
    "list(df_mix_890_trans.columns).__len__(), list(X1_train_input.columns).__len__()\n",
    "k=set(list(df_mix_890_trans.columns))\n",
    "k.difference(set(list(X1_train_input.columns)))\n",
    "\n",
    "k=set(list(X1_train_input.columns))\n",
    "k.difference(set(list(df_mix_890_trans.columns)))\n",
    "#.di list(X1_train_input.columns)"
   ]
  },
  {
   "cell_type": "code",
   "execution_count": null,
   "metadata": {
    "collapsed": false
   },
   "outputs": [],
   "source": [
    "print df_mix_890_trans.shape\n",
    "print df_mix_800_trans.shape\n",
    "print df_mix_850_trans.shape\n",
    "print df_mix_875_trans.shape"
   ]
  },
  {
   "cell_type": "code",
   "execution_count": null,
   "metadata": {
    "collapsed": false
   },
   "outputs": [],
   "source": [
    "print classification_report(Y_800.values,m1_2.predict(df_mix_800_trans.values))\n",
    "print accuracy_score(Y_800.values,m1_2.predict(df_mix_800_trans.values))\n",
    "\n",
    "cm=confusion_matrix(Y_800.values, m1_2.predict(df_mix_800_trans.values))\n",
    "plt.matshow(cm)\n",
    "plt.title('STG8 - 100%')\n",
    "plt.colorbar()"
   ]
  },
  {
   "cell_type": "code",
   "execution_count": null,
   "metadata": {
    "collapsed": false
   },
   "outputs": [],
   "source": [
    "print classification_report(Y_890.values,m1_2.predict(df_mix_890_trans.values))\n",
    "print accuracy_score(Y_890.values,m1_2.predict(df_mix_890_trans.values))\n",
    "\n",
    "cm=confusion_matrix(Y_890.values, m1_2.predict(df_mix_890_trans.values))\n",
    "\n",
    "print(cm)\n",
    "\n",
    "plt.matshow(cm)\n",
    "plt.title('STG8 - 90% / CSF - 10%')\n",
    "plt.colorbar()"
   ]
  },
  {
   "cell_type": "code",
   "execution_count": null,
   "metadata": {
    "collapsed": false
   },
   "outputs": [],
   "source": [
    "print classification_report(Y_875.values,m1_2.predict(df_mix_875_trans.values))\n",
    "print accuracy_score(Y_875.values,m1_2.predict(df_mix_875_trans.values))\n",
    "\n",
    "cm=confusion_matrix(Y_875.values, m1_2.predict(df_mix_875_trans.values))\n",
    "\n",
    "print(cm)\n",
    "\n",
    "plt.matshow(cm)\n",
    "plt.title('STG8 - 75% / CSF - 25%')\n",
    "plt.colorbar()"
   ]
  },
  {
   "cell_type": "code",
   "execution_count": null,
   "metadata": {
    "collapsed": false
   },
   "outputs": [],
   "source": [
    "print classification_report(Y_850.values,m1_2.predict(df_mix_850_trans.values))\n",
    "print accuracy_score(Y_850.values,m1_2.predict(df_mix_850_trans.values))\n",
    "\n",
    "cm=confusion_matrix(Y_850.values, m1_2.predict(df_mix_850_trans.values))\n",
    "\n",
    "print(cm)\n",
    "\n",
    "plt.matshow(cm)\n",
    "plt.title('STG8 - 50% / CSF - 50%')\n",
    "plt.colorbar()"
   ]
  },
  {
   "cell_type": "markdown",
   "metadata": {},
   "source": [
    "Evaluating **feature performance**:    \n",
    "\n",
    "**1. Scikit**     \n",
    "* We already removed low variance features (see: above). Now, let's try **univariate feature selection methods**. As input, we will only use the dataset with the near zero variance features removed. This test looks at every feature and the target labels and estimates whether a particular variable is in fact different between target classes.\n"
   ]
  },
  {
   "cell_type": "code",
   "execution_count": null,
   "metadata": {
    "collapsed": false
   },
   "outputs": [],
   "source": [
    "np.shape(sklearn.feature_selection.univariate_selection.f_classif(X1_train,Y1_train)[1])"
   ]
  },
  {
   "cell_type": "code",
   "execution_count": null,
   "metadata": {
    "collapsed": false
   },
   "outputs": [],
   "source": [
    "np.shape(sklearn.feature_selection.univariate_selection.f_classif(X2_train,Y2_train)[1])"
   ]
  },
  {
   "cell_type": "code",
   "execution_count": null,
   "metadata": {
    "collapsed": false,
    "scrolled": true
   },
   "outputs": [],
   "source": [
    "sklearn.feature_selection.univariate_selection.f_classif(X1_train,Y1_train)[1]"
   ]
  },
  {
   "cell_type": "code",
   "execution_count": null,
   "metadata": {
    "collapsed": false,
    "scrolled": true
   },
   "outputs": [],
   "source": [
    "sklearn.feature_selection.univariate_selection.f_classif(X2_train,Y2_train)[1]"
   ]
  },
  {
   "cell_type": "markdown",
   "metadata": {},
   "source": [
    "Sorting: "
   ]
  },
  {
   "cell_type": "code",
   "execution_count": null,
   "metadata": {
    "collapsed": false
   },
   "outputs": [],
   "source": [
    "a1=np.array(sklearn.feature_selection.univariate_selection.f_classif(X1_train,Y1_train)[1])\n",
    "b1=np.array(CSF_STG8_no_Y_transformed.columns.tolist())\n",
    "idx1=a1.argsort()\n",
    "b1_sorted=b1[idx1]\n",
    "a1_sorted=a1[idx1]"
   ]
  },
  {
   "cell_type": "code",
   "execution_count": null,
   "metadata": {
    "collapsed": false
   },
   "outputs": [],
   "source": [
    "a2=np.array(sklearn.feature_selection.univariate_selection.f_classif(X2_train,Y2_train)[1])\n",
    "b2=np.array(CSF_STG8_no_Y_transf_nzv.columns.tolist())\n",
    "idx2=a2.argsort()\n",
    "b2_sorted=b2[idx2]\n",
    "a2_sorted=a2[idx2]"
   ]
  },
  {
   "cell_type": "code",
   "execution_count": null,
   "metadata": {
    "collapsed": false,
    "scrolled": true
   },
   "outputs": [],
   "source": [
    "zip(b1_sorted,a1_sorted)"
   ]
  },
  {
   "cell_type": "code",
   "execution_count": null,
   "metadata": {
    "collapsed": false
   },
   "outputs": [],
   "source": [
    "zip(b2_sorted,a2_sorted)"
   ]
  },
  {
   "cell_type": "code",
   "execution_count": null,
   "metadata": {
    "collapsed": false
   },
   "outputs": [],
   "source": [
    "my_file = open('../Data/mixing_1_no_DNA_univariate.tsv','w')\n",
    "\n",
    "idx=1\n",
    "for name, p_val in zip(b1_sorted,a1_sorted):\n",
    "    if re.match('.*DNA.*',name) != None:\n",
    "        my_file.write(str(idx) + '\\tDNA\\t' + str(re.match('.*DNA.*',name).group(0)) + '\\t'+ str(p_val) + '\\n')\n",
    "    elif re.match('.*chromatin.*',name, flags=re.IGNORECASE) != None:\n",
    "        my_file.write(str(idx)+ '\\tchromatin\\t'+ str(re.match('.*chromatin.*',name, flags=re.IGNORECASE).group(0)) + '\\t' + str(p_val)+'\\n')\n",
    "    else: \n",
    "        my_file.write(str(idx) + '\\tOTHER\\t' + str(name) + '\\t' + str(p_val) +'\\n')\n",
    "    idx+=1\n",
    "    \n",
    "my_file.close()"
   ]
  },
  {
   "cell_type": "code",
   "execution_count": null,
   "metadata": {
    "collapsed": true
   },
   "outputs": [],
   "source": [
    "%R -i df_mix"
   ]
  },
  {
   "cell_type": "code",
   "execution_count": null,
   "metadata": {
    "collapsed": false
   },
   "outputs": [],
   "source": [
    "%%R\n",
    "print(dim(CSF_STG8[CSF_STG8$Metadata_Type=='CSF',]))\n",
    "dim(CSF_STG8[CSF_STG8$Metadata_Type=='STG',])"
   ]
  },
  {
   "cell_type": "code",
   "execution_count": null,
   "metadata": {
    "collapsed": false
   },
   "outputs": [],
   "source": [
    "%%R\n",
    "print(summary(CSF_STG8[(CSF_STG8$Metadata_Type=='CSF'),'Mean_FilteredChromatin_Intensity_MaxIntensityEdge_DNA']))\n",
    "IQR=summary(CSF_STG8[(CSF_STG8$Metadata_Type=='CSF'),'Mean_FilteredChromatin_Intensity_MaxIntensityEdge_DNA'])[[5]]-summary(CSF_STG8[(CSF_STG8$Metadata_Type=='CSF'),'Mean_FilteredChromatin_Intensity_MaxIntensityEdge_DNA'])[[2]]\n",
    "IQR"
   ]
  },
  {
   "cell_type": "code",
   "execution_count": null,
   "metadata": {
    "collapsed": false,
    "scrolled": false
   },
   "outputs": [],
   "source": [
    "%%R\n",
    "print(summary(CSF_STG8[(CSF_STG8$Metadata_Type=='CSF'),'Mean_FilteredChromatin_Intensity_MaxIntensityEdge_DNA']))\n",
    "IQR=summary(CSF_STG8[(CSF_STG8$Metadata_Type=='CSF'),'Mean_FilteredChromatin_Intensity_MaxIntensityEdge_DNA'])[[5]]-summary(CSF_STG8[(CSF_STG8$Metadata_Type=='CSF'),'Mean_FilteredChromatin_Intensity_MaxIntensityEdge_DNA'])[[2]]\n",
    "IQR.lim=1.5*IQR\n",
    "print(IQR.lim)\n",
    "\n",
    "plot=ggplot()\n",
    "df_mix$Metadata_Treatment=factor(df_mix$Metadata_Treatment)\n",
    "factor_order=c(800, 890, 875, 850)\n",
    "\n",
    "#plot=plot+geom_violin(data=CSF_STG8[CSF_STG8$Metadata_Type=='STG',], aes(x=factor(Metadata_Type),y=Mean_FilteredChromatin_Intensity_MaxIntensityEdge_DNA))\n",
    "plot = plot+geom_violin(data=df_mix,aes(x=Metadata_Treatment,y=Mean_FilteredChromatin_Intensity_MaxIntensityEdge_DNA,fill=factor(Metadata_Treatment)))\n",
    "plot = plot + scale_x_discrete(\"Metadata_Treatment\", labels = c(\"800\"=\"800\",\"890\"=\"890\",\"875\"=\"875\",\"850\"=\"850\",\"CSF\"=\"CSF\"),limit=c(\"800\", \"890\", \"875\", \"850\", \"CSF\"))\n",
    "#plot=plot+geom_violin(data=df_mix[df_mix$Metadata_Treatment==800,],aes(x=factor(Metadata_Treatment),y=Mean_FilteredChromatin_Intensity_MaxIntensityEdge_DNA))\n",
    "#plot=plot+geom_violin(data=df_mix[df_mix$Metadata_Treatment==890,],aes(x=factor(Metadata_Treatment),y=Mean_FilteredChromatin_Intensity_MaxIntensityEdge_DNA))\n",
    "#plot=plot+geom_violin(data=df_mix[df_mix$Metadata_Treatment==875,],aes(x=factor(Metadata_Treatment),y=Mean_FilteredChromatin_Intensity_MaxIntensityEdge_DNA))\n",
    "#plot=plot+geom_violin(data=df_mix[df_mix$Metadata_Treatment==850,],aes(x=factor(Metadata_Treatment),y=Mean_FilteredChromatin_Intensity_MaxIntensityEdge_DNA))\n",
    "\n",
    "plot=plot+geom_violin(data=CSF_STG8[(CSF_STG8$Metadata_Type=='CSF') & (CSF_STG8$Mean_FilteredChromatin_Intensity_MaxIntensityEdge_DNA<0.06),], aes(x=factor(Metadata_Type),y=Mean_FilteredChromatin_Intensity_MaxIntensityEdge_DNA,fill=factor(Metadata_Type)))\n",
    "plot=plot+scale_fill_manual(values=c('#E30D16','#C6252B','#9F4448', '#815C5D','#21AAA3'))\n",
    "#class(df_mix$Metadata_Treatment)\n",
    "plot"
   ]
  },
  {
   "cell_type": "code",
   "execution_count": null,
   "metadata": {
    "collapsed": false,
    "scrolled": true
   },
   "outputs": [],
   "source": [
    "%%R\n",
    "plot=ggplot()\n",
    "df_mix$Metadata_Treatment=factor(df_mix$Metadata_Treatment)\n",
    "factor_order=c(800, 890, 875, 850)\n",
    "\n",
    "#plot=plot+geom_violin(data=CSF_STG8[CSF_STG8$Metadata_Type=='STG',], aes(x=factor(Metadata_Type),y=Mean_FilteredChromatin_Intensity_MaxIntensityEdge_DNA))\n",
    "plot = plot+geom_violin(data=df_mix,aes(x=Metadata_Treatment,y=Intensity_MeanIntensityEdge_DNA,fill=factor(Metadata_Treatment)))\n",
    "plot = plot + scale_x_discrete(\"Metadata_Treatment\", labels = c(\"800\"=\"800\",\"890\"=\"890\",\"875\"=\"875\",\"850\"=\"850\",\"CSF\"=\"CSF\"),limit=c(\"800\", \"890\", \"875\", \"850\", \"CSF\"))\n",
    "#plot=plot+geom_violin(data=df_mix[df_mix$Metadata_Treatment==800,],aes(x=factor(Metadata_Treatment),y=Mean_FilteredChromatin_Intensity_MaxIntensityEdge_DNA))\n",
    "#plot=plot+geom_violin(data=df_mix[df_mix$Metadata_Treatment==890,],aes(x=factor(Metadata_Treatment),y=Mean_FilteredChromatin_Intensity_MaxIntensityEdge_DNA))\n",
    "#plot=plot+geom_violin(data=df_mix[df_mix$Metadata_Treatment==875,],aes(x=factor(Metadata_Treatment),y=Mean_FilteredChromatin_Intensity_MaxIntensityEdge_DNA))\n",
    "#plot=plot+geom_violin(data=df_mix[df_mix$Metadata_Treatment==850,],aes(x=factor(Metadata_Treatment),y=Mean_FilteredChromatin_Intensity_MaxIntensityEdge_DNA))\n",
    "\n",
    "plot=plot+geom_violin(data=CSF_STG8[(CSF_STG8$Metadata_Type=='CSF'),], aes(x=factor(Metadata_Type),y=Intensity_MeanIntensityEdge_DNA,fill=factor(Metadata_Type)))\n",
    "plot=plot+scale_fill_manual(values=c('#E30D16','#C6252B','#9F4448', '#815C5D','#21AAA3'))\n",
    "#class(df_mix$Metadata_Treatment)\n",
    "plot"
   ]
  },
  {
   "cell_type": "code",
   "execution_count": null,
   "metadata": {
    "collapsed": false
   },
   "outputs": [],
   "source": [
    "%%R\n",
    "plot=ggplot()\n",
    "df_mix$Metadata_Treatment=factor(df_mix$Metadata_Treatment)\n",
    "factor_order=c(800, 890, 875, 850)\n",
    "\n",
    "#plot=plot+geom_violin(data=CSF_STG8[CSF_STG8$Metadata_Type=='STG',], aes(x=factor(Metadata_Type),y=Mean_FilteredChromatin_Intensity_MaxIntensityEdge_DNA))\n",
    "plot = plot+geom_violin(data=df_mix,aes(x=Metadata_Treatment,y=Intensity_MeanIntensity_DNA,fill=factor(Metadata_Treatment)))\n",
    "plot = plot + scale_x_discrete(\"Metadata_Treatment\", labels = c(\"800\"=\"800\",\"890\"=\"890\",\"875\"=\"875\",\"850\"=\"850\",\"CSF\"=\"CSF\"),limit=c(\"800\", \"890\", \"875\", \"850\", \"CSF\"))\n",
    "#plot=plot+geom_violin(data=df_mix[df_mix$Metadata_Treatment==800,],aes(x=factor(Metadata_Treatment),y=Mean_FilteredChromatin_Intensity_MaxIntensityEdge_DNA))\n",
    "#plot=plot+geom_violin(data=df_mix[df_mix$Metadata_Treatment==890,],aes(x=factor(Metadata_Treatment),y=Mean_FilteredChromatin_Intensity_MaxIntensityEdge_DNA))\n",
    "#plot=plot+geom_violin(data=df_mix[df_mix$Metadata_Treatment==875,],aes(x=factor(Metadata_Treatment),y=Mean_FilteredChromatin_Intensity_MaxIntensityEdge_DNA))\n",
    "#plot=plot+geom_violin(data=df_mix[df_mix$Metadata_Treatment==850,],aes(x=factor(Metadata_Treatment),y=Mean_FilteredChromatin_Intensity_MaxIntensityEdge_DNA))\n",
    "\n",
    "plot=plot+geom_violin(data=CSF_STG8[(CSF_STG8$Metadata_Type=='CSF'),], aes(x=factor(Metadata_Type),y=Intensity_MeanIntensity_DNA,fill=factor(Metadata_Type)))\n",
    "plot=plot+scale_fill_manual(values=c('#E30D16','#C6252B','#9F4448', '#815C5D','#21AAA3'))\n",
    "#class(df_mix$Metadata_Treatment)\n",
    "plot"
   ]
  },
  {
   "cell_type": "code",
   "execution_count": null,
   "metadata": {
    "collapsed": false
   },
   "outputs": [],
   "source": [
    "%%R\n",
    "plot=ggplot()\n",
    "df_mix$Metadata_Treatment=factor(df_mix$Metadata_Treatment)\n",
    "factor_order=c(800, 890, 875, 850)\n",
    "\n",
    "#plot=plot+geom_violin(data=CSF_STG8[CSF_STG8$Metadata_Type=='STG',], aes(x=factor(Metadata_Type),y=Mean_FilteredChromatin_Intensity_MaxIntensityEdge_DNA))\n",
    "plot = plot+geom_violin(data=df_mix,aes(x=Metadata_Treatment,y=Intensity_MedianIntensity_DNA,fill=factor(Metadata_Treatment)))\n",
    "plot = plot + scale_x_discrete(\"Metadata_Treatment\", labels = c(\"800\"=\"800\",\"890\"=\"890\",\"875\"=\"875\",\"850\"=\"850\",\"CSF\"=\"CSF\"),limit=c(\"800\", \"890\", \"875\", \"850\", \"CSF\"))\n",
    "#plot=plot+geom_violin(data=df_mix[df_mix$Metadata_Treatment==800,],aes(x=factor(Metadata_Treatment),y=Mean_FilteredChromatin_Intensity_MaxIntensityEdge_DNA))\n",
    "#plot=plot+geom_violin(data=df_mix[df_mix$Metadata_Treatment==890,],aes(x=factor(Metadata_Treatment),y=Mean_FilteredChromatin_Intensity_MaxIntensityEdge_DNA))\n",
    "#plot=plot+geom_violin(data=df_mix[df_mix$Metadata_Treatment==875,],aes(x=factor(Metadata_Treatment),y=Mean_FilteredChromatin_Intensity_MaxIntensityEdge_DNA))\n",
    "#plot=plot+geom_violin(data=df_mix[df_mix$Metadata_Treatment==850,],aes(x=factor(Metadata_Treatment),y=Mean_FilteredChromatin_Intensity_MaxIntensityEdge_DNA))\n",
    "\n",
    "plot=plot+geom_violin(data=CSF_STG8[(CSF_STG8$Metadata_Type=='CSF'),], aes(x=factor(Metadata_Type),y=Intensity_MedianIntensity_DNA,fill=factor(Metadata_Type)))\n",
    "plot=plot+scale_fill_manual(values=c('#E30D16','#C6252B','#9F4448', '#815C5D','#21AAA3'))\n",
    "#class(df_mix$Metadata_Treatment)\n",
    "plot"
   ]
  },
  {
   "cell_type": "code",
   "execution_count": null,
   "metadata": {
    "collapsed": false
   },
   "outputs": [],
   "source": [
    "%%R\n",
    "plot=ggplot()\n",
    "df_mix$Metadata_Treatment=factor(df_mix$Metadata_Treatment)\n",
    "factor_order=c(800, 890, 875, 850)\n",
    "\n",
    "#plot=plot+geom_violin(data=CSF_STG8[CSF_STG8$Metadata_Type=='STG',], aes(x=factor(Metadata_Type),y=Mean_FilteredChromatin_Intensity_MaxIntensityEdge_DNA))\n",
    "plot = plot+geom_violin(data=df_mix,aes(x=Metadata_Treatment,y=Mean_FilteredChromatin_AreaShape_MaxFeretDiameter,fill=factor(Metadata_Treatment)))\n",
    "plot = plot + scale_x_discrete(\"Metadata_Treatment\", labels = c(\"800\"=\"800\",\"890\"=\"890\",\"875\"=\"875\",\"850\"=\"850\",\"CSF\"=\"CSF\"),limit=c(\"800\", \"890\", \"875\", \"850\", \"CSF\"))\n",
    "#plot=plot+geom_violin(data=df_mix[df_mix$Metadata_Treatment==800,],aes(x=factor(Metadata_Treatment),y=Mean_FilteredChromatin_Intensity_MaxIntensityEdge_DNA))\n",
    "#plot=plot+geom_violin(data=df_mix[df_mix$Metadata_Treatment==890,],aes(x=factor(Metadata_Treatment),y=Mean_FilteredChromatin_Intensity_MaxIntensityEdge_DNA))\n",
    "#plot=plot+geom_violin(data=df_mix[df_mix$Metadata_Treatment==875,],aes(x=factor(Metadata_Treatment),y=Mean_FilteredChromatin_Intensity_MaxIntensityEdge_DNA))\n",
    "#plot=plot+geom_violin(data=df_mix[df_mix$Metadata_Treatment==850,],aes(x=factor(Metadata_Treatment),y=Mean_FilteredChromatin_Intensity_MaxIntensityEdge_DNA))\n",
    "\n",
    "plot=plot+geom_violin(data=CSF_STG8[(CSF_STG8$Metadata_Type=='CSF'),], aes(x=factor(Metadata_Type),y=Mean_FilteredChromatin_AreaShape_MaxFeretDiameter,fill=factor(Metadata_Type)))\n",
    "plot=plot+scale_fill_manual(values=c('#E30D16','#C6252B','#9F4448', '#815C5D','#21AAA3'))\n",
    "#class(df_mix$Metadata_Treatment)\n",
    "plot"
   ]
  },
  {
   "cell_type": "code",
   "execution_count": null,
   "metadata": {
    "collapsed": false
   },
   "outputs": [],
   "source": [
    "%%R\n",
    "plot=ggplot()\n",
    "df_mix$Metadata_Treatment=factor(df_mix$Metadata_Treatment)\n",
    "factor_order=c(800, 890, 875, 850)\n",
    "\n",
    "#plot=plot+geom_violin(data=CSF_STG8[CSF_STG8$Metadata_Type=='STG',], aes(x=factor(Metadata_Type),y=Mean_FilteredChromatin_Intensity_MaxIntensityEdge_DNA))\n",
    "plot = plot+geom_violin(data=df_mix,aes(x=Metadata_Treatment,y=Mean_FilteredChromatin_AreaShape_Area,fill=factor(Metadata_Treatment)))\n",
    "plot = plot + scale_x_discrete(\"Metadata_Treatment\", labels = c(\"800\"=\"800\",\"890\"=\"890\",\"875\"=\"875\",\"850\"=\"850\",\"CSF\"=\"CSF\"),limit=c(\"800\", \"890\", \"875\", \"850\", \"CSF\"))\n",
    "#plot=plot+geom_violin(data=df_mix[df_mix$Metadata_Treatment==800,],aes(x=factor(Metadata_Treatment),y=Mean_FilteredChromatin_Intensity_MaxIntensityEdge_DNA))\n",
    "#plot=plot+geom_violin(data=df_mix[df_mix$Metadata_Treatment==890,],aes(x=factor(Metadata_Treatment),y=Mean_FilteredChromatin_Intensity_MaxIntensityEdge_DNA))\n",
    "#plot=plot+geom_violin(data=df_mix[df_mix$Metadata_Treatment==875,],aes(x=factor(Metadata_Treatment),y=Mean_FilteredChromatin_Intensity_MaxIntensityEdge_DNA))\n",
    "#plot=plot+geom_violin(data=df_mix[df_mix$Metadata_Treatment==850,],aes(x=factor(Metadata_Treatment),y=Mean_FilteredChromatin_Intensity_MaxIntensityEdge_DNA))\n",
    "\n",
    "plot=plot+geom_violin(data=CSF_STG8[(CSF_STG8$Metadata_Type=='CSF'),], aes(x=factor(Metadata_Type),y=Mean_FilteredChromatin_AreaShape_Area,fill=factor(Metadata_Type)))\n",
    "plot=plot+scale_fill_manual(values=c('#E30D16','#C6252B','#9F4448', '#815C5D','#21AAA3'))\n",
    "#class(df_mix$Metadata_Treatment)\n",
    "plot"
   ]
  },
  {
   "cell_type": "markdown",
   "metadata": {},
   "source": [
    "This one probably means that if we take all the tiny chromatn speckles. On average they will have smaller area than one big blob of the CSF."
   ]
  },
  {
   "cell_type": "code",
   "execution_count": null,
   "metadata": {
    "collapsed": true
   },
   "outputs": [],
   "source": []
  },
  {
   "cell_type": "markdown",
   "metadata": {},
   "source": [
    "The first 34 features relate to DNA (intensity) and chromatin (shape and metric). The first 'different' feature is **Solidity** (position 35), **median, mean, maximum radius** (37, 42, 48), **form factor** (46), **area** (53, 54). **Length** is 64, 65. **Width** is 77, 78. **Total MT** signal is 76. Aspect ratio is only 118. Eccentricity is 112."
   ]
  },
  {
   "cell_type": "markdown",
   "metadata": {},
   "source": [
    "If you look at this original analysis, you can see that the best predictors relate to DNA and chromatin. Only around the position 45, features such as form factor or solidity tend to come up. Area is ~65. Width and length are in the middle of the pack (~75). Eccentricity is only ~133."
   ]
  },
  {
   "cell_type": "code",
   "execution_count": null,
   "metadata": {
    "collapsed": false
   },
   "outputs": [],
   "source": [
    "idx=1\n",
    "for name, p_val in zip(b2_sorted,a2_sorted):\n",
    "    if re.match('.*DNA.*',name) != None:\n",
    "        print idx, 'DNA\\t', re.match('.*DNA.*',name).group(0), '\\t', p_val\n",
    "    elif re.match('.*chromatin.*',name, flags=re.IGNORECASE) != None:\n",
    "        print idx, 'chromatin\\t', re.match('.*chromatin.*',name, flags=re.IGNORECASE).group(0), '\\t', p_val\n",
    "    else: \n",
    "        print idx, 'OTHER\\t', name, '\\t', p_val\n",
    "    idx+=1"
   ]
  },
  {
   "cell_type": "markdown",
   "metadata": {
    "collapsed": true
   },
   "source": [
    "The analysis above gives the full list with ranking. Let's try to select. "
   ]
  },
  {
   "cell_type": "code",
   "execution_count": null,
   "metadata": {
    "collapsed": false
   },
   "outputs": [],
   "source": [
    "from sklearn.feature_selection import f_classif\n",
    "from sklearn.feature_selection import SelectFwe"
   ]
  },
  {
   "cell_type": "code",
   "execution_count": null,
   "metadata": {
    "collapsed": false
   },
   "outputs": [],
   "source": [
    "X_new_SelectFwe=SelectFwe(X_new)"
   ]
  },
  {
   "cell_type": "code",
   "execution_count": null,
   "metadata": {
    "collapsed": false
   },
   "outputs": [],
   "source": [
    "X_new_SelectFwe"
   ]
  },
  {
   "cell_type": "code",
   "execution_count": null,
   "metadata": {
    "collapsed": false
   },
   "outputs": [],
   "source": [
    "max(df_mix.Parent_Spindles), max(df_mix.ObjectNumber)"
   ]
  },
  {
   "cell_type": "code",
   "execution_count": null,
   "metadata": {
    "collapsed": false
   },
   "outputs": [],
   "source": [
    "np.all(np.equal(df_mix.ObjectNumber,df_mix.Number_Object_Number))\n",
    "#df_mix.ObjectNumber==df_mix.Number_Object_Number"
   ]
  },
  {
   "cell_type": "code",
   "execution_count": null,
   "metadata": {
    "collapsed": true
   },
   "outputs": [],
   "source": []
  }
 ],
 "metadata": {
  "kernelspec": {
   "display_name": "Python 2",
   "language": "python",
   "name": "python2"
  },
  "language_info": {
   "codemirror_mode": {
    "name": "ipython",
    "version": 2
   },
   "file_extension": ".py",
   "mimetype": "text/x-python",
   "name": "python",
   "nbconvert_exporter": "python",
   "pygments_lexer": "ipython2",
   "version": "2.7.9"
  }
 },
 "nbformat": 4,
 "nbformat_minor": 0
}
