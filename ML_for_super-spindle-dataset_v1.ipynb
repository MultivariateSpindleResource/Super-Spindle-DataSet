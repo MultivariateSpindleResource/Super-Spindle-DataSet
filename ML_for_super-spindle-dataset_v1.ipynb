{
 "cells": [
  {
   "cell_type": "markdown",
   "metadata": {},
   "source": [
    "# MVP: skips NA'"
   ]
  },
  {
   "cell_type": "markdown",
   "metadata": {},
   "source": [
    "The above will be fixed in iteration 2."
   ]
  },
  {
   "cell_type": "markdown",
   "metadata": {},
   "source": [
    "## Q. Can we predict the CSF and CYC spindles?"
   ]
  },
  {
   "cell_type": "markdown",
   "metadata": {},
   "source": [
    "This is where the data lives (correct to an online link):"
   ]
  },
  {
   "cell_type": "code",
   "execution_count": 1,
   "metadata": {
    "collapsed": false
   },
   "outputs": [
    {
     "name": "stdout",
     "output_type": "stream",
     "text": [
      "DefaultDB.db                 MyExpt_FilteredSpindles.csv\r\n",
      "DefaultDB_MyExpt.properties  MyExpt_Image.csv\r\n",
      "MyExpt_Chromatin.csv         MyExpt_PreSpindles.csv\r\n",
      "MyExpt_Experiment.csv        MyExpt_Spindles.csv\r\n",
      "MyExpt_FilteredChromatin.csv\r\n"
     ]
    }
   ],
   "source": [
    "!ls /Volumes/Magdalena_NEW1/A_SPINDLE_ML_PROJECT/AWG_TORRENT/A_PAPER2_PIPELINE/Complete\\ Dataset/Dataset"
   ]
  },
  {
   "cell_type": "code",
   "execution_count": 2,
   "metadata": {
    "collapsed": false
   },
   "outputs": [
    {
     "name": "stdout",
     "output_type": "stream",
     "text": [
      "/Volumes/Seagate_RED/A_Heald_Lab/A_My_papers/A_TECH_PAPER/Super-Spindle-DataSet\r\n"
     ]
    }
   ],
   "source": [
    "!pwd"
   ]
  },
  {
   "cell_type": "markdown",
   "metadata": {},
   "source": [
    "Import necessary modules"
   ]
  },
  {
   "cell_type": "code",
   "execution_count": 3,
   "metadata": {
    "collapsed": false
   },
   "outputs": [],
   "source": [
    "import pandas as pd\n",
    "import numpy as np\n",
    "import matplotlib.pyplot as plt\n",
    "pd.set_option('display.mpl_style','default')\n",
    "%matplotlib inline\n",
    "\n",
    "import re"
   ]
  },
  {
   "cell_type": "markdown",
   "metadata": {},
   "source": [
    "List versions"
   ]
  },
  {
   "cell_type": "code",
   "execution_count": 4,
   "metadata": {
    "collapsed": false
   },
   "outputs": [
    {
     "name": "stdout",
     "output_type": "stream",
     "text": [
      "pandas:  0.15.1\n",
      "numpy:  1.9.1\n"
     ]
    }
   ],
   "source": [
    "print 'pandas: ',pd.__version__\n",
    "print 'numpy: ', np.__version__\n"
   ]
  },
  {
   "cell_type": "code",
   "execution_count": 5,
   "metadata": {
    "collapsed": false
   },
   "outputs": [],
   "source": [
    "df1=pd.read_csv('/Volumes/Magdalena_NEW1/A_SPINDLE_ML_PROJECT/AWG_TORRENT/A_PAPER2_PIPELINE/m')"
   ]
  },
  {
   "cell_type": "code",
   "execution_count": 6,
   "metadata": {
    "collapsed": false
   },
   "outputs": [
    {
     "name": "stdout",
     "output_type": "stream",
     "text": [
      "<class 'pandas.core.frame.DataFrame'>\n",
      "Int64Index: 24321 entries, 0 to 24320\n",
      "Columns: 203 entries, ImageNumber to Parent_Spindles\n",
      "dtypes: float64(189), int64(10), object(4)\n",
      "memory usage: 37.9+ MB\n"
     ]
    }
   ],
   "source": [
    "df1.info()"
   ]
  },
  {
   "cell_type": "code",
   "execution_count": 7,
   "metadata": {
    "collapsed": false
   },
   "outputs": [
    {
     "data": {
      "text/html": [
       "<div style=\"max-height:1000px;max-width:1500px;overflow:auto;\">\n",
       "<table border=\"1\" class=\"dataframe\">\n",
       "  <thead>\n",
       "    <tr style=\"text-align: right;\">\n",
       "      <th></th>\n",
       "      <th>ImageNumber</th>\n",
       "      <th>ObjectNumber</th>\n",
       "      <th>Metadata_Experiment</th>\n",
       "      <th>Metadata_Experimenter</th>\n",
       "      <th>Metadata_FileLocation</th>\n",
       "      <th>Metadata_Frame</th>\n",
       "      <th>Metadata_Series</th>\n",
       "      <th>Metadata_Set</th>\n",
       "      <th>Metadata_Treatment</th>\n",
       "      <th>Metadata_Type</th>\n",
       "      <th>...</th>\n",
       "      <th>Mean_FilteredChromatin_Location_CenterMassIntensity_Y_Rhodamine</th>\n",
       "      <th>Mean_FilteredChromatin_Location_Center_X</th>\n",
       "      <th>Mean_FilteredChromatin_Location_Center_Y</th>\n",
       "      <th>Mean_FilteredChromatin_Location_MaxIntensity_X_DNA</th>\n",
       "      <th>Mean_FilteredChromatin_Location_MaxIntensity_X_Rhodamine</th>\n",
       "      <th>Mean_FilteredChromatin_Location_MaxIntensity_Y_DNA</th>\n",
       "      <th>Mean_FilteredChromatin_Location_MaxIntensity_Y_Rhodamine</th>\n",
       "      <th>Mean_FilteredChromatin_Number_Object_Number</th>\n",
       "      <th>Number_Object_Number</th>\n",
       "      <th>Parent_Spindles</th>\n",
       "    </tr>\n",
       "  </thead>\n",
       "  <tbody>\n",
       "    <tr>\n",
       "      <th>0</th>\n",
       "      <td> 1</td>\n",
       "      <td> 1</td>\n",
       "      <td> Exp00</td>\n",
       "      <td> AWG</td>\n",
       "      <td>NaN</td>\n",
       "      <td> 0</td>\n",
       "      <td> 0</td>\n",
       "      <td> stage10.5A_40x_second scope</td>\n",
       "      <td> 105</td>\n",
       "      <td> STG</td>\n",
       "      <td>...</td>\n",
       "      <td> 532.677614</td>\n",
       "      <td> 737.334284</td>\n",
       "      <td> 533.278871</td>\n",
       "      <td> 732</td>\n",
       "      <td> 764</td>\n",
       "      <td> 542</td>\n",
       "      <td> 535</td>\n",
       "      <td> 1</td>\n",
       "      <td> 1</td>\n",
       "      <td> 1</td>\n",
       "    </tr>\n",
       "  </tbody>\n",
       "</table>\n",
       "<p>1 rows × 203 columns</p>\n",
       "</div>"
      ],
      "text/plain": [
       "   ImageNumber  ObjectNumber Metadata_Experiment Metadata_Experimenter  \\\n",
       "0            1             1               Exp00                   AWG   \n",
       "\n",
       "   Metadata_FileLocation  Metadata_Frame  Metadata_Series  \\\n",
       "0                    NaN               0                0   \n",
       "\n",
       "                  Metadata_Set  Metadata_Treatment Metadata_Type  \\\n",
       "0  stage10.5A_40x_second scope                 105           STG   \n",
       "\n",
       "        ...         \\\n",
       "0       ...          \n",
       "\n",
       "   Mean_FilteredChromatin_Location_CenterMassIntensity_Y_Rhodamine  \\\n",
       "0                                         532.677614                 \n",
       "\n",
       "   Mean_FilteredChromatin_Location_Center_X  \\\n",
       "0                                737.334284   \n",
       "\n",
       "   Mean_FilteredChromatin_Location_Center_Y  \\\n",
       "0                                533.278871   \n",
       "\n",
       "   Mean_FilteredChromatin_Location_MaxIntensity_X_DNA  \\\n",
       "0                                                732    \n",
       "\n",
       "   Mean_FilteredChromatin_Location_MaxIntensity_X_Rhodamine  \\\n",
       "0                                                764          \n",
       "\n",
       "   Mean_FilteredChromatin_Location_MaxIntensity_Y_DNA  \\\n",
       "0                                                542    \n",
       "\n",
       "   Mean_FilteredChromatin_Location_MaxIntensity_Y_Rhodamine  \\\n",
       "0                                                535          \n",
       "\n",
       "   Mean_FilteredChromatin_Number_Object_Number  Number_Object_Number  \\\n",
       "0                                            1                     1   \n",
       "\n",
       "   Parent_Spindles  \n",
       "0                1  \n",
       "\n",
       "[1 rows x 203 columns]"
      ]
     },
     "execution_count": 7,
     "metadata": {},
     "output_type": "execute_result"
    }
   ],
   "source": [
    "df1.head(1)"
   ]
  },
  {
   "cell_type": "code",
   "execution_count": 8,
   "metadata": {
    "collapsed": false
   },
   "outputs": [
    {
     "data": {
      "text/plain": [
       "Index([u'ImageNumber', u'ObjectNumber', u'Metadata_Experiment', u'Metadata_Experimenter', u'Metadata_FileLocation', u'Metadata_Frame', u'Metadata_Series', u'Metadata_Set', u'Metadata_Treatment', u'Metadata_Type', u'Metadata_cvsp', u'AreaShape_Area', u'AreaShape_Center_X', u'AreaShape_Center_Y', u'AreaShape_Compactness', u'AreaShape_Eccentricity', u'AreaShape_EulerNumber', u'AreaShape_Extent', u'AreaShape_FormFactor', u'AreaShape_MajorAxisLength', u'AreaShape_MaxFeretDiameter', u'AreaShape_MaximumRadius', u'AreaShape_MeanRadius', u'AreaShape_MedianRadius', u'AreaShape_MinFeretDiameter', u'AreaShape_MinorAxisLength', u'AreaShape_Orientation', u'AreaShape_Perimeter', u'AreaShape_Solidity', u'AreaShape_Zernike_0_0', u'AreaShape_Zernike_1_1', u'AreaShape_Zernike_2_0', u'AreaShape_Zernike_2_2', u'AreaShape_Zernike_3_1', u'AreaShape_Zernike_3_3', u'AreaShape_Zernike_4_0', u'AreaShape_Zernike_4_2', u'AreaShape_Zernike_4_4', u'AreaShape_Zernike_5_1', u'AreaShape_Zernike_5_3', u'AreaShape_Zernike_5_5', u'AreaShape_Zernike_6_0', u'AreaShape_Zernike_6_2', u'AreaShape_Zernike_6_4', u'AreaShape_Zernike_6_6', u'AreaShape_Zernike_7_1', u'AreaShape_Zernike_7_3', u'AreaShape_Zernike_7_5', u'AreaShape_Zernike_7_7', u'AreaShape_Zernike_8_0', u'AreaShape_Zernike_8_2', u'AreaShape_Zernike_8_4', u'AreaShape_Zernike_8_6', u'AreaShape_Zernike_8_8', u'AreaShape_Zernike_9_1', u'AreaShape_Zernike_9_3', u'AreaShape_Zernike_9_5', u'AreaShape_Zernike_9_7', u'AreaShape_Zernike_9_9', u'Children_FilteredChromatin_Count', u'Intensity_IntegratedIntensityEdge_DNA', u'Intensity_IntegratedIntensityEdge_Rhodamine', u'Intensity_IntegratedIntensity_DNA', u'Intensity_IntegratedIntensity_Rhodamine', u'Intensity_LowerQuartileIntensity_DNA', u'Intensity_LowerQuartileIntensity_Rhodamine', u'Intensity_MADIntensity_DNA', u'Intensity_MADIntensity_Rhodamine', u'Intensity_MassDisplacement_DNA', u'Intensity_MassDisplacement_Rhodamine', u'Intensity_MaxIntensityEdge_DNA', u'Intensity_MaxIntensityEdge_Rhodamine', u'Intensity_MaxIntensity_DNA', u'Intensity_MaxIntensity_Rhodamine', u'Intensity_MeanIntensityEdge_DNA', u'Intensity_MeanIntensityEdge_Rhodamine', u'Intensity_MeanIntensity_DNA', u'Intensity_MeanIntensity_Rhodamine', u'Intensity_MedianIntensity_DNA', u'Intensity_MedianIntensity_Rhodamine', u'Intensity_MinIntensityEdge_DNA', u'Intensity_MinIntensityEdge_Rhodamine', u'Intensity_MinIntensity_DNA', u'Intensity_MinIntensity_Rhodamine', u'Intensity_StdIntensityEdge_DNA', u'Intensity_StdIntensityEdge_Rhodamine', u'Intensity_StdIntensity_DNA', u'Intensity_StdIntensity_Rhodamine', u'Intensity_UpperQuartileIntensity_DNA', u'Intensity_UpperQuartileIntensity_Rhodamine', u'Location_CenterMassIntensity_X_DNA', u'Location_CenterMassIntensity_X_Rhodamine', u'Location_CenterMassIntensity_Y_DNA', u'Location_CenterMassIntensity_Y_Rhodamine', u'Location_Center_X', u'Location_Center_Y', u'Location_MaxIntensity_X_DNA', u'Location_MaxIntensity_X_Rhodamine', u'Location_MaxIntensity_Y_DNA', u'Location_MaxIntensity_Y_Rhodamine', ...], dtype='object')"
      ]
     },
     "execution_count": 8,
     "metadata": {},
     "output_type": "execute_result"
    }
   ],
   "source": [
    "df1.columns"
   ]
  },
  {
   "cell_type": "markdown",
   "metadata": {},
   "source": [
    "Data comes from several people. How many?"
   ]
  },
  {
   "cell_type": "code",
   "execution_count": 9,
   "metadata": {
    "collapsed": false
   },
   "outputs": [
    {
     "data": {
      "text/plain": [
       "array(['AWG', 'KHR', 'MAS', 'MEC'], dtype=object)"
      ]
     },
     "execution_count": 9,
     "metadata": {},
     "output_type": "execute_result"
    }
   ],
   "source": [
    "np.unique(df1.Metadata_Experimenter)"
   ]
  },
  {
   "cell_type": "markdown",
   "metadata": {},
   "source": [
    "Data comes from 4 people. What is the individual split?"
   ]
  },
  {
   "cell_type": "code",
   "execution_count": 10,
   "metadata": {
    "collapsed": false
   },
   "outputs": [
    {
     "data": {
      "text/plain": [
       "Metadata_Experimenter\n",
       "AWG                      10260\n",
       "KHR                       8190\n",
       "MAS                       3250\n",
       "MEC                       2621\n",
       "Name: ImageNumber, dtype: int64"
      ]
     },
     "execution_count": 10,
     "metadata": {},
     "output_type": "execute_result"
    }
   ],
   "source": [
    "grouped_by_person=df1.groupby('Metadata_Experimenter')\n",
    "grouped_by_person.count().iloc[:,0]"
   ]
  },
  {
   "cell_type": "markdown",
   "metadata": {},
   "source": [
    "We will need to subsample to predict the person. Which is the column to predict?"
   ]
  },
  {
   "cell_type": "code",
   "execution_count": 11,
   "metadata": {
    "collapsed": false
   },
   "outputs": [
    {
     "data": {
      "text/plain": [
       "array([  0,   1,   2,   3,   4,   5,   6,   8,  80,  84,  86,  87, 105,\n",
       "       130, 131, 150, 160, 171, 200, 201, 203, 205, 302, 349, 420, 501,\n",
       "       503, 505, 512, 800, 850, 875, 890, 895, 899])"
      ]
     },
     "execution_count": 11,
     "metadata": {},
     "output_type": "execute_result"
    }
   ],
   "source": [
    "np.unique(df1.Metadata_Treatment)"
   ]
  },
  {
   "cell_type": "code",
   "execution_count": 12,
   "metadata": {
    "collapsed": false
   },
   "outputs": [
    {
     "data": {
      "text/plain": [
       "array(['BDS', 'CSF', 'CYC', 'STG'], dtype=object)"
      ]
     },
     "execution_count": 12,
     "metadata": {},
     "output_type": "execute_result"
    }
   ],
   "source": [
    "np.unique(df1.Metadata_Type)"
   ]
  },
  {
   "cell_type": "markdown",
   "metadata": {},
   "source": [
    "The first approximation seeks to distinguish CSF from CYC spindles. Chromatin is not used. Again, in this first project attempt, NA's will simmply be dropped. This is not the ultimate way to approach the project. We will use more sophisicated ways to deal with NA's in the subsequent versions."
   ]
  },
  {
   "cell_type": "markdown",
   "metadata": {},
   "source": [
    "Let's grab the metadata and drop everything apart from the target column (Metadata_Type)."
   ]
  },
  {
   "cell_type": "code",
   "execution_count": 13,
   "metadata": {
    "collapsed": false
   },
   "outputs": [],
   "source": [
    "meta_cols=[]\n",
    "for col in df1.columns:\n",
    "    try:\n",
    "        meta_cols.append(re.search('(^Meta.+)',col).group(1))\n",
    "    except AttributeError:\n",
    "        continue"
   ]
  },
  {
   "cell_type": "code",
   "execution_count": 14,
   "metadata": {
    "collapsed": false
   },
   "outputs": [],
   "source": [
    "meta_cols.insert(0,df1.columns[0])"
   ]
  },
  {
   "cell_type": "code",
   "execution_count": 15,
   "metadata": {
    "collapsed": false
   },
   "outputs": [],
   "source": [
    "meta_cols.insert(1,df1.columns[1])"
   ]
  },
  {
   "cell_type": "code",
   "execution_count": 16,
   "metadata": {
    "collapsed": false
   },
   "outputs": [
    {
     "data": {
      "text/plain": [
       "203"
      ]
     },
     "execution_count": 16,
     "metadata": {},
     "output_type": "execute_result"
    }
   ],
   "source": [
    "len(df1.columns)"
   ]
  },
  {
   "cell_type": "code",
   "execution_count": 17,
   "metadata": {
    "collapsed": false
   },
   "outputs": [
    {
     "data": {
      "text/plain": [
       "11"
      ]
     },
     "execution_count": 17,
     "metadata": {},
     "output_type": "execute_result"
    }
   ],
   "source": [
    "len(meta_cols)"
   ]
  },
  {
   "cell_type": "code",
   "execution_count": 18,
   "metadata": {
    "collapsed": false
   },
   "outputs": [
    {
     "data": {
      "text/plain": [
       "Index([u'ImageNumber', u'ObjectNumber', u'Metadata_Experiment', u'Metadata_Experimenter', u'Metadata_FileLocation', u'Metadata_Frame', u'Metadata_Series', u'Metadata_Set', u'Metadata_Treatment', u'Metadata_Type', u'Metadata_cvsp'], dtype='object')"
      ]
     },
     "execution_count": 18,
     "metadata": {},
     "output_type": "execute_result"
    }
   ],
   "source": [
    "df1.columns[0:11]"
   ]
  },
  {
   "cell_type": "markdown",
   "metadata": {},
   "source": [
    "The columns above are Metadata columns that can be used as categories. "
   ]
  },
  {
   "cell_type": "markdown",
   "metadata": {},
   "source": [
    "### Pre-processing"
   ]
  },
  {
   "cell_type": "markdown",
   "metadata": {},
   "source": [
    "#### 1. Missing data "
   ]
  },
  {
   "cell_type": "code",
   "execution_count": 27,
   "metadata": {
    "collapsed": false
   },
   "outputs": [],
   "source": [
    "df1_numericals=df1[list(set(meta_cols).symmetric_difference(df1.columns))]"
   ]
  },
  {
   "cell_type": "code",
   "execution_count": 28,
   "metadata": {
    "collapsed": false
   },
   "outputs": [
    {
     "data": {
      "text/plain": [
       "48642"
      ]
     },
     "execution_count": 28,
     "metadata": {},
     "output_type": "execute_result"
    }
   ],
   "source": [
    "np.sum(np.sum(df1_numericals.isnull()))"
   ]
  },
  {
   "cell_type": "code",
   "execution_count": 29,
   "metadata": {
    "collapsed": false
   },
   "outputs": [
    {
     "data": {
      "text/plain": [
       "0.98522167487684731"
      ]
     },
     "execution_count": 29,
     "metadata": {},
     "output_type": "execute_result"
    }
   ],
   "source": [
    "100*np.sum(np.sum(df1_numericals.isnull()))/(float(df1.shape[0])*df1.shape[1])"
   ]
  },
  {
   "cell_type": "markdown",
   "metadata": {},
   "source": [
    "There are 48642 numerical values missing in the data set (only 0.98% of the complete data set)."
   ]
  },
  {
   "cell_type": "code",
   "execution_count": 22,
   "metadata": {
    "collapsed": false
   },
   "outputs": [],
   "source": [
    "?any()\n"
   ]
  },
  {
   "cell_type": "code",
   "execution_count": 32,
   "metadata": {
    "collapsed": false
   },
   "outputs": [
    {
     "name": "stdout",
     "output_type": "stream",
     "text": [
      "Mean_FilteredChromatin_Distance_Minimum_FilteredSpindles\n",
      "Mean_FilteredChromatin_Distance_Centroid_FilteredSpindles\n"
     ]
    }
   ],
   "source": [
    "for col in df1_numericals.columns:\n",
    "    if any(df1_numericals[col].isnull()):\n",
    "        print col"
   ]
  },
  {
   "cell_type": "code",
   "execution_count": 35,
   "metadata": {
    "collapsed": false
   },
   "outputs": [
    {
     "data": {
      "text/plain": [
       "True"
      ]
     },
     "execution_count": 35,
     "metadata": {},
     "output_type": "execute_result"
    }
   ],
   "source": [
    "all(df1_numericals.Mean_FilteredChromatin_Distance_Minimum_FilteredSpindles.isnull())"
   ]
  },
  {
   "cell_type": "code",
   "execution_count": 36,
   "metadata": {
    "collapsed": false
   },
   "outputs": [
    {
     "data": {
      "text/plain": [
       "True"
      ]
     },
     "execution_count": 36,
     "metadata": {},
     "output_type": "execute_result"
    }
   ],
   "source": [
    "all(df1_numericals.Mean_FilteredChromatin_Distance_Minimum_FilteredSpindles.isnull())"
   ]
  },
  {
   "cell_type": "code",
   "execution_count": 39,
   "metadata": {
    "collapsed": false
   },
   "outputs": [
    {
     "data": {
      "text/plain": [
       "48642"
      ]
     },
     "execution_count": 39,
     "metadata": {},
     "output_type": "execute_result"
    }
   ],
   "source": [
    "np.sum(df1_numericals.Mean_FilteredChromatin_Distance_Minimum_FilteredSpindles.isnull())+np.sum(df1_numericals.Mean_FilteredChromatin_Distance_Minimum_FilteredSpindles.isnull())"
   ]
  },
  {
   "cell_type": "code",
   "execution_count": 41,
   "metadata": {
    "collapsed": false
   },
   "outputs": [],
   "source": [
    "#df1.Mean_FilteredChromatin_Distance_Minimum_FilteredSpindles\n",
    "#df1.Mean_FilteredChromatin_Distance_Centroid_FilteredSpindles"
   ]
  },
  {
   "cell_type": "markdown",
   "metadata": {},
   "source": [
    "Looks like the two columns account for all missinga values. Everything else is simply ready to use."
   ]
  },
  {
   "cell_type": "markdown",
   "metadata": {},
   "source": [
    "####2. Centering and scaling"
   ]
  },
  {
   "cell_type": "code",
   "execution_count": null,
   "metadata": {
    "collapsed": true
   },
   "outputs": [],
   "source": []
  },
  {
   "cell_type": "code",
   "execution_count": null,
   "metadata": {
    "collapsed": true
   },
   "outputs": [],
   "source": []
  },
  {
   "cell_type": "code",
   "execution_count": null,
   "metadata": {
    "collapsed": true
   },
   "outputs": [],
   "source": []
  },
  {
   "cell_type": "code",
   "execution_count": null,
   "metadata": {
    "collapsed": true
   },
   "outputs": [],
   "source": []
  },
  {
   "cell_type": "code",
   "execution_count": null,
   "metadata": {
    "collapsed": true
   },
   "outputs": [],
   "source": []
  },
  {
   "cell_type": "code",
   "execution_count": null,
   "metadata": {
    "collapsed": true
   },
   "outputs": [],
   "source": []
  },
  {
   "cell_type": "code",
   "execution_count": null,
   "metadata": {
    "collapsed": true
   },
   "outputs": [],
   "source": []
  },
  {
   "cell_type": "code",
   "execution_count": null,
   "metadata": {
    "collapsed": true
   },
   "outputs": [],
   "source": []
  },
  {
   "cell_type": "code",
   "execution_count": null,
   "metadata": {
    "collapsed": true
   },
   "outputs": [],
   "source": []
  },
  {
   "cell_type": "code",
   "execution_count": null,
   "metadata": {
    "collapsed": true
   },
   "outputs": [],
   "source": []
  },
  {
   "cell_type": "code",
   "execution_count": null,
   "metadata": {
    "collapsed": true
   },
   "outputs": [],
   "source": []
  },
  {
   "cell_type": "code",
   "execution_count": null,
   "metadata": {
    "collapsed": true
   },
   "outputs": [],
   "source": []
  },
  {
   "cell_type": "code",
   "execution_count": null,
   "metadata": {
    "collapsed": true
   },
   "outputs": [],
   "source": []
  }
 ],
 "metadata": {
  "kernelspec": {
   "display_name": "Python 2",
   "language": "python",
   "name": "python2"
  },
  "language_info": {
   "codemirror_mode": {
    "name": "ipython",
    "version": 2
   },
   "file_extension": ".py",
   "mimetype": "text/x-python",
   "name": "python",
   "nbconvert_exporter": "python",
   "pygments_lexer": "ipython2",
   "version": "2.7.9"
  }
 },
 "nbformat": 4,
 "nbformat_minor": 0
}
