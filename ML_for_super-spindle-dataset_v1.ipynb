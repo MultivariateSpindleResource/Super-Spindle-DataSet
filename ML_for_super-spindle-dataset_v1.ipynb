{
 "metadata": {
  "name": "",
  "signature": "sha256:c9311829bf8e8f78e17462107aef671b1fde58d2c2112fbac173bfe846e98f6c"
 },
 "nbformat": 3,
 "nbformat_minor": 0,
 "worksheets": [
  {
   "cells": [
    {
     "cell_type": "heading",
     "level": 1,
     "metadata": {},
     "source": [
      "MVP: skips NA'"
     ]
    },
    {
     "cell_type": "markdown",
     "metadata": {},
     "source": [
      "The above will be fixed in iteration 2."
     ]
    },
    {
     "cell_type": "heading",
     "level": 2,
     "metadata": {},
     "source": [
      "Q. Can we predict the CSF and CYC spindles?"
     ]
    },
    {
     "cell_type": "markdown",
     "metadata": {},
     "source": [
      "This is where the data lives (correct to an online link):"
     ]
    },
    {
     "cell_type": "code",
     "collapsed": false,
     "input": [
      "!ls /Volumes/Magdalena_NEW1/A_SPINDLE_ML_PROJECT/AWG_TORRENT/A_PAPER2_PIPELINE/Complete\\ Dataset/Dataset"
     ],
     "language": "python",
     "metadata": {},
     "outputs": [
      {
       "output_type": "stream",
       "stream": "stdout",
       "text": [
        "DefaultDB.db                 MyExpt_FilteredSpindles.csv\r\n",
        "DefaultDB_MyExpt.properties  MyExpt_Image.csv\r\n",
        "MyExpt_Chromatin.csv         MyExpt_PreSpindles.csv\r\n",
        "MyExpt_Experiment.csv        MyExpt_Spindles.csv\r\n",
        "MyExpt_FilteredChromatin.csv\r\n"
       ]
      }
     ],
     "prompt_number": 1
    },
    {
     "cell_type": "code",
     "collapsed": false,
     "input": [
      "!pwd"
     ],
     "language": "python",
     "metadata": {},
     "outputs": [
      {
       "output_type": "stream",
       "stream": "stdout",
       "text": [
        "/Volumes/Seagate_RED/A_Heald_Lab/A_My_papers/A_TECH_PAPER\r\n"
       ]
      }
     ],
     "prompt_number": 2
    },
    {
     "cell_type": "markdown",
     "metadata": {},
     "source": [
      "Import necessary modules"
     ]
    },
    {
     "cell_type": "code",
     "collapsed": false,
     "input": [
      "import pandas as pd\n",
      "import numpy as np\n",
      "import matplotlib.pyplot as plt\n",
      "pd.set_option('display.mpl_style','default')\n",
      "%matplotlib inline\n",
      "\n",
      "import re"
     ],
     "language": "python",
     "metadata": {},
     "outputs": [],
     "prompt_number": 77
    },
    {
     "cell_type": "markdown",
     "metadata": {},
     "source": [
      "List versions"
     ]
    },
    {
     "cell_type": "code",
     "collapsed": false,
     "input": [
      "print 'pandas: ',pd.__version__\n",
      "print 'numpy: ', np.__version__\n"
     ],
     "language": "python",
     "metadata": {},
     "outputs": [
      {
       "output_type": "stream",
       "stream": "stdout",
       "text": [
        "pandas:  0.15.1\n",
        "numpy:  1.9.1\n"
       ]
      }
     ],
     "prompt_number": 83
    },
    {
     "cell_type": "code",
     "collapsed": false,
     "input": [
      "df1=pd.read_csv('/Volumes/Magdalena_NEW1/A_SPINDLE_ML_PROJECT/AWG_TORRENT/A_PAPER2_PIPELINE/Complete Dataset/Dataset/MyExpt_FilteredSpindles.csv')"
     ],
     "language": "python",
     "metadata": {},
     "outputs": [],
     "prompt_number": 3
    },
    {
     "cell_type": "code",
     "collapsed": false,
     "input": [
      "df1.info()"
     ],
     "language": "python",
     "metadata": {},
     "outputs": [
      {
       "output_type": "stream",
       "stream": "stdout",
       "text": [
        "<class 'pandas.core.frame.DataFrame'>\n",
        "Int64Index: 24321 entries, 0 to 24320\n",
        "Columns: 203 entries, ImageNumber to Parent_Spindles\n",
        "dtypes: float64(189), int64(10), object(4)\n",
        "memory usage: 37.9+ MB\n"
       ]
      }
     ],
     "prompt_number": 104
    },
    {
     "cell_type": "code",
     "collapsed": false,
     "input": [
      "df1.head(1)"
     ],
     "language": "python",
     "metadata": {},
     "outputs": [
      {
       "html": [
        "<div style=\"max-height:1000px;max-width:1500px;overflow:auto;\">\n",
        "<table border=\"1\" class=\"dataframe\">\n",
        "  <thead>\n",
        "    <tr style=\"text-align: right;\">\n",
        "      <th></th>\n",
        "      <th>ImageNumber</th>\n",
        "      <th>ObjectNumber</th>\n",
        "      <th>Metadata_Experiment</th>\n",
        "      <th>Metadata_Experimenter</th>\n",
        "      <th>Metadata_FileLocation</th>\n",
        "      <th>Metadata_Frame</th>\n",
        "      <th>Metadata_Series</th>\n",
        "      <th>Metadata_Set</th>\n",
        "      <th>Metadata_Treatment</th>\n",
        "      <th>Metadata_Type</th>\n",
        "      <th>...</th>\n",
        "      <th>Mean_FilteredChromatin_Location_CenterMassIntensity_Y_Rhodamine</th>\n",
        "      <th>Mean_FilteredChromatin_Location_Center_X</th>\n",
        "      <th>Mean_FilteredChromatin_Location_Center_Y</th>\n",
        "      <th>Mean_FilteredChromatin_Location_MaxIntensity_X_DNA</th>\n",
        "      <th>Mean_FilteredChromatin_Location_MaxIntensity_X_Rhodamine</th>\n",
        "      <th>Mean_FilteredChromatin_Location_MaxIntensity_Y_DNA</th>\n",
        "      <th>Mean_FilteredChromatin_Location_MaxIntensity_Y_Rhodamine</th>\n",
        "      <th>Mean_FilteredChromatin_Number_Object_Number</th>\n",
        "      <th>Number_Object_Number</th>\n",
        "      <th>Parent_Spindles</th>\n",
        "    </tr>\n",
        "  </thead>\n",
        "  <tbody>\n",
        "    <tr>\n",
        "      <th>0</th>\n",
        "      <td> 1</td>\n",
        "      <td> 1</td>\n",
        "      <td> Exp00</td>\n",
        "      <td> AWG</td>\n",
        "      <td>NaN</td>\n",
        "      <td> 0</td>\n",
        "      <td> 0</td>\n",
        "      <td> stage10.5A_40x_second scope</td>\n",
        "      <td> 105</td>\n",
        "      <td> STG</td>\n",
        "      <td>...</td>\n",
        "      <td> 532.677614</td>\n",
        "      <td> 737.334284</td>\n",
        "      <td> 533.278871</td>\n",
        "      <td> 732</td>\n",
        "      <td> 764</td>\n",
        "      <td> 542</td>\n",
        "      <td> 535</td>\n",
        "      <td> 1</td>\n",
        "      <td> 1</td>\n",
        "      <td> 1</td>\n",
        "    </tr>\n",
        "  </tbody>\n",
        "</table>\n",
        "<p>1 rows \u00d7 203 columns</p>\n",
        "</div>"
       ],
       "metadata": {},
       "output_type": "pyout",
       "prompt_number": 107,
       "text": [
        "   ImageNumber  ObjectNumber Metadata_Experiment Metadata_Experimenter  \\\n",
        "0            1             1               Exp00                   AWG   \n",
        "\n",
        "   Metadata_FileLocation  Metadata_Frame  Metadata_Series  \\\n",
        "0                    NaN               0                0   \n",
        "\n",
        "                  Metadata_Set  Metadata_Treatment Metadata_Type  \\\n",
        "0  stage10.5A_40x_second scope                 105           STG   \n",
        "\n",
        "        ...         \\\n",
        "0       ...          \n",
        "\n",
        "   Mean_FilteredChromatin_Location_CenterMassIntensity_Y_Rhodamine  \\\n",
        "0                                         532.677614                 \n",
        "\n",
        "   Mean_FilteredChromatin_Location_Center_X  \\\n",
        "0                                737.334284   \n",
        "\n",
        "   Mean_FilteredChromatin_Location_Center_Y  \\\n",
        "0                                533.278871   \n",
        "\n",
        "   Mean_FilteredChromatin_Location_MaxIntensity_X_DNA  \\\n",
        "0                                                732    \n",
        "\n",
        "   Mean_FilteredChromatin_Location_MaxIntensity_X_Rhodamine  \\\n",
        "0                                                764          \n",
        "\n",
        "   Mean_FilteredChromatin_Location_MaxIntensity_Y_DNA  \\\n",
        "0                                                542    \n",
        "\n",
        "   Mean_FilteredChromatin_Location_MaxIntensity_Y_Rhodamine  \\\n",
        "0                                                535          \n",
        "\n",
        "   Mean_FilteredChromatin_Number_Object_Number  Number_Object_Number  \\\n",
        "0                                            1                     1   \n",
        "\n",
        "   Parent_Spindles  \n",
        "0                1  \n",
        "\n",
        "[1 rows x 203 columns]"
       ]
      }
     ],
     "prompt_number": 107
    },
    {
     "cell_type": "code",
     "collapsed": false,
     "input": [
      "df1.columns"
     ],
     "language": "python",
     "metadata": {},
     "outputs": [
      {
       "metadata": {},
       "output_type": "pyout",
       "prompt_number": 5,
       "text": [
        "Index([u'ImageNumber', u'ObjectNumber', u'Metadata_Experiment', u'Metadata_Experimenter', u'Metadata_FileLocation', u'Metadata_Frame', u'Metadata_Series', u'Metadata_Set', u'Metadata_Treatment', u'Metadata_Type', u'Metadata_cvsp', u'AreaShape_Area', u'AreaShape_Center_X', u'AreaShape_Center_Y', u'AreaShape_Compactness', u'AreaShape_Eccentricity', u'AreaShape_EulerNumber', u'AreaShape_Extent', u'AreaShape_FormFactor', u'AreaShape_MajorAxisLength', u'AreaShape_MaxFeretDiameter', u'AreaShape_MaximumRadius', u'AreaShape_MeanRadius', u'AreaShape_MedianRadius', u'AreaShape_MinFeretDiameter', u'AreaShape_MinorAxisLength', u'AreaShape_Orientation', u'AreaShape_Perimeter', u'AreaShape_Solidity', u'AreaShape_Zernike_0_0', u'AreaShape_Zernike_1_1', u'AreaShape_Zernike_2_0', u'AreaShape_Zernike_2_2', u'AreaShape_Zernike_3_1', u'AreaShape_Zernike_3_3', u'AreaShape_Zernike_4_0', u'AreaShape_Zernike_4_2', u'AreaShape_Zernike_4_4', u'AreaShape_Zernike_5_1', u'AreaShape_Zernike_5_3', u'AreaShape_Zernike_5_5', u'AreaShape_Zernike_6_0', u'AreaShape_Zernike_6_2', u'AreaShape_Zernike_6_4', u'AreaShape_Zernike_6_6', u'AreaShape_Zernike_7_1', u'AreaShape_Zernike_7_3', u'AreaShape_Zernike_7_5', u'AreaShape_Zernike_7_7', u'AreaShape_Zernike_8_0', u'AreaShape_Zernike_8_2', u'AreaShape_Zernike_8_4', u'AreaShape_Zernike_8_6', u'AreaShape_Zernike_8_8', u'AreaShape_Zernike_9_1', u'AreaShape_Zernike_9_3', u'AreaShape_Zernike_9_5', u'AreaShape_Zernike_9_7', u'AreaShape_Zernike_9_9', u'Children_FilteredChromatin_Count', u'Intensity_IntegratedIntensityEdge_DNA', u'Intensity_IntegratedIntensityEdge_Rhodamine', u'Intensity_IntegratedIntensity_DNA', u'Intensity_IntegratedIntensity_Rhodamine', u'Intensity_LowerQuartileIntensity_DNA', u'Intensity_LowerQuartileIntensity_Rhodamine', u'Intensity_MADIntensity_DNA', u'Intensity_MADIntensity_Rhodamine', u'Intensity_MassDisplacement_DNA', u'Intensity_MassDisplacement_Rhodamine', u'Intensity_MaxIntensityEdge_DNA', u'Intensity_MaxIntensityEdge_Rhodamine', u'Intensity_MaxIntensity_DNA', u'Intensity_MaxIntensity_Rhodamine', u'Intensity_MeanIntensityEdge_DNA', u'Intensity_MeanIntensityEdge_Rhodamine', u'Intensity_MeanIntensity_DNA', u'Intensity_MeanIntensity_Rhodamine', u'Intensity_MedianIntensity_DNA', u'Intensity_MedianIntensity_Rhodamine', u'Intensity_MinIntensityEdge_DNA', u'Intensity_MinIntensityEdge_Rhodamine', u'Intensity_MinIntensity_DNA', u'Intensity_MinIntensity_Rhodamine', u'Intensity_StdIntensityEdge_DNA', u'Intensity_StdIntensityEdge_Rhodamine', u'Intensity_StdIntensity_DNA', u'Intensity_StdIntensity_Rhodamine', u'Intensity_UpperQuartileIntensity_DNA', u'Intensity_UpperQuartileIntensity_Rhodamine', u'Location_CenterMassIntensity_X_DNA', u'Location_CenterMassIntensity_X_Rhodamine', u'Location_CenterMassIntensity_Y_DNA', u'Location_CenterMassIntensity_Y_Rhodamine', u'Location_Center_X', u'Location_Center_Y', u'Location_MaxIntensity_X_DNA', u'Location_MaxIntensity_X_Rhodamine', u'Location_MaxIntensity_Y_DNA', u'Location_MaxIntensity_Y_Rhodamine', ...], dtype='object')"
       ]
      }
     ],
     "prompt_number": 5
    },
    {
     "cell_type": "markdown",
     "metadata": {},
     "source": [
      "Data comes from several people. How many?"
     ]
    },
    {
     "cell_type": "code",
     "collapsed": false,
     "input": [
      "np.unique(df1.Metadata_Experimenter)"
     ],
     "language": "python",
     "metadata": {},
     "outputs": [
      {
       "metadata": {},
       "output_type": "pyout",
       "prompt_number": 7,
       "text": [
        "array(['AWG', 'KHR', 'MAS', 'MEC'], dtype=object)"
       ]
      }
     ],
     "prompt_number": 7
    },
    {
     "cell_type": "markdown",
     "metadata": {},
     "source": [
      "Data comes from 4 people. What is the individual split?"
     ]
    },
    {
     "cell_type": "code",
     "collapsed": false,
     "input": [
      "grouped_by_person=df1.groupby('Metadata_Experimenter')\n",
      "grouped_by_person.count().iloc[:,0]"
     ],
     "language": "python",
     "metadata": {},
     "outputs": [
      {
       "metadata": {},
       "output_type": "pyout",
       "prompt_number": 12,
       "text": [
        "Metadata_Experimenter\n",
        "AWG                      10260\n",
        "KHR                       8190\n",
        "MAS                       3250\n",
        "MEC                       2621\n",
        "Name: ImageNumber, dtype: int64"
       ]
      }
     ],
     "prompt_number": 12
    },
    {
     "cell_type": "markdown",
     "metadata": {},
     "source": [
      "We will need to subsample to predict the person. Which is the column to predict?"
     ]
    },
    {
     "cell_type": "code",
     "collapsed": false,
     "input": [
      "np.unique(df1.Metadata_Treatment)"
     ],
     "language": "python",
     "metadata": {},
     "outputs": [
      {
       "metadata": {},
       "output_type": "pyout",
       "prompt_number": 19,
       "text": [
        "array([  0,   1,   2,   3,   4,   5,   6,   8,  80,  84,  86,  87, 105,\n",
        "       130, 131, 150, 160, 171, 200, 201, 203, 205, 302, 349, 420, 501,\n",
        "       503, 505, 512, 800, 850, 875, 890, 895, 899])"
       ]
      }
     ],
     "prompt_number": 19
    },
    {
     "cell_type": "code",
     "collapsed": false,
     "input": [
      "np.unique(df1.Metadata_Type)"
     ],
     "language": "python",
     "metadata": {},
     "outputs": [
      {
       "metadata": {},
       "output_type": "pyout",
       "prompt_number": 20,
       "text": [
        "array(['BDS', 'CSF', 'CYC', 'STG'], dtype=object)"
       ]
      }
     ],
     "prompt_number": 20
    },
    {
     "cell_type": "markdown",
     "metadata": {},
     "source": [
      "The first approximation seeks to distinguish CSF from CYC spindles. Chromatin is not used. Again, in this first project attempt, NA's will simmply be dropped. This is not the ultimate way to approach the project. We will use more sophisicated ways to deal with NA's in the subsequent versions."
     ]
    },
    {
     "cell_type": "markdown",
     "metadata": {},
     "source": [
      "Let's grab the metadata and drop everything apart from the target column (Metadata_Type)."
     ]
    },
    {
     "cell_type": "code",
     "collapsed": false,
     "input": [
      "meta_cols=[]\n",
      "for col in df1.columns:\n",
      "    try:\n",
      "        meta_cols.append(re.search('(^Meta.+)',col).group(1))\n",
      "    except AttributeError:\n",
      "        continue"
     ],
     "language": "python",
     "metadata": {},
     "outputs": [],
     "prompt_number": 57
    },
    {
     "cell_type": "code",
     "collapsed": false,
     "input": [
      "meta_cols.insert(0,df1.columns[0])"
     ],
     "language": "python",
     "metadata": {},
     "outputs": [],
     "prompt_number": 68
    },
    {
     "cell_type": "code",
     "collapsed": false,
     "input": [
      "meta_cols.insert(1,df1.columns[1])"
     ],
     "language": "python",
     "metadata": {},
     "outputs": [],
     "prompt_number": 70
    },
    {
     "cell_type": "code",
     "collapsed": false,
     "input": [
      "len(df1.columns)"
     ],
     "language": "python",
     "metadata": {},
     "outputs": [
      {
       "metadata": {},
       "output_type": "pyout",
       "prompt_number": 76,
       "text": [
        "203"
       ]
      }
     ],
     "prompt_number": 76
    },
    {
     "cell_type": "code",
     "collapsed": false,
     "input": [
      "len(meta_cols)"
     ],
     "language": "python",
     "metadata": {},
     "outputs": [
      {
       "metadata": {},
       "output_type": "pyout",
       "prompt_number": 73,
       "text": [
        "11"
       ]
      }
     ],
     "prompt_number": 73
    },
    {
     "cell_type": "code",
     "collapsed": false,
     "input": [
      "df1.columns[0:11]"
     ],
     "language": "python",
     "metadata": {},
     "outputs": [
      {
       "metadata": {},
       "output_type": "pyout",
       "prompt_number": 75,
       "text": [
        "Index([u'ImageNumber', u'ObjectNumber', u'Metadata_Experiment', u'Metadata_Experimenter', u'Metadata_FileLocation', u'Metadata_Frame', u'Metadata_Series', u'Metadata_Set', u'Metadata_Treatment', u'Metadata_Type', u'Metadata_cvsp'], dtype='object')"
       ]
      }
     ],
     "prompt_number": 75
    },
    {
     "cell_type": "markdown",
     "metadata": {},
     "source": [
      "The columns above are Metadata columns that can be used as categories. "
     ]
    },
    {
     "cell_type": "heading",
     "level": 3,
     "metadata": {},
     "source": [
      "Pre-processing"
     ]
    },
    {
     "cell_type": "heading",
     "level": 4,
     "metadata": {},
     "source": [
      "1. Missing data "
     ]
    },
    {
     "cell_type": "code",
     "collapsed": false,
     "input": [
      "df1_numericals=df1[list(set(meta_cols).symmetric_difference(df1.columns))].head()"
     ],
     "language": "python",
     "metadata": {},
     "outputs": [],
     "prompt_number": 108
    },
    {
     "cell_type": "code",
     "collapsed": false,
     "input": [
      "np.sum(np.sum(df1_numericals.isnull()))"
     ],
     "language": "python",
     "metadata": {},
     "outputs": [
      {
       "metadata": {},
       "output_type": "pyout",
       "prompt_number": 111,
       "text": [
        "10"
       ]
      }
     ],
     "prompt_number": 111
    },
    {
     "cell_type": "code",
     "collapsed": false,
     "input": [
      "100*np.sum(np.sum(df1_numericals.isnull()))/(float(df1.shape[0])*df1.shape[1])"
     ],
     "language": "python",
     "metadata": {},
     "outputs": [
      {
       "metadata": {},
       "output_type": "pyout",
       "prompt_number": 114,
       "text": [
        "0.00020254546993891026"
       ]
      }
     ],
     "prompt_number": 114
    },
    {
     "cell_type": "markdown",
     "metadata": {},
     "source": [
      "There are 10 numerical values missing in the data set (only 0.02% of the complete data set)."
     ]
    },
    {
     "cell_type": "code",
     "collapsed": false,
     "input": [],
     "language": "python",
     "metadata": {},
     "outputs": []
    },
    {
     "cell_type": "code",
     "collapsed": false,
     "input": [],
     "language": "python",
     "metadata": {},
     "outputs": []
    }
   ],
   "metadata": {}
  }
 ]
}